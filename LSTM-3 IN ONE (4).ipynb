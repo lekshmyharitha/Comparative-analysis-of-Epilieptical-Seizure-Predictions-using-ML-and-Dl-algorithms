{
 "cells": [
  {
   "cell_type": "code",
   "execution_count": 9,
   "metadata": {},
   "outputs": [],
   "source": [
    "import tensorflow as tf\n",
    "import numpy as np\n",
    "from keras.models import Sequential\n",
    "from keras.utils import np_utils\n",
    "from keras.layers import Dense, Activation , LSTM , Dropout , AveragePooling3D\n",
    "import pandas as pd\n",
    "from sklearn.model_selection import train_test_split\n",
    "import matplotlib.pyplot as plt"
   ]
  },
  {
   "cell_type": "code",
   "execution_count": 10,
   "metadata": {},
   "outputs": [
    {
     "data": {
      "text/html": [
       "<div>\n",
       "<style scoped>\n",
       "    .dataframe tbody tr th:only-of-type {\n",
       "        vertical-align: middle;\n",
       "    }\n",
       "\n",
       "    .dataframe tbody tr th {\n",
       "        vertical-align: top;\n",
       "    }\n",
       "\n",
       "    .dataframe thead th {\n",
       "        text-align: right;\n",
       "    }\n",
       "</style>\n",
       "<table border=\"1\" class=\"dataframe\">\n",
       "  <thead>\n",
       "    <tr style=\"text-align: right;\">\n",
       "      <th></th>\n",
       "      <th>Unnamed: 0</th>\n",
       "      <th>X1</th>\n",
       "      <th>X2</th>\n",
       "      <th>X3</th>\n",
       "      <th>X4</th>\n",
       "      <th>X5</th>\n",
       "      <th>X6</th>\n",
       "      <th>X7</th>\n",
       "      <th>X8</th>\n",
       "      <th>X9</th>\n",
       "      <th>...</th>\n",
       "      <th>X170</th>\n",
       "      <th>X171</th>\n",
       "      <th>X172</th>\n",
       "      <th>X173</th>\n",
       "      <th>X174</th>\n",
       "      <th>X175</th>\n",
       "      <th>X176</th>\n",
       "      <th>X177</th>\n",
       "      <th>X178</th>\n",
       "      <th>y</th>\n",
       "    </tr>\n",
       "  </thead>\n",
       "  <tbody>\n",
       "    <tr>\n",
       "      <th>0</th>\n",
       "      <td>X21.V1.791</td>\n",
       "      <td>135</td>\n",
       "      <td>190</td>\n",
       "      <td>229</td>\n",
       "      <td>223</td>\n",
       "      <td>192</td>\n",
       "      <td>125</td>\n",
       "      <td>55</td>\n",
       "      <td>-9</td>\n",
       "      <td>-33</td>\n",
       "      <td>...</td>\n",
       "      <td>-17</td>\n",
       "      <td>-15</td>\n",
       "      <td>-31</td>\n",
       "      <td>-77</td>\n",
       "      <td>-103</td>\n",
       "      <td>-127</td>\n",
       "      <td>-116</td>\n",
       "      <td>-83</td>\n",
       "      <td>-51</td>\n",
       "      <td>4</td>\n",
       "    </tr>\n",
       "    <tr>\n",
       "      <th>1</th>\n",
       "      <td>X15.V1.924</td>\n",
       "      <td>386</td>\n",
       "      <td>382</td>\n",
       "      <td>356</td>\n",
       "      <td>331</td>\n",
       "      <td>320</td>\n",
       "      <td>315</td>\n",
       "      <td>307</td>\n",
       "      <td>272</td>\n",
       "      <td>244</td>\n",
       "      <td>...</td>\n",
       "      <td>164</td>\n",
       "      <td>150</td>\n",
       "      <td>146</td>\n",
       "      <td>152</td>\n",
       "      <td>157</td>\n",
       "      <td>156</td>\n",
       "      <td>154</td>\n",
       "      <td>143</td>\n",
       "      <td>129</td>\n",
       "      <td>1</td>\n",
       "    </tr>\n",
       "    <tr>\n",
       "      <th>2</th>\n",
       "      <td>X8.V1.1</td>\n",
       "      <td>-32</td>\n",
       "      <td>-39</td>\n",
       "      <td>-47</td>\n",
       "      <td>-37</td>\n",
       "      <td>-32</td>\n",
       "      <td>-36</td>\n",
       "      <td>-57</td>\n",
       "      <td>-73</td>\n",
       "      <td>-85</td>\n",
       "      <td>...</td>\n",
       "      <td>57</td>\n",
       "      <td>64</td>\n",
       "      <td>48</td>\n",
       "      <td>19</td>\n",
       "      <td>-12</td>\n",
       "      <td>-30</td>\n",
       "      <td>-35</td>\n",
       "      <td>-35</td>\n",
       "      <td>-36</td>\n",
       "      <td>5</td>\n",
       "    </tr>\n",
       "    <tr>\n",
       "      <th>3</th>\n",
       "      <td>X16.V1.60</td>\n",
       "      <td>-105</td>\n",
       "      <td>-101</td>\n",
       "      <td>-96</td>\n",
       "      <td>-92</td>\n",
       "      <td>-89</td>\n",
       "      <td>-95</td>\n",
       "      <td>-102</td>\n",
       "      <td>-100</td>\n",
       "      <td>-87</td>\n",
       "      <td>...</td>\n",
       "      <td>-82</td>\n",
       "      <td>-81</td>\n",
       "      <td>-80</td>\n",
       "      <td>-77</td>\n",
       "      <td>-85</td>\n",
       "      <td>-77</td>\n",
       "      <td>-72</td>\n",
       "      <td>-69</td>\n",
       "      <td>-65</td>\n",
       "      <td>5</td>\n",
       "    </tr>\n",
       "    <tr>\n",
       "      <th>4</th>\n",
       "      <td>X20.V1.54</td>\n",
       "      <td>-9</td>\n",
       "      <td>-65</td>\n",
       "      <td>-98</td>\n",
       "      <td>-102</td>\n",
       "      <td>-78</td>\n",
       "      <td>-48</td>\n",
       "      <td>-16</td>\n",
       "      <td>0</td>\n",
       "      <td>-21</td>\n",
       "      <td>...</td>\n",
       "      <td>4</td>\n",
       "      <td>2</td>\n",
       "      <td>-12</td>\n",
       "      <td>-32</td>\n",
       "      <td>-41</td>\n",
       "      <td>-65</td>\n",
       "      <td>-83</td>\n",
       "      <td>-89</td>\n",
       "      <td>-73</td>\n",
       "      <td>5</td>\n",
       "    </tr>\n",
       "  </tbody>\n",
       "</table>\n",
       "<p>5 rows × 180 columns</p>\n",
       "</div>"
      ],
      "text/plain": [
       "   Unnamed: 0   X1   X2   X3   X4   X5   X6   X7   X8   X9  ...  X170  X171  \\\n",
       "0  X21.V1.791  135  190  229  223  192  125   55   -9  -33  ...   -17   -15   \n",
       "1  X15.V1.924  386  382  356  331  320  315  307  272  244  ...   164   150   \n",
       "2     X8.V1.1  -32  -39  -47  -37  -32  -36  -57  -73  -85  ...    57    64   \n",
       "3   X16.V1.60 -105 -101  -96  -92  -89  -95 -102 -100  -87  ...   -82   -81   \n",
       "4   X20.V1.54   -9  -65  -98 -102  -78  -48  -16    0  -21  ...     4     2   \n",
       "\n",
       "   X172  X173  X174  X175  X176  X177  X178  y  \n",
       "0   -31   -77  -103  -127  -116   -83   -51  4  \n",
       "1   146   152   157   156   154   143   129  1  \n",
       "2    48    19   -12   -30   -35   -35   -36  5  \n",
       "3   -80   -77   -85   -77   -72   -69   -65  5  \n",
       "4   -12   -32   -41   -65   -83   -89   -73  5  \n",
       "\n",
       "[5 rows x 180 columns]"
      ]
     },
     "execution_count": 10,
     "metadata": {},
     "output_type": "execute_result"
    }
   ],
   "source": [
    "df=pd.read_csv('data.csv')\n",
    "df.head()"
   ]
  },
  {
   "cell_type": "code",
   "execution_count": 11,
   "metadata": {},
   "outputs": [],
   "source": [
    "X=df.values"
   ]
  },
  {
   "cell_type": "code",
   "execution_count": 12,
   "metadata": {},
   "outputs": [
    {
     "data": {
      "text/plain": [
       "(11500, 180)"
      ]
     },
     "execution_count": 12,
     "metadata": {},
     "output_type": "execute_result"
    }
   ],
   "source": [
    "np.shape(X)"
   ]
  },
  {
   "cell_type": "code",
   "execution_count": 13,
   "metadata": {},
   "outputs": [],
   "source": [
    "\n",
    "X=X[:,1:-1]\n"
   ]
  },
  {
   "cell_type": "code",
   "execution_count": 14,
   "metadata": {},
   "outputs": [
    {
     "data": {
      "text/plain": [
       "array([[135, 190, 229, ..., -116, -83, -51],\n",
       "       [386, 382, 356, ..., 154, 143, 129],\n",
       "       [-32, -39, -47, ..., -35, -35, -36],\n",
       "       ...,\n",
       "       [14, 6, -13, ..., -2, -1, -8],\n",
       "       [-40, -25, -9, ..., 68, 59, 55],\n",
       "       [29, 41, 57, ..., -2, 2, 20]], dtype=object)"
      ]
     },
     "execution_count": 14,
     "metadata": {},
     "output_type": "execute_result"
    }
   ],
   "source": [
    "X"
   ]
  },
  {
   "cell_type": "code",
   "execution_count": 15,
   "metadata": {},
   "outputs": [],
   "source": [
    "#from sklearn.model_selection import train_test_split\n",
    "y=np.array(df['y'])\n",
    "Y=np_utils.to_categorical(y)\n",
    "Y.shape\n",
    "X_train, X_test, Y_train, Y_test = train_test_split(X, Y, test_size=0.20, random_state=1)"
   ]
  },
  {
   "cell_type": "code",
   "execution_count": null,
   "metadata": {},
   "outputs": [],
   "source": []
  },
  {
   "cell_type": "code",
   "execution_count": 16,
   "metadata": {},
   "outputs": [
    {
     "data": {
      "text/plain": [
       "(2300, 178)"
      ]
     },
     "execution_count": 16,
     "metadata": {},
     "output_type": "execute_result"
    }
   ],
   "source": [
    "np.shape(X_test)"
   ]
  },
  {
   "cell_type": "code",
   "execution_count": 17,
   "metadata": {},
   "outputs": [
    {
     "data": {
      "text/plain": [
       "(2300, 178, 1)"
      ]
     },
     "execution_count": 17,
     "metadata": {},
     "output_type": "execute_result"
    }
   ],
   "source": [
    "X_train = X_train.reshape(-1,178,1)\n",
    "X_test = X_test.reshape(-1,178,1)\n",
    "X_train.shape\n",
    "X_test.shape"
   ]
  },
  {
   "cell_type": "code",
   "execution_count": 138,
   "metadata": {},
   "outputs": [
    {
     "data": {
      "text/plain": [
       "array([[-163, -155, -136, ..., -100, -99, -87],\n",
       "       [-279, -271, -163, ..., -106, -89, -68],\n",
       "       [51, 54, 42, ..., 81, 40, 8],\n",
       "       ...,\n",
       "       [70, 117, 78, ..., 16, 58, 88],\n",
       "       [-1, 22, 42, ..., 2, -12, -9],\n",
       "       [-22, -11, -10, ..., 28, 25, 18]], dtype=object)"
      ]
     },
     "execution_count": 138,
     "metadata": {},
     "output_type": "execute_result"
    }
   ],
   "source": [
    "X_train"
   ]
  },
  {
   "cell_type": "code",
   "execution_count": 139,
   "metadata": {},
   "outputs": [
    {
     "data": {
      "text/plain": [
       "array([[0., 0., 1., 0., 0., 0.],\n",
       "       [0., 1., 0., 0., 0., 0.],\n",
       "       [0., 1., 0., 0., 0., 0.],\n",
       "       ...,\n",
       "       [0., 1., 0., 0., 0., 0.],\n",
       "       [0., 0., 1., 0., 0., 0.],\n",
       "       [0., 0., 1., 0., 0., 0.]], dtype=float32)"
      ]
     },
     "execution_count": 139,
     "metadata": {},
     "output_type": "execute_result"
    }
   ],
   "source": [
    "Y_test"
   ]
  },
  {
   "cell_type": "code",
   "execution_count": 7,
   "metadata": {},
   "outputs": [
    {
     "data": {
      "image/png": "[encoded data removed]",
      "text/plain": [
       "<Figure size 864x576 with 1 Axes>"
      ]
     },
     "metadata": {
      "needs_background": "light"
     },
     "output_type": "display_data"
    }
   ],
   "source": [
    "plt.figure(figsize=(12,8))\n",
    "plt.plot(X[1,:],label='1')\n",
    "plt.plot(X[7,:],label='2')\n",
    "plt.plot(X[12,:],label='3')\n",
    "plt.plot(X[0,:],label='4')\n",
    "plt.plot(X[2,:],label='5')\n",
    "plt.legend()\n",
    "plt.show()"
   ]
  },
  {
   "cell_type": "code",
   "execution_count": 18,
   "metadata": {},
   "outputs": [
    {
     "name": "stdout",
     "output_type": "stream",
     "text": [
      "Model: \"sequential\"\n",
      "_________________________________________________________________\n",
      "Layer (type)                 Output Shape              Param #   \n",
      "=================================================================\n",
      "lstm (LSTM)                  (None, 45, 56)            12992     \n",
      "_________________________________________________________________\n",
      "dropout (Dropout)            (None, 45, 56)            0         \n",
      "_________________________________________________________________\n",
      "lstm_1 (LSTM)                (None, 56)                25312     \n",
      "_________________________________________________________________\n",
      "dropout_1 (Dropout)          (None, 56)                0         \n",
      "_________________________________________________________________\n",
      "dense (Dense)                (None, 20)                1140      \n",
      "_________________________________________________________________\n",
      "activation (Activation)      (None, 20)                0         \n",
      "_________________________________________________________________\n",
      "dense_1 (Dense)              (None, 5)                 105       \n",
      "_________________________________________________________________\n",
      "activation_1 (Activation)    (None, 5)                 0         \n",
      "=================================================================\n",
      "Total params: 39,549\n",
      "Trainable params: 39,549\n",
      "Non-trainable params: 0\n",
      "_________________________________________________________________\n"
     ]
    }
   ],
   "source": [
    "model = Sequential()\n",
    "model.add(LSTM(56, input_shape=(45,1)))\n",
    "model.add(Dropout(0.3))\n",
    "model.add(LSTM(56))\n",
    "model.add(Dropout(0.3))\n",
    "model.add(Dense(20))\n",
    "model.add(Activation('tanh'))\n",
    "model.add(Dense(5))\n",
    "model.add(Activation('softmax'))\n",
    "\n",
    "model.summary()"
   ]
  },
  {
   "cell_type": "code",
   "execution_count": 19,
   "metadata": {},
   "outputs": [],
   "source": [
    "model.compile(loss='binary_crossentropy', optimizer='adam', metrics=['accuracy'])"
   ]
  },
  {
   "cell_type": "code",
   "execution_count": null,
   "metadata": {},
   "outputs": [],
   "source": [
    "#try X=np.asarray(X).astype(np.float32) and Y=np.asarray(Y).astype(np.float32) before passing X and Y to model"
   ]
  },
  {
   "cell_type": "code",
   "execution_count": 20,
   "metadata": {},
   "outputs": [],
   "source": [
    "X=(X_train[:,::4]-X_train.mean())/X_train.std()\n",
    "X=np.asarray(X).astype(np.float32)\n",
    "Y=Y_train[:,1:]\n",
    "Y=np.asarray(Y).astype(np.float32)"
   ]
  },
  {
   "cell_type": "code",
   "execution_count": 23,
   "metadata": {},
   "outputs": [
    {
     "data": {
      "text/plain": [
       "array([[-157, -127, -96, ..., -73, -104, -87],\n",
       "       [-212, -23, 77, ..., -196, -163, -68],\n",
       "       [52, 31, 23, ..., 189, 167, 8],\n",
       "       ...,\n",
       "       [43, 5, -135, ..., -17, 15, 88],\n",
       "       [-27, 41, -19, ..., -26, 26, -9],\n",
       "       [-30, -6, -12, ..., 17, 22, 18]], dtype=object)"
      ]
     },
     "execution_count": 23,
     "metadata": {},
     "output_type": "execute_result"
    }
   ],
   "source": [
    "X_train"
   ]
  },
  {
   "cell_type": "code",
   "execution_count": 32,
   "metadata": {},
   "outputs": [
    {
     "data": {
      "text/plain": [
       "(9200, 45, 1)"
      ]
     },
     "execution_count": 32,
     "metadata": {},
     "output_type": "execute_result"
    }
   ],
   "source": [
    "np.shape(X)"
   ]
  },
  {
   "cell_type": "code",
   "execution_count": 145,
   "metadata": {},
   "outputs": [
    {
     "data": {
      "text/plain": [
       "array([[0., 0., 0., 0., 0., 1.],\n",
       "       [0., 1., 0., 0., 0., 0.],\n",
       "       [0., 0., 0., 0., 1., 0.],\n",
       "       ...,\n",
       "       [0., 0., 0., 0., 1., 0.],\n",
       "       [0., 0., 0., 0., 0., 1.],\n",
       "       [0., 0., 1., 0., 0., 0.]], dtype=float32)"
      ]
     },
     "execution_count": 145,
     "metadata": {},
     "output_type": "execute_result"
    }
   ],
   "source": [
    "Y_train"
   ]
  },
  {
   "cell_type": "code",
   "execution_count": 158,
   "metadata": {},
   "outputs": [
    {
     "data": {
      "text/plain": [
       "array([[0., 0., 0., 0., 1.],\n",
       "       [1., 0., 0., 0., 0.],\n",
       "       [0., 0., 0., 1., 0.],\n",
       "       ...,\n",
       "       [0., 0., 0., 1., 0.],\n",
       "       [0., 0., 0., 0., 1.],\n",
       "       [0., 1., 0., 0., 0.]], dtype=float32)"
      ]
     },
     "execution_count": 158,
     "metadata": {},
     "output_type": "execute_result"
    }
   ],
   "source": [
    "np.shape(Y)\n",
    "Y"
   ]
  },
  {
   "cell_type": "code",
   "execution_count": 21,
   "metadata": {},
   "outputs": [],
   "source": [
    "XT=(X_test[:,::4]-X_test.mean())/X_test.std()\n",
    "XT=np.asarray(XT).astype(np.float32)\n",
    "YT=Y_test[:,1:]\n",
    "YT=np.asarray(YT).astype(np.float32)"
   ]
  },
  {
   "cell_type": "code",
   "execution_count": 53,
   "metadata": {},
   "outputs": [],
   "source": [
    "BS=15\n",
    "epochsn=15"
   ]
  },
  {
   "cell_type": "code",
   "execution_count": 23,
   "metadata": {},
   "outputs": [
    {
     "name": "stdout",
     "output_type": "stream",
     "text": [
      "Epoch 1/50\n",
      "614/614 [==============================] - 31s 51ms/step - loss: 0.3839 - accuracy: 0.4247 - val_loss: 0.3817 - val_accuracy: 0.4709\n",
      "Epoch 2/50\n",
      "614/614 [==============================] - 28s 46ms/step - loss: 0.3535 - accuracy: 0.5013 - val_loss: 0.3235 - val_accuracy: 0.5857\n",
      "Epoch 3/50\n",
      "614/614 [==============================] - 26s 43ms/step - loss: 0.3020 - accuracy: 0.5950 - val_loss: 0.2640 - val_accuracy: 0.6674\n",
      "Epoch 4/50\n",
      "614/614 [==============================] - 21s 34ms/step - loss: 0.2658 - accuracy: 0.6426 - val_loss: 0.2490 - val_accuracy: 0.6765\n",
      "Epoch 5/50\n",
      "614/614 [==============================] - 21s 34ms/step - loss: 0.2499 - accuracy: 0.6663 - val_loss: 0.2427 - val_accuracy: 0.6787\n",
      "Epoch 6/50\n",
      "614/614 [==============================] - 21s 35ms/step - loss: 0.2390 - accuracy: 0.6789 - val_loss: 0.2362 - val_accuracy: 0.6852\n",
      "Epoch 7/50\n",
      "614/614 [==============================] - 21s 35ms/step - loss: 0.2368 - accuracy: 0.6808 - val_loss: 0.2327 - val_accuracy: 0.6870\n",
      "Epoch 8/50\n",
      "614/614 [==============================] - 22s 36ms/step - loss: 0.2340 - accuracy: 0.6813 - val_loss: 0.2353 - val_accuracy: 0.6913\n",
      "Epoch 9/50\n",
      "614/614 [==============================] - 22s 35ms/step - loss: 0.2302 - accuracy: 0.6889 - val_loss: 0.2319 - val_accuracy: 0.6970\n",
      "Epoch 10/50\n",
      "614/614 [==============================] - 22s 36ms/step - loss: 0.2274 - accuracy: 0.6952 - val_loss: 0.2286 - val_accuracy: 0.6987\n",
      "Epoch 11/50\n",
      "614/614 [==============================] - 22s 36ms/step - loss: 0.2264 - accuracy: 0.6923 - val_loss: 0.2311 - val_accuracy: 0.6965\n",
      "Epoch 12/50\n",
      "614/614 [==============================] - 22s 36ms/step - loss: 0.2221 - accuracy: 0.7008 - val_loss: 0.2258 - val_accuracy: 0.6996\n",
      "Epoch 13/50\n",
      "614/614 [==============================] - 22s 35ms/step - loss: 0.2197 - accuracy: 0.7060 - val_loss: 0.2254 - val_accuracy: 0.7017\n",
      "Epoch 14/50\n",
      "614/614 [==============================] - 23s 37ms/step - loss: 0.2180 - accuracy: 0.7076 - val_loss: 0.2250 - val_accuracy: 0.7035\n",
      "Epoch 15/50\n",
      "614/614 [==============================] - 26s 42ms/step - loss: 0.2158 - accuracy: 0.7097 - val_loss: 0.2283 - val_accuracy: 0.7048\n",
      "Epoch 16/50\n",
      "614/614 [==============================] - 23s 37ms/step - loss: 0.2153 - accuracy: 0.7126 - val_loss: 0.2233 - val_accuracy: 0.7061\n",
      "Epoch 17/50\n",
      "614/614 [==============================] - 24s 39ms/step - loss: 0.2102 - accuracy: 0.7216 - val_loss: 0.2283 - val_accuracy: 0.7083\n",
      "Epoch 18/50\n",
      "614/614 [==============================] - 22s 36ms/step - loss: 0.2098 - accuracy: 0.7201 - val_loss: 0.2186 - val_accuracy: 0.7130\n",
      "Epoch 19/50\n",
      "614/614 [==============================] - 22s 36ms/step - loss: 0.2071 - accuracy: 0.7248 - val_loss: 0.2174 - val_accuracy: 0.7139\n",
      "Epoch 20/50\n",
      "614/614 [==============================] - 22s 36ms/step - loss: 0.2051 - accuracy: 0.7297 - val_loss: 0.2203 - val_accuracy: 0.7204\n",
      "Epoch 21/50\n",
      "614/614 [==============================] - 22s 36ms/step - loss: 0.2037 - accuracy: 0.7307 - val_loss: 0.2157 - val_accuracy: 0.7209\n",
      "Epoch 22/50\n",
      "614/614 [==============================] - 22s 36ms/step - loss: 0.1999 - accuracy: 0.7404 - val_loss: 0.2230 - val_accuracy: 0.7135\n",
      "Epoch 23/50\n",
      "614/614 [==============================] - 22s 36ms/step - loss: 0.1984 - accuracy: 0.7357 - val_loss: 0.2178 - val_accuracy: 0.7209\n",
      "Epoch 24/50\n",
      "614/614 [==============================] - 22s 36ms/step - loss: 0.1992 - accuracy: 0.7378 - val_loss: 0.2180 - val_accuracy: 0.7170\n",
      "Epoch 25/50\n",
      "614/614 [==============================] - 27s 44ms/step - loss: 0.1942 - accuracy: 0.7487 - val_loss: 0.2135 - val_accuracy: 0.7291\n",
      "Epoch 26/50\n",
      "614/614 [==============================] - 25s 41ms/step - loss: 0.1925 - accuracy: 0.7503 - val_loss: 0.2099 - val_accuracy: 0.7326\n",
      "Epoch 27/50\n",
      "614/614 [==============================] - 27s 44ms/step - loss: 0.1921 - accuracy: 0.7543 - val_loss: 0.2181 - val_accuracy: 0.7217\n",
      "Epoch 28/50\n",
      "614/614 [==============================] - 25s 40ms/step - loss: 0.1902 - accuracy: 0.7540 - val_loss: 0.2097 - val_accuracy: 0.7309\n",
      "Epoch 29/50\n",
      "614/614 [==============================] - 23s 38ms/step - loss: 0.1884 - accuracy: 0.7592 - val_loss: 0.2082 - val_accuracy: 0.7291\n",
      "Epoch 30/50\n",
      "614/614 [==============================] - 27s 43ms/step - loss: 0.1872 - accuracy: 0.7591 - val_loss: 0.2195 - val_accuracy: 0.7330\n",
      "Epoch 31/50\n",
      "614/614 [==============================] - 23s 38ms/step - loss: 0.1872 - accuracy: 0.7608 - val_loss: 0.2125 - val_accuracy: 0.7300\n",
      "Epoch 32/50\n",
      "614/614 [==============================] - 23s 37ms/step - loss: 0.1825 - accuracy: 0.7683 - val_loss: 0.2095 - val_accuracy: 0.7309\n",
      "Epoch 33/50\n",
      "614/614 [==============================] - 25s 40ms/step - loss: 0.1807 - accuracy: 0.7720 - val_loss: 0.2066 - val_accuracy: 0.7383\n",
      "Epoch 34/50\n",
      "614/614 [==============================] - 23s 37ms/step - loss: 0.1812 - accuracy: 0.7742 - val_loss: 0.2048 - val_accuracy: 0.7435\n",
      "Epoch 35/50\n",
      "614/614 [==============================] - 24s 39ms/step - loss: 0.1799 - accuracy: 0.7708 - val_loss: 0.2078 - val_accuracy: 0.7426\n",
      "Epoch 36/50\n",
      "614/614 [==============================] - 23s 37ms/step - loss: 0.1769 - accuracy: 0.7755 - val_loss: 0.2062 - val_accuracy: 0.7352\n",
      "Epoch 37/50\n",
      "614/614 [==============================] - 23s 38ms/step - loss: 0.1770 - accuracy: 0.7809 - val_loss: 0.2073 - val_accuracy: 0.7452\n",
      "Epoch 38/50\n",
      "614/614 [==============================] - 24s 40ms/step - loss: 0.1751 - accuracy: 0.7759 - val_loss: 0.2093 - val_accuracy: 0.7352\n",
      "Epoch 39/50\n",
      "614/614 [==============================] - 23s 38ms/step - loss: 0.1716 - accuracy: 0.7837 - val_loss: 0.2074 - val_accuracy: 0.7426\n",
      "Epoch 40/50\n",
      "614/614 [==============================] - 26s 42ms/step - loss: 0.1698 - accuracy: 0.7911 - val_loss: 0.2148 - val_accuracy: 0.7465\n",
      "Epoch 41/50\n",
      "614/614 [==============================] - 26s 43ms/step - loss: 0.1727 - accuracy: 0.7870 - val_loss: 0.2082 - val_accuracy: 0.7522\n",
      "Epoch 42/50\n",
      "614/614 [==============================] - 26s 42ms/step - loss: 0.1681 - accuracy: 0.7937 - val_loss: 0.2058 - val_accuracy: 0.7548\n",
      "Epoch 43/50\n",
      "614/614 [==============================] - 23s 37ms/step - loss: 0.1639 - accuracy: 0.7997 - val_loss: 0.2078 - val_accuracy: 0.7535\n",
      "Epoch 44/50\n",
      "614/614 [==============================] - 25s 40ms/step - loss: 0.1673 - accuracy: 0.7972 - val_loss: 0.2151 - val_accuracy: 0.7496\n",
      "Epoch 45/50\n",
      "614/614 [==============================] - 25s 41ms/step - loss: 0.1634 - accuracy: 0.7966 - val_loss: 0.2066 - val_accuracy: 0.7522\n",
      "Epoch 46/50\n",
      "614/614 [==============================] - 23s 37ms/step - loss: 0.1601 - accuracy: 0.8025 - val_loss: 0.2160 - val_accuracy: 0.7513\n",
      "Epoch 47/50\n",
      "614/614 [==============================] - 25s 40ms/step - loss: 0.1587 - accuracy: 0.8076 - val_loss: 0.2129 - val_accuracy: 0.7535\n",
      "Epoch 48/50\n",
      "614/614 [==============================] - 23s 38ms/step - loss: 0.1570 - accuracy: 0.8113 - val_loss: 0.2170 - val_accuracy: 0.7557\n",
      "Epoch 49/50\n",
      "614/614 [==============================] - 22s 36ms/step - loss: 0.1579 - accuracy: 0.8093 - val_loss: 0.2177 - val_accuracy: 0.7543\n",
      "Epoch 50/50\n",
      "614/614 [==============================] - 22s 36ms/step - loss: 0.1544 - accuracy: 0.8184 - val_loss: 0.2246 - val_accuracy: 0.7474\n"
     ]
    }
   ],
   "source": [
    "history = model.fit(X,Y,validation_data=(XT,YT),epochs = 50, batch_size=15,shuffle=False)"
   ]
  },
  {
   "cell_type": "code",
   "execution_count": 24,
   "metadata": {},
   "outputs": [],
   "source": [
    "ypred=model.predict(XT)\n",
    "yp=np.zeros((YT.shape[0]))\n",
    "yo=np.ones((YT.shape[0]))\n",
    "for i in range(Y_test.shape[0]):\n",
    "    yp[i]=np.argmax(ypred[i])\n",
    "    yo[i]=np.argmax(Y_test[i])"
   ]
  },
  {
   "cell_type": "code",
   "execution_count": 157,
   "metadata": {},
   "outputs": [
    {
     "data": {
      "text/plain": [
       "(2300, 44)"
      ]
     },
     "execution_count": 157,
     "metadata": {},
     "output_type": "execute_result"
    }
   ],
   "source": [
    "np.shape(XT)"
   ]
  },
  {
   "cell_type": "code",
   "execution_count": 25,
   "metadata": {},
   "outputs": [
    {
     "data": {
      "text/plain": [
       "array([1., 2., 3., 4., 5.])"
      ]
     },
     "execution_count": 25,
     "metadata": {},
     "output_type": "execute_result"
    }
   ],
   "source": [
    "np.unique(yo)"
   ]
  },
  {
   "cell_type": "code",
   "execution_count": 26,
   "metadata": {},
   "outputs": [],
   "source": [
    "\n",
    "#conversion of classes\n",
    "for i in range(Y_test.shape[0]):\n",
    "    if yo[i]!=1:\n",
    "        yo[i]=0\n",
    "    if yp[i]!=1:\n",
    "        yp[i]=0"
   ]
  },
  {
   "cell_type": "code",
   "execution_count": 27,
   "metadata": {},
   "outputs": [],
   "source": [
    "\n",
    "\n",
    "# demonstration of calculating metrics for a neural network model using sklearn\n",
    "from sklearn.datasets import make_circles\n",
    "from sklearn.metrics import accuracy_score\n",
    "from sklearn.metrics import precision_score\n",
    "from sklearn.metrics import recall_score\n",
    "from sklearn.metrics import f1_score\n",
    "from sklearn.metrics import cohen_kappa_score\n",
    "from sklearn.metrics import roc_auc_score\n",
    "from sklearn.metrics import confusion_matrix\n"
   ]
  },
  {
   "cell_type": "code",
   "execution_count": 28,
   "metadata": {},
   "outputs": [
    {
     "name": "stdout",
     "output_type": "stream",
     "text": [
      "Accuracy: 0.987826\n",
      "Precision: 0.975446\n",
      "Recall: 0.962555\n",
      "F1 score: 0.968958\n"
     ]
    }
   ],
   "source": [
    "# accuracy: (tp + tn) / (p + n)\n",
    "accuracy = accuracy_score(yo, yp)\n",
    "print('Accuracy: %f' % accuracy)\n",
    "# precision tp / (tp + fp)\n",
    "precision = precision_score(yo, yp)\n",
    "print('Precision: %f' % precision)\n",
    "# recall: tp / (tp + fn)\n",
    "recall = recall_score(yo, yp)\n",
    "print('Recall: %f' % recall)\n",
    "# f1: 2 tp / (2 tp + fp + fn)\n",
    "f1 = f1_score(yo, yp)\n",
    "print('F1 score: %f' % f1)"
   ]
  },
  {
   "cell_type": "code",
   "execution_count": 65,
   "metadata": {},
   "outputs": [
    {
     "data": {
      "image/png": "[encoded data removed]",
      "text/plain": [
       "<Figure size 432x288 with 1 Axes>"
      ]
     },
     "metadata": {
      "needs_background": "light"
     },
     "output_type": "display_data"
    }
   ],
   "source": [
    "#Train\n",
    "plt.figure(0)\n",
    "plt.plot(hist.history['loss'],'g')\n",
    "plt.plot(hist.history['accuracy'],'r')\n",
    "plt.show()"
   ]
  },
  {
   "cell_type": "code",
   "execution_count": 64,
   "metadata": {},
   "outputs": [
    {
     "data": {
      "image/png": "[encoded data removed]",
      "text/plain": [
       "<Figure size 432x288 with 1 Axes>"
      ]
     },
     "metadata": {
      "needs_background": "light"
     },
     "output_type": "display_data"
    }
   ],
   "source": [
    "#Test\n",
    "plt.figure(0)\n",
    "plt.plot(hist.history['val_loss'],'b')\n",
    "plt.plot(hist.history['val_accuracy'],'black')\n",
    "plt.show()"
   ]
  },
  {
   "cell_type": "code",
   "execution_count": null,
   "metadata": {},
   "outputs": [],
   "source": [
    "#boston"
   ]
  },
  {
   "cell_type": "code",
   "execution_count": 86,
   "metadata": {},
   "outputs": [
    {
     "data": {
      "text/html": [
       "<div>\n",
       "<style scoped>\n",
       "    .dataframe tbody tr th:only-of-type {\n",
       "        vertical-align: middle;\n",
       "    }\n",
       "\n",
       "    .dataframe tbody tr th {\n",
       "        vertical-align: top;\n",
       "    }\n",
       "\n",
       "    .dataframe thead th {\n",
       "        text-align: right;\n",
       "    }\n",
       "</style>\n",
       "<table border=\"1\" class=\"dataframe\">\n",
       "  <thead>\n",
       "    <tr style=\"text-align: right;\">\n",
       "      <th></th>\n",
       "      <th>Unnamed: 0</th>\n",
       "      <th>f1</th>\n",
       "      <th>f2</th>\n",
       "      <th>f3</th>\n",
       "      <th>f4</th>\n",
       "      <th>f5</th>\n",
       "      <th>class</th>\n",
       "    </tr>\n",
       "  </thead>\n",
       "  <tbody>\n",
       "    <tr>\n",
       "      <th>0</th>\n",
       "      <td>0</td>\n",
       "      <td>0.887621</td>\n",
       "      <td>0.185875</td>\n",
       "      <td>2.299474</td>\n",
       "      <td>2.299474</td>\n",
       "      <td>0.581396</td>\n",
       "      <td>healthy</td>\n",
       "    </tr>\n",
       "    <tr>\n",
       "      <th>1</th>\n",
       "      <td>1</td>\n",
       "      <td>0.783744</td>\n",
       "      <td>0.163794</td>\n",
       "      <td>2.299480</td>\n",
       "      <td>2.299480</td>\n",
       "      <td>0.588340</td>\n",
       "      <td>healthy</td>\n",
       "    </tr>\n",
       "    <tr>\n",
       "      <th>2</th>\n",
       "      <td>2</td>\n",
       "      <td>0.875873</td>\n",
       "      <td>0.154714</td>\n",
       "      <td>2.299477</td>\n",
       "      <td>2.299477</td>\n",
       "      <td>0.589802</td>\n",
       "      <td>healthy</td>\n",
       "    </tr>\n",
       "    <tr>\n",
       "      <th>3</th>\n",
       "      <td>3</td>\n",
       "      <td>0.881293</td>\n",
       "      <td>0.138396</td>\n",
       "      <td>2.299481</td>\n",
       "      <td>2.299481</td>\n",
       "      <td>0.592911</td>\n",
       "      <td>healthy</td>\n",
       "    </tr>\n",
       "    <tr>\n",
       "      <th>4</th>\n",
       "      <td>4</td>\n",
       "      <td>0.798116</td>\n",
       "      <td>0.125291</td>\n",
       "      <td>2.299481</td>\n",
       "      <td>2.299481</td>\n",
       "      <td>0.595338</td>\n",
       "      <td>healthy</td>\n",
       "    </tr>\n",
       "    <tr>\n",
       "      <th>...</th>\n",
       "      <td>...</td>\n",
       "      <td>...</td>\n",
       "      <td>...</td>\n",
       "      <td>...</td>\n",
       "      <td>...</td>\n",
       "      <td>...</td>\n",
       "      <td>...</td>\n",
       "    </tr>\n",
       "    <tr>\n",
       "      <th>295</th>\n",
       "      <td>295</td>\n",
       "      <td>0.424106</td>\n",
       "      <td>0.092797</td>\n",
       "      <td>2.301373</td>\n",
       "      <td>2.301373</td>\n",
       "      <td>0.604564</td>\n",
       "      <td>seizure</td>\n",
       "    </tr>\n",
       "    <tr>\n",
       "      <th>296</th>\n",
       "      <td>296</td>\n",
       "      <td>0.101266</td>\n",
       "      <td>0.053133</td>\n",
       "      <td>2.301376</td>\n",
       "      <td>2.301376</td>\n",
       "      <td>0.637104</td>\n",
       "      <td>seizure</td>\n",
       "    </tr>\n",
       "    <tr>\n",
       "      <th>297</th>\n",
       "      <td>297</td>\n",
       "      <td>0.121906</td>\n",
       "      <td>0.089653</td>\n",
       "      <td>2.301379</td>\n",
       "      <td>2.301379</td>\n",
       "      <td>0.606438</td>\n",
       "      <td>seizure</td>\n",
       "    </tr>\n",
       "    <tr>\n",
       "      <th>298</th>\n",
       "      <td>298</td>\n",
       "      <td>0.341561</td>\n",
       "      <td>0.126592</td>\n",
       "      <td>2.301372</td>\n",
       "      <td>2.301372</td>\n",
       "      <td>0.600381</td>\n",
       "      <td>seizure</td>\n",
       "    </tr>\n",
       "    <tr>\n",
       "      <th>299</th>\n",
       "      <td>299</td>\n",
       "      <td>0.259393</td>\n",
       "      <td>0.096914</td>\n",
       "      <td>2.301380</td>\n",
       "      <td>2.301380</td>\n",
       "      <td>0.599704</td>\n",
       "      <td>seizure</td>\n",
       "    </tr>\n",
       "  </tbody>\n",
       "</table>\n",
       "<p>300 rows × 7 columns</p>\n",
       "</div>"
      ],
      "text/plain": [
       "     Unnamed: 0        f1        f2        f3        f4        f5    class\n",
       "0             0  0.887621  0.185875  2.299474  2.299474  0.581396  healthy\n",
       "1             1  0.783744  0.163794  2.299480  2.299480  0.588340  healthy\n",
       "2             2  0.875873  0.154714  2.299477  2.299477  0.589802  healthy\n",
       "3             3  0.881293  0.138396  2.299481  2.299481  0.592911  healthy\n",
       "4             4  0.798116  0.125291  2.299481  2.299481  0.595338  healthy\n",
       "..          ...       ...       ...       ...       ...       ...      ...\n",
       "295         295  0.424106  0.092797  2.301373  2.301373  0.604564  seizure\n",
       "296         296  0.101266  0.053133  2.301376  2.301376  0.637104  seizure\n",
       "297         297  0.121906  0.089653  2.301379  2.301379  0.606438  seizure\n",
       "298         298  0.341561  0.126592  2.301372  2.301372  0.600381  seizure\n",
       "299         299  0.259393  0.096914  2.301380  2.301380  0.599704  seizure\n",
       "\n",
       "[300 rows x 7 columns]"
      ]
     },
     "execution_count": 86,
     "metadata": {},
     "output_type": "execute_result"
    }
   ],
   "source": [
    "df=pd.read_csv('boston.csv')\n",
    "df"
   ]
  },
  {
   "cell_type": "code",
   "execution_count": 87,
   "metadata": {},
   "outputs": [
    {
     "data": {
      "text/html": [
       "<div>\n",
       "<style scoped>\n",
       "    .dataframe tbody tr th:only-of-type {\n",
       "        vertical-align: middle;\n",
       "    }\n",
       "\n",
       "    .dataframe tbody tr th {\n",
       "        vertical-align: top;\n",
       "    }\n",
       "\n",
       "    .dataframe thead th {\n",
       "        text-align: right;\n",
       "    }\n",
       "</style>\n",
       "<table border=\"1\" class=\"dataframe\">\n",
       "  <thead>\n",
       "    <tr style=\"text-align: right;\">\n",
       "      <th></th>\n",
       "      <th>Unnamed: 0</th>\n",
       "      <th>f1</th>\n",
       "      <th>f2</th>\n",
       "      <th>f3</th>\n",
       "      <th>f4</th>\n",
       "      <th>f5</th>\n",
       "      <th>y</th>\n",
       "    </tr>\n",
       "  </thead>\n",
       "  <tbody>\n",
       "    <tr>\n",
       "      <th>0</th>\n",
       "      <td>0</td>\n",
       "      <td>0.887621</td>\n",
       "      <td>0.185875</td>\n",
       "      <td>2.299474</td>\n",
       "      <td>2.299474</td>\n",
       "      <td>0.581396</td>\n",
       "      <td>healthy</td>\n",
       "    </tr>\n",
       "    <tr>\n",
       "      <th>1</th>\n",
       "      <td>1</td>\n",
       "      <td>0.783744</td>\n",
       "      <td>0.163794</td>\n",
       "      <td>2.299480</td>\n",
       "      <td>2.299480</td>\n",
       "      <td>0.588340</td>\n",
       "      <td>healthy</td>\n",
       "    </tr>\n",
       "    <tr>\n",
       "      <th>2</th>\n",
       "      <td>2</td>\n",
       "      <td>0.875873</td>\n",
       "      <td>0.154714</td>\n",
       "      <td>2.299477</td>\n",
       "      <td>2.299477</td>\n",
       "      <td>0.589802</td>\n",
       "      <td>healthy</td>\n",
       "    </tr>\n",
       "    <tr>\n",
       "      <th>3</th>\n",
       "      <td>3</td>\n",
       "      <td>0.881293</td>\n",
       "      <td>0.138396</td>\n",
       "      <td>2.299481</td>\n",
       "      <td>2.299481</td>\n",
       "      <td>0.592911</td>\n",
       "      <td>healthy</td>\n",
       "    </tr>\n",
       "    <tr>\n",
       "      <th>4</th>\n",
       "      <td>4</td>\n",
       "      <td>0.798116</td>\n",
       "      <td>0.125291</td>\n",
       "      <td>2.299481</td>\n",
       "      <td>2.299481</td>\n",
       "      <td>0.595338</td>\n",
       "      <td>healthy</td>\n",
       "    </tr>\n",
       "    <tr>\n",
       "      <th>...</th>\n",
       "      <td>...</td>\n",
       "      <td>...</td>\n",
       "      <td>...</td>\n",
       "      <td>...</td>\n",
       "      <td>...</td>\n",
       "      <td>...</td>\n",
       "      <td>...</td>\n",
       "    </tr>\n",
       "    <tr>\n",
       "      <th>295</th>\n",
       "      <td>295</td>\n",
       "      <td>0.424106</td>\n",
       "      <td>0.092797</td>\n",
       "      <td>2.301373</td>\n",
       "      <td>2.301373</td>\n",
       "      <td>0.604564</td>\n",
       "      <td>seizure</td>\n",
       "    </tr>\n",
       "    <tr>\n",
       "      <th>296</th>\n",
       "      <td>296</td>\n",
       "      <td>0.101266</td>\n",
       "      <td>0.053133</td>\n",
       "      <td>2.301376</td>\n",
       "      <td>2.301376</td>\n",
       "      <td>0.637104</td>\n",
       "      <td>seizure</td>\n",
       "    </tr>\n",
       "    <tr>\n",
       "      <th>297</th>\n",
       "      <td>297</td>\n",
       "      <td>0.121906</td>\n",
       "      <td>0.089653</td>\n",
       "      <td>2.301379</td>\n",
       "      <td>2.301379</td>\n",
       "      <td>0.606438</td>\n",
       "      <td>seizure</td>\n",
       "    </tr>\n",
       "    <tr>\n",
       "      <th>298</th>\n",
       "      <td>298</td>\n",
       "      <td>0.341561</td>\n",
       "      <td>0.126592</td>\n",
       "      <td>2.301372</td>\n",
       "      <td>2.301372</td>\n",
       "      <td>0.600381</td>\n",
       "      <td>seizure</td>\n",
       "    </tr>\n",
       "    <tr>\n",
       "      <th>299</th>\n",
       "      <td>299</td>\n",
       "      <td>0.259393</td>\n",
       "      <td>0.096914</td>\n",
       "      <td>2.301380</td>\n",
       "      <td>2.301380</td>\n",
       "      <td>0.599704</td>\n",
       "      <td>seizure</td>\n",
       "    </tr>\n",
       "  </tbody>\n",
       "</table>\n",
       "<p>300 rows × 7 columns</p>\n",
       "</div>"
      ],
      "text/plain": [
       "     Unnamed: 0        f1        f2        f3        f4        f5        y\n",
       "0             0  0.887621  0.185875  2.299474  2.299474  0.581396  healthy\n",
       "1             1  0.783744  0.163794  2.299480  2.299480  0.588340  healthy\n",
       "2             2  0.875873  0.154714  2.299477  2.299477  0.589802  healthy\n",
       "3             3  0.881293  0.138396  2.299481  2.299481  0.592911  healthy\n",
       "4             4  0.798116  0.125291  2.299481  2.299481  0.595338  healthy\n",
       "..          ...       ...       ...       ...       ...       ...      ...\n",
       "295         295  0.424106  0.092797  2.301373  2.301373  0.604564  seizure\n",
       "296         296  0.101266  0.053133  2.301376  2.301376  0.637104  seizure\n",
       "297         297  0.121906  0.089653  2.301379  2.301379  0.606438  seizure\n",
       "298         298  0.341561  0.126592  2.301372  2.301372  0.600381  seizure\n",
       "299         299  0.259393  0.096914  2.301380  2.301380  0.599704  seizure\n",
       "\n",
       "[300 rows x 7 columns]"
      ]
     },
     "execution_count": 87,
     "metadata": {},
     "output_type": "execute_result"
    }
   ],
   "source": [
    "df2 = df.rename({'class': 'y'}, axis=1)\n",
    "df2"
   ]
  },
  {
   "cell_type": "code",
   "execution_count": 88,
   "metadata": {},
   "outputs": [
    {
     "data": {
      "text/html": [
       "<div>\n",
       "<style scoped>\n",
       "    .dataframe tbody tr th:only-of-type {\n",
       "        vertical-align: middle;\n",
       "    }\n",
       "\n",
       "    .dataframe tbody tr th {\n",
       "        vertical-align: top;\n",
       "    }\n",
       "\n",
       "    .dataframe thead th {\n",
       "        text-align: right;\n",
       "    }\n",
       "</style>\n",
       "<table border=\"1\" class=\"dataframe\">\n",
       "  <thead>\n",
       "    <tr style=\"text-align: right;\">\n",
       "      <th></th>\n",
       "      <th>Unnamed: 0</th>\n",
       "      <th>f1</th>\n",
       "      <th>f2</th>\n",
       "      <th>f3</th>\n",
       "      <th>f4</th>\n",
       "      <th>f5</th>\n",
       "      <th>y</th>\n",
       "    </tr>\n",
       "  </thead>\n",
       "  <tbody>\n",
       "    <tr>\n",
       "      <th>0</th>\n",
       "      <td>0</td>\n",
       "      <td>0.887621</td>\n",
       "      <td>0.185875</td>\n",
       "      <td>2.299474</td>\n",
       "      <td>2.299474</td>\n",
       "      <td>0.581396</td>\n",
       "      <td>0</td>\n",
       "    </tr>\n",
       "    <tr>\n",
       "      <th>1</th>\n",
       "      <td>1</td>\n",
       "      <td>0.783744</td>\n",
       "      <td>0.163794</td>\n",
       "      <td>2.299480</td>\n",
       "      <td>2.299480</td>\n",
       "      <td>0.588340</td>\n",
       "      <td>0</td>\n",
       "    </tr>\n",
       "    <tr>\n",
       "      <th>2</th>\n",
       "      <td>2</td>\n",
       "      <td>0.875873</td>\n",
       "      <td>0.154714</td>\n",
       "      <td>2.299477</td>\n",
       "      <td>2.299477</td>\n",
       "      <td>0.589802</td>\n",
       "      <td>0</td>\n",
       "    </tr>\n",
       "    <tr>\n",
       "      <th>3</th>\n",
       "      <td>3</td>\n",
       "      <td>0.881293</td>\n",
       "      <td>0.138396</td>\n",
       "      <td>2.299481</td>\n",
       "      <td>2.299481</td>\n",
       "      <td>0.592911</td>\n",
       "      <td>0</td>\n",
       "    </tr>\n",
       "    <tr>\n",
       "      <th>4</th>\n",
       "      <td>4</td>\n",
       "      <td>0.798116</td>\n",
       "      <td>0.125291</td>\n",
       "      <td>2.299481</td>\n",
       "      <td>2.299481</td>\n",
       "      <td>0.595338</td>\n",
       "      <td>0</td>\n",
       "    </tr>\n",
       "    <tr>\n",
       "      <th>...</th>\n",
       "      <td>...</td>\n",
       "      <td>...</td>\n",
       "      <td>...</td>\n",
       "      <td>...</td>\n",
       "      <td>...</td>\n",
       "      <td>...</td>\n",
       "      <td>...</td>\n",
       "    </tr>\n",
       "    <tr>\n",
       "      <th>295</th>\n",
       "      <td>295</td>\n",
       "      <td>0.424106</td>\n",
       "      <td>0.092797</td>\n",
       "      <td>2.301373</td>\n",
       "      <td>2.301373</td>\n",
       "      <td>0.604564</td>\n",
       "      <td>1</td>\n",
       "    </tr>\n",
       "    <tr>\n",
       "      <th>296</th>\n",
       "      <td>296</td>\n",
       "      <td>0.101266</td>\n",
       "      <td>0.053133</td>\n",
       "      <td>2.301376</td>\n",
       "      <td>2.301376</td>\n",
       "      <td>0.637104</td>\n",
       "      <td>1</td>\n",
       "    </tr>\n",
       "    <tr>\n",
       "      <th>297</th>\n",
       "      <td>297</td>\n",
       "      <td>0.121906</td>\n",
       "      <td>0.089653</td>\n",
       "      <td>2.301379</td>\n",
       "      <td>2.301379</td>\n",
       "      <td>0.606438</td>\n",
       "      <td>1</td>\n",
       "    </tr>\n",
       "    <tr>\n",
       "      <th>298</th>\n",
       "      <td>298</td>\n",
       "      <td>0.341561</td>\n",
       "      <td>0.126592</td>\n",
       "      <td>2.301372</td>\n",
       "      <td>2.301372</td>\n",
       "      <td>0.600381</td>\n",
       "      <td>1</td>\n",
       "    </tr>\n",
       "    <tr>\n",
       "      <th>299</th>\n",
       "      <td>299</td>\n",
       "      <td>0.259393</td>\n",
       "      <td>0.096914</td>\n",
       "      <td>2.301380</td>\n",
       "      <td>2.301380</td>\n",
       "      <td>0.599704</td>\n",
       "      <td>1</td>\n",
       "    </tr>\n",
       "  </tbody>\n",
       "</table>\n",
       "<p>300 rows × 7 columns</p>\n",
       "</div>"
      ],
      "text/plain": [
       "     Unnamed: 0        f1        f2        f3        f4        f5  y\n",
       "0             0  0.887621  0.185875  2.299474  2.299474  0.581396  0\n",
       "1             1  0.783744  0.163794  2.299480  2.299480  0.588340  0\n",
       "2             2  0.875873  0.154714  2.299477  2.299477  0.589802  0\n",
       "3             3  0.881293  0.138396  2.299481  2.299481  0.592911  0\n",
       "4             4  0.798116  0.125291  2.299481  2.299481  0.595338  0\n",
       "..          ...       ...       ...       ...       ...       ... ..\n",
       "295         295  0.424106  0.092797  2.301373  2.301373  0.604564  1\n",
       "296         296  0.101266  0.053133  2.301376  2.301376  0.637104  1\n",
       "297         297  0.121906  0.089653  2.301379  2.301379  0.606438  1\n",
       "298         298  0.341561  0.126592  2.301372  2.301372  0.600381  1\n",
       "299         299  0.259393  0.096914  2.301380  2.301380  0.599704  1\n",
       "\n",
       "[300 rows x 7 columns]"
      ]
     },
     "execution_count": 88,
     "metadata": {},
     "output_type": "execute_result"
    }
   ],
   "source": [
    "df2['y'] = df2.y.map({'healthy': 0, 'seizure': 1, 'transation': 2})\n",
    "df2\n"
   ]
  },
  {
   "cell_type": "code",
   "execution_count": 89,
   "metadata": {},
   "outputs": [],
   "source": [
    "X=df2.values"
   ]
  },
  {
   "cell_type": "code",
   "execution_count": 90,
   "metadata": {},
   "outputs": [
    {
     "data": {
      "text/plain": [
       "array([[0.8876206 , 0.18587486, 2.29947393, 2.29947393, 0.58139559],\n",
       "       [0.78374388, 0.16379436, 2.29947989, 2.29947989, 0.58834032],\n",
       "       [0.87587262, 0.15471405, 2.29947693, 2.29947693, 0.58980158],\n",
       "       ...,\n",
       "       [0.12190591, 0.08965272, 2.30137916, 2.30137916, 0.60643813],\n",
       "       [0.34156111, 0.12659211, 2.30137162, 2.30137162, 0.60038083],\n",
       "       [0.25939333, 0.09691405, 2.3013799 , 2.3013799 , 0.59970394]])"
      ]
     },
     "execution_count": 90,
     "metadata": {},
     "output_type": "execute_result"
    }
   ],
   "source": [
    "X=X[:,1:-1]\n",
    "X"
   ]
  },
  {
   "cell_type": "code",
   "execution_count": 91,
   "metadata": {},
   "outputs": [
    {
     "data": {
      "text/plain": [
       "(300, 3)"
      ]
     },
     "execution_count": 91,
     "metadata": {},
     "output_type": "execute_result"
    }
   ],
   "source": [
    "y=np.array(df2['y'])\n",
    "Y=np_utils.to_categorical(y)\n",
    "Y.shape"
   ]
  },
  {
   "cell_type": "code",
   "execution_count": 92,
   "metadata": {},
   "outputs": [],
   "source": [
    "X_train, X_test, Y_train, Y_test = train_test_split(X, Y, test_size=0.30, random_state=1)"
   ]
  },
  {
   "cell_type": "code",
   "execution_count": 56,
   "metadata": {},
   "outputs": [
    {
     "data": {
      "text/plain": [
       "(210, 5, 1)"
      ]
     },
     "execution_count": 56,
     "metadata": {},
     "output_type": "execute_result"
    }
   ],
   "source": [
    "X_train = X_train.reshape(-1,5,1)\n",
    "X_test = X_test.reshape(-1,5,1)\n",
    "X_train.shape\n",
    "X_train.shape"
   ]
  },
  {
   "cell_type": "code",
   "execution_count": 57,
   "metadata": {},
   "outputs": [
    {
     "data": {
      "text/plain": [
       "(210, 3)"
      ]
     },
     "execution_count": 57,
     "metadata": {},
     "output_type": "execute_result"
    }
   ],
   "source": [
    "Y_train.shape"
   ]
  },
  {
   "cell_type": "code",
   "execution_count": 63,
   "metadata": {},
   "outputs": [
    {
     "name": "stdout",
     "output_type": "stream",
     "text": [
      "Model: \"sequential_3\"\n",
      "_________________________________________________________________\n",
      "Layer (type)                 Output Shape              Param #   \n",
      "=================================================================\n",
      "lstm_6 (LSTM)                (None, 5, 56)             12992     \n",
      "_________________________________________________________________\n",
      "dropout_6 (Dropout)          (None, 5, 56)             0         \n",
      "_________________________________________________________________\n",
      "lstm_7 (LSTM)                (None, 56)                25312     \n",
      "_________________________________________________________________\n",
      "dropout_7 (Dropout)          (None, 56)                0         \n",
      "_________________________________________________________________\n",
      "dense_6 (Dense)              (None, 20)                1140      \n",
      "_________________________________________________________________\n",
      "activation_6 (Activation)    (None, 20)                0         \n",
      "_________________________________________________________________\n",
      "dense_7 (Dense)              (None, 2)                 42        \n",
      "_________________________________________________________________\n",
      "activation_7 (Activation)    (None, 2)                 0         \n",
      "=================================================================\n",
      "Total params: 39,486\n",
      "Trainable params: 39,486\n",
      "Non-trainable params: 0\n",
      "_________________________________________________________________\n"
     ]
    }
   ],
   "source": [
    "model = Sequential()\n",
    "model.add(LSTM(56, input_shape=(5,1), return_sequences=True))\n",
    "model.add(Dropout(0.3))\n",
    "model.add(LSTM(56))\n",
    "model.add(Dropout(0.3))\n",
    "model.add(Dense(20))\n",
    "model.add(Activation('tanh'))\n",
    "model.add(Dense(2))\n",
    "model.add(Activation('softmax'))\n",
    "\n",
    "model.summary()"
   ]
  },
  {
   "cell_type": "code",
   "execution_count": 93,
   "metadata": {},
   "outputs": [],
   "source": [
    "X=(X_train-X_train.mean())/X_train.std()\n",
    "X=np.asarray(X).astype(np.float32)\n",
    "Y=Y_train[:,1:]\n",
    "Y=np.asarray(Y).astype(np.float32)"
   ]
  },
  {
   "cell_type": "code",
   "execution_count": null,
   "metadata": {},
   "outputs": [],
   "source": []
  },
  {
   "cell_type": "code",
   "execution_count": 94,
   "metadata": {},
   "outputs": [],
   "source": [
    "XT=(X_test-X_test.mean())/X_test.std()\n",
    "XT=np.asarray(XT).astype(np.float32)\n",
    "YT=Y_test[:,1:]\n",
    "YT=np.asarray(YT).astype(np.float32)"
   ]
  },
  {
   "cell_type": "code",
   "execution_count": 64,
   "metadata": {},
   "outputs": [],
   "source": [
    "model.compile(loss='binary_crossentropy', optimizer='adam', metrics=['accuracy'])"
   ]
  },
  {
   "cell_type": "code",
   "execution_count": 66,
   "metadata": {},
   "outputs": [
    {
     "name": "stdout",
     "output_type": "stream",
     "text": [
      "Epoch 1/50\n",
      "21/21 [==============================] - 0s 5ms/step - loss: 0.4963 - accuracy: 0.7190 - val_loss: 0.4720 - val_accuracy: 0.8000\n",
      "Epoch 2/50\n",
      "21/21 [==============================] - 0s 5ms/step - loss: 0.4988 - accuracy: 0.7190 - val_loss: 0.4729 - val_accuracy: 0.8000\n",
      "Epoch 3/50\n",
      "21/21 [==============================] - 0s 5ms/step - loss: 0.5034 - accuracy: 0.7333 - val_loss: 0.4733 - val_accuracy: 0.8000\n",
      "Epoch 4/50\n",
      "21/21 [==============================] - 0s 5ms/step - loss: 0.5035 - accuracy: 0.7286 - val_loss: 0.4709 - val_accuracy: 0.8111\n",
      "Epoch 5/50\n",
      "21/21 [==============================] - 0s 5ms/step - loss: 0.4947 - accuracy: 0.7095 - val_loss: 0.4741 - val_accuracy: 0.8000\n",
      "Epoch 6/50\n",
      "21/21 [==============================] - 0s 5ms/step - loss: 0.5009 - accuracy: 0.7476 - val_loss: 0.4709 - val_accuracy: 0.8111\n",
      "Epoch 7/50\n",
      "21/21 [==============================] - 0s 5ms/step - loss: 0.4964 - accuracy: 0.7143 - val_loss: 0.4746 - val_accuracy: 0.8000\n",
      "Epoch 8/50\n",
      "21/21 [==============================] - 0s 5ms/step - loss: 0.5077 - accuracy: 0.7286 - val_loss: 0.4675 - val_accuracy: 0.7889\n",
      "Epoch 9/50\n",
      "21/21 [==============================] - 0s 5ms/step - loss: 0.4846 - accuracy: 0.7524 - val_loss: 0.4698 - val_accuracy: 0.8111\n",
      "Epoch 10/50\n",
      "21/21 [==============================] - 0s 5ms/step - loss: 0.4857 - accuracy: 0.7286 - val_loss: 0.4714 - val_accuracy: 0.8111\n",
      "Epoch 11/50\n",
      "21/21 [==============================] - 0s 4ms/step - loss: 0.4993 - accuracy: 0.7048 - val_loss: 0.4690 - val_accuracy: 0.8000\n",
      "Epoch 12/50\n",
      "21/21 [==============================] - 0s 5ms/step - loss: 0.5020 - accuracy: 0.7190 - val_loss: 0.4714 - val_accuracy: 0.8111\n",
      "Epoch 13/50\n",
      "21/21 [==============================] - 0s 5ms/step - loss: 0.5031 - accuracy: 0.7333 - val_loss: 0.4697 - val_accuracy: 0.8000\n",
      "Epoch 14/50\n",
      "21/21 [==============================] - 0s 5ms/step - loss: 0.4952 - accuracy: 0.7429 - val_loss: 0.4701 - val_accuracy: 0.8111\n",
      "Epoch 15/50\n",
      "21/21 [==============================] - 0s 5ms/step - loss: 0.5005 - accuracy: 0.7190 - val_loss: 0.4682 - val_accuracy: 0.7889\n",
      "Epoch 16/50\n",
      "21/21 [==============================] - 0s 5ms/step - loss: 0.4916 - accuracy: 0.7333 - val_loss: 0.4657 - val_accuracy: 0.7889\n",
      "Epoch 17/50\n",
      "21/21 [==============================] - 0s 6ms/step - loss: 0.4943 - accuracy: 0.7286 - val_loss: 0.4704 - val_accuracy: 0.8111\n",
      "Epoch 18/50\n",
      "21/21 [==============================] - 0s 5ms/step - loss: 0.4997 - accuracy: 0.7286 - val_loss: 0.4711 - val_accuracy: 0.8111\n",
      "Epoch 19/50\n",
      "21/21 [==============================] - 0s 5ms/step - loss: 0.4946 - accuracy: 0.7190 - val_loss: 0.4691 - val_accuracy: 0.7889\n",
      "Epoch 20/50\n",
      "21/21 [==============================] - 0s 5ms/step - loss: 0.4992 - accuracy: 0.7095 - val_loss: 0.4685 - val_accuracy: 0.7889\n",
      "Epoch 21/50\n",
      "21/21 [==============================] - 0s 5ms/step - loss: 0.4957 - accuracy: 0.7095 - val_loss: 0.4707 - val_accuracy: 0.8111\n",
      "Epoch 22/50\n",
      "21/21 [==============================] - 0s 5ms/step - loss: 0.4937 - accuracy: 0.7429 - val_loss: 0.4679 - val_accuracy: 0.7889\n",
      "Epoch 23/50\n",
      "21/21 [==============================] - 0s 6ms/step - loss: 0.4897 - accuracy: 0.7286 - val_loss: 0.4670 - val_accuracy: 0.7889\n",
      "Epoch 24/50\n",
      "21/21 [==============================] - 0s 5ms/step - loss: 0.5021 - accuracy: 0.7190 - val_loss: 0.4670 - val_accuracy: 0.7889\n",
      "Epoch 25/50\n",
      "21/21 [==============================] - 0s 4ms/step - loss: 0.5015 - accuracy: 0.7143 - val_loss: 0.4700 - val_accuracy: 0.8000\n",
      "Epoch 26/50\n",
      "21/21 [==============================] - 0s 5ms/step - loss: 0.4982 - accuracy: 0.7286 - val_loss: 0.4675 - val_accuracy: 0.7889\n",
      "Epoch 27/50\n",
      "21/21 [==============================] - 0s 4ms/step - loss: 0.4935 - accuracy: 0.7190 - val_loss: 0.4687 - val_accuracy: 0.7889\n",
      "Epoch 28/50\n",
      "21/21 [==============================] - 0s 4ms/step - loss: 0.4917 - accuracy: 0.7190 - val_loss: 0.4695 - val_accuracy: 0.8000\n",
      "Epoch 29/50\n",
      "21/21 [==============================] - 0s 5ms/step - loss: 0.4916 - accuracy: 0.7143 - val_loss: 0.4692 - val_accuracy: 0.7889\n",
      "Epoch 30/50\n",
      "21/21 [==============================] - 0s 4ms/step - loss: 0.4927 - accuracy: 0.7286 - val_loss: 0.4677 - val_accuracy: 0.7889\n",
      "Epoch 31/50\n",
      "21/21 [==============================] - 0s 4ms/step - loss: 0.4938 - accuracy: 0.7143 - val_loss: 0.4679 - val_accuracy: 0.7889\n",
      "Epoch 32/50\n",
      "21/21 [==============================] - 0s 4ms/step - loss: 0.5037 - accuracy: 0.7333 - val_loss: 0.4690 - val_accuracy: 0.7889\n",
      "Epoch 33/50\n",
      "21/21 [==============================] - 0s 5ms/step - loss: 0.4913 - accuracy: 0.7190 - val_loss: 0.4680 - val_accuracy: 0.7889\n",
      "Epoch 34/50\n",
      "21/21 [==============================] - 0s 5ms/step - loss: 0.4876 - accuracy: 0.7286 - val_loss: 0.4690 - val_accuracy: 0.7889\n",
      "Epoch 35/50\n",
      "21/21 [==============================] - 0s 5ms/step - loss: 0.4922 - accuracy: 0.7381 - val_loss: 0.4671 - val_accuracy: 0.7889\n",
      "Epoch 36/50\n",
      "21/21 [==============================] - 0s 5ms/step - loss: 0.4968 - accuracy: 0.7143 - val_loss: 0.4711 - val_accuracy: 0.8111\n",
      "Epoch 37/50\n",
      "21/21 [==============================] - 0s 4ms/step - loss: 0.4984 - accuracy: 0.7095 - val_loss: 0.4686 - val_accuracy: 0.7889\n",
      "Epoch 38/50\n",
      "21/21 [==============================] - 0s 4ms/step - loss: 0.4953 - accuracy: 0.7143 - val_loss: 0.4670 - val_accuracy: 0.7889\n",
      "Epoch 39/50\n",
      "21/21 [==============================] - 0s 4ms/step - loss: 0.4946 - accuracy: 0.7190 - val_loss: 0.4675 - val_accuracy: 0.7889\n",
      "Epoch 40/50\n",
      "21/21 [==============================] - 0s 5ms/step - loss: 0.4901 - accuracy: 0.7381 - val_loss: 0.4667 - val_accuracy: 0.7889\n",
      "Epoch 41/50\n",
      "21/21 [==============================] - 0s 5ms/step - loss: 0.4882 - accuracy: 0.7286 - val_loss: 0.4694 - val_accuracy: 0.8111\n",
      "Epoch 42/50\n",
      "21/21 [==============================] - 0s 5ms/step - loss: 0.4965 - accuracy: 0.7333 - val_loss: 0.4657 - val_accuracy: 0.7889\n",
      "Epoch 43/50\n",
      "21/21 [==============================] - 0s 5ms/step - loss: 0.4871 - accuracy: 0.7333 - val_loss: 0.4672 - val_accuracy: 0.7889\n",
      "Epoch 44/50\n",
      "21/21 [==============================] - 0s 5ms/step - loss: 0.4926 - accuracy: 0.7286 - val_loss: 0.4660 - val_accuracy: 0.7889\n",
      "Epoch 45/50\n",
      "21/21 [==============================] - 0s 4ms/step - loss: 0.4875 - accuracy: 0.7143 - val_loss: 0.4650 - val_accuracy: 0.7889\n",
      "Epoch 46/50\n",
      "21/21 [==============================] - 0s 4ms/step - loss: 0.4936 - accuracy: 0.7238 - val_loss: 0.4665 - val_accuracy: 0.7889\n",
      "Epoch 47/50\n",
      "21/21 [==============================] - 0s 4ms/step - loss: 0.4907 - accuracy: 0.7190 - val_loss: 0.4674 - val_accuracy: 0.7889\n",
      "Epoch 48/50\n",
      "21/21 [==============================] - 0s 5ms/step - loss: 0.4913 - accuracy: 0.7190 - val_loss: 0.4661 - val_accuracy: 0.7889\n",
      "Epoch 49/50\n",
      "21/21 [==============================] - 0s 5ms/step - loss: 0.5003 - accuracy: 0.7143 - val_loss: 0.4681 - val_accuracy: 0.7889\n",
      "Epoch 50/50\n",
      "21/21 [==============================] - 0s 4ms/step - loss: 0.4898 - accuracy: 0.7238 - val_loss: 0.4668 - val_accuracy: 0.7889\n"
     ]
    }
   ],
   "source": [
    "hist1 = model.fit(X,Y,validation_data=(XT,YT),epochs = 50, batch_size=10,shuffle=False)"
   ]
  },
  {
   "cell_type": "code",
   "execution_count": 67,
   "metadata": {},
   "outputs": [],
   "source": [
    "ypred=model.predict(XT)"
   ]
  },
  {
   "cell_type": "code",
   "execution_count": 68,
   "metadata": {},
   "outputs": [],
   "source": [
    "yp=np.zeros((YT.shape[0]))\n",
    "yo=np.ones((YT.shape[0]))"
   ]
  },
  {
   "cell_type": "code",
   "execution_count": 69,
   "metadata": {},
   "outputs": [],
   "source": [
    "for i in range(Y_test.shape[0]):\n",
    "    yp[i]=np.argmax(ypred[i])+1\n",
    "    yo[i]=np.argmax(Y_test[i])"
   ]
  },
  {
   "cell_type": "code",
   "execution_count": 70,
   "metadata": {},
   "outputs": [
    {
     "data": {
      "text/plain": [
       "array([0., 1., 2.])"
      ]
     },
     "execution_count": 70,
     "metadata": {},
     "output_type": "execute_result"
    }
   ],
   "source": [
    "np.unique(yo)"
   ]
  },
  {
   "cell_type": "code",
   "execution_count": 71,
   "metadata": {},
   "outputs": [],
   "source": [
    "\n",
    "#conversion of classes\n",
    "for i in range(Y_test.shape[0]):\n",
    "    if yo[i]!=1:\n",
    "        yo[i]=0\n",
    "    if yp[i]!=1:\n",
    "        yp[i]=0"
   ]
  },
  {
   "cell_type": "code",
   "execution_count": 72,
   "metadata": {},
   "outputs": [],
   "source": [
    "\n",
    "# demonstration of calculating metrics for a neural network model using sklearn\n",
    "from sklearn.datasets import make_circles\n",
    "from sklearn.metrics import accuracy_score\n",
    "from sklearn.metrics import precision_score\n",
    "from sklearn.metrics import recall_score\n",
    "from sklearn.metrics import f1_score\n",
    "from sklearn.metrics import cohen_kappa_score\n",
    "from sklearn.metrics import roc_auc_score\n",
    "from sklearn.metrics import confusion_matrix\n"
   ]
  },
  {
   "cell_type": "code",
   "execution_count": 73,
   "metadata": {},
   "outputs": [
    {
     "name": "stdout",
     "output_type": "stream",
     "text": [
      "Accuracy: 0.766667\n",
      "Precision: 0.605263\n",
      "Recall: 0.793103\n",
      "F1 score: 0.686567\n"
     ]
    }
   ],
   "source": [
    "\n",
    "# accuracy: (tp + tn) / (p + n)\n",
    "accuracy = accuracy_score(yo, yp)\n",
    "print('Accuracy: %f' % accuracy)\n",
    "# precision tp / (tp + fp)\n",
    "precision = precision_score(yo, yp)\n",
    "print('Precision: %f' % precision)\n",
    "# recall: tp / (tp + fn)\n",
    "recall = recall_score(yo, yp)\n",
    "print('Recall: %f' % recall)\n",
    "# f1: 2 tp / (2 tp + fp + fn)\n",
    "f1 = f1_score(yo, yp)\n",
    "print('F1 score: %f' % f1)"
   ]
  },
  {
   "cell_type": "code",
   "execution_count": 74,
   "metadata": {},
   "outputs": [],
   "source": [
    "train_acc = model.evaluate(X, Y, verbose=0)\n",
    "_, test_acc = model.evaluate(XT, YT, verbose=0)"
   ]
  },
  {
   "cell_type": "code",
   "execution_count": 75,
   "metadata": {},
   "outputs": [
    {
     "data": {
      "image/png": "[encoded data removed]",
      "text/plain": [
       "<Figure size 432x288 with 2 Axes>"
      ]
     },
     "metadata": {
      "needs_background": "light"
     },
     "output_type": "display_data"
    }
   ],
   "source": [
    "from matplotlib import pyplot\n",
    "pyplot.subplot(211)\n",
    "pyplot.title('Loss')\n",
    "pyplot.plot(history.history['loss'], label='train')\n",
    "pyplot.plot(history.history['val_loss'], label='test')\n",
    "pyplot.legend()\n",
    "# plot accuracy during training\n",
    "pyplot.subplot(212)\n",
    "pyplot.title('Accuracy')\n",
    "pyplot.plot(history.history['accuracy'], label='train')\n",
    "pyplot.plot(history.history['val_accuracy'], label='test')\n",
    "pyplot.legend()\n",
    "pyplot.show()"
   ]
  },
  {
   "cell_type": "code",
   "execution_count": 76,
   "metadata": {},
   "outputs": [
    {
     "data": {
      "image/png": "[encoded data removed]",
      "text/plain": [
       "<Figure size 432x288 with 1 Axes>"
      ]
     },
     "metadata": {
      "needs_background": "light"
     },
     "output_type": "display_data"
    }
   ],
   "source": [
    "pyplot.subplot(212)\n",
    "pyplot.title('Accuracy')\n",
    "pyplot.plot(hist1.history['val_accuracy'], label='boston_test')\n",
    "pyplot.plot(history.history['val_accuracy'], label='eeg_test')\n",
    "pyplot.legend()\n",
    "pyplot.show()"
   ]
  },
  {
   "cell_type": "code",
   "execution_count": 100,
   "metadata": {},
   "outputs": [
    {
     "name": "stdout",
     "output_type": "stream",
     "text": [
      "The number of samples for the non-seizure class is: 10000\n",
      "The number of samples for the seizure class is: 33\n"
     ]
    }
   ],
   "source": [
    "#CHBMIT _LSTM\n",
    "multiple_patients = True\n",
    "ID = False\n",
    "data = pd.read_csv(\"CHB_MIT.csv\")\n",
    "data = data.sample(n=10000)\n",
    "X = data.loc[:, data.columns != \"seizure\"]\n",
    "X = X.loc[:, X.columns != \"start_time\"]\n",
    "X = X.loc[:, X.columns != \"file ID\"]\n",
    "Y = np.asarray(data['seizure'])\n",
    "feature_names = X.columns.tolist()\n",
    "print('The number of samples for the non-seizure class is:', Y.shape[0])\n",
    "print('The number of samples for the seizure class is:', np.sum(Y))\n",
    "\n",
    "# if multiple patients, one-hot encode patient ID\n",
    "if multiple_patients:\n",
    "    X = X.loc[:, X.columns != \"subject\"] \n",
    "    if ID:\n",
    "        patient = pd.get_dummies(data['subject'], prefix='subject')\n",
    "        X = pd.concat([X, patient], axis = 1)"
   ]
  },
  {
   "cell_type": "code",
   "execution_count": 101,
   "metadata": {},
   "outputs": [
    {
     "data": {
      "text/plain": [
       "array([[9.34478961e-06, 8.72562865e-11, 8.87082093e-02, ...,\n",
       "        2.09459935e-01, 9.77058463e-02, 8.09393175e-02],\n",
       "       [8.67803912e-05, 7.52817050e-09, 2.58707929e+00, ...,\n",
       "        1.85221898e-01, 1.42806385e-01, 1.71220051e-01],\n",
       "       [6.34153649e-05, 4.02306158e-09, 2.03432482e+01, ...,\n",
       "        1.03895090e-01, 6.39819452e-02, 5.37495170e-02],\n",
       "       ...,\n",
       "       [1.92398829e-05, 3.67210958e-10, 7.37912592e-01, ...,\n",
       "        1.74908659e-01, 1.17082658e-01, 6.04098669e-02],\n",
       "       [8.18385958e-05, 6.69047199e-09, 1.87194521e+00, ...,\n",
       "        1.34851904e-01, 1.61538075e-01, 1.15315817e-01],\n",
       "       [3.60352646e-05, 1.29880273e-09, 1.04615979e+00, ...,\n",
       "        1.18791723e-01, 1.63158343e-01, 1.51742885e-01]])"
      ]
     },
     "execution_count": 101,
     "metadata": {},
     "output_type": "execute_result"
    }
   ],
   "source": [
    "X=X.values\n",
    "#X=X[:,1:]\n",
    "X"
   ]
  },
  {
   "cell_type": "code",
   "execution_count": 102,
   "metadata": {},
   "outputs": [],
   "source": [
    "y=np.array(data['seizure'])\n",
    "Y=np"
   ]
  },
  {
   "cell_type": "code",
   "execution_count": 104,
   "metadata": {},
   "outputs": [
    {
     "data": {
      "text/plain": [
       "array([[1., 0.],\n",
       "       [1., 0.],\n",
       "       [1., 0.],\n",
       "       ...,\n",
       "       [1., 0.],\n",
       "       [1., 0.],\n",
       "       [1., 0.]], dtype=float32)"
      ]
     },
     "execution_count": 104,
     "metadata": {},
     "output_type": "execute_result"
    }
   ],
   "source": [
    "y=np.array(data['seizure'])\n",
    "Y=np_utils.to_categorical(y)\n",
    "Y"
   ]
  },
  {
   "cell_type": "code",
   "execution_count": 105,
   "metadata": {},
   "outputs": [],
   "source": [
    "X_train, X_test, Y_train, Y_test = train_test_split(X, Y, test_size=0.20, random_state=1)"
   ]
  },
  {
   "cell_type": "code",
   "execution_count": 106,
   "metadata": {},
   "outputs": [
    {
     "data": {
      "text/plain": [
       "(8000, 506, 1)"
      ]
     },
     "execution_count": 106,
     "metadata": {},
     "output_type": "execute_result"
    }
   ],
   "source": [
    "X_train = X_train.reshape(-1,506,1)\n",
    "X_test = X_test.reshape(-1,506,1)\n",
    "X_train.shape\n",
    "X_train.shape"
   ]
  },
  {
   "cell_type": "code",
   "execution_count": 107,
   "metadata": {},
   "outputs": [
    {
     "data": {
      "image/png": "[encoded data removed]",
      "text/plain": [
       "<Figure size 864x576 with 1 Axes>"
      ]
     },
     "metadata": {
      "needs_background": "light"
     },
     "output_type": "display_data"
    }
   ],
   "source": [
    "plt.figure(figsize=(12,8))\n",
    "plt.plot(X[1,:],label='1')\n",
    "plt.plot(X[7,:],label='2')\n",
    "plt.plot(X[12,:],label='3')\n",
    "plt.plot(X[0,:],label='4')\n",
    "plt.plot(X[2,:],label='5')\n",
    "plt.legend()\n",
    "plt.show()"
   ]
  },
  {
   "cell_type": "code",
   "execution_count": 108,
   "metadata": {},
   "outputs": [
    {
     "name": "stdout",
     "output_type": "stream",
     "text": [
      "Model: \"sequential_8\"\n",
      "_________________________________________________________________\n",
      "Layer (type)                 Output Shape              Param #   \n",
      "=================================================================\n",
      "lstm_8 (LSTM)                (None, 127, 56)           12992     \n",
      "_________________________________________________________________\n",
      "dropout_8 (Dropout)          (None, 127, 56)           0         \n",
      "_________________________________________________________________\n",
      "lstm_9 (LSTM)                (None, 56)                25312     \n",
      "_________________________________________________________________\n",
      "dropout_9 (Dropout)          (None, 56)                0         \n",
      "_________________________________________________________________\n",
      "dense_52 (Dense)             (None, 20)                1140      \n",
      "_________________________________________________________________\n",
      "activation_52 (Activation)   (None, 20)                0         \n",
      "_________________________________________________________________\n",
      "dense_53 (Dense)             (None, 2)                 42        \n",
      "_________________________________________________________________\n",
      "activation_53 (Activation)   (None, 2)                 0         \n",
      "=================================================================\n",
      "Total params: 39,486\n",
      "Trainable params: 39,486\n",
      "Non-trainable params: 0\n",
      "_________________________________________________________________\n"
     ]
    }
   ],
   "source": [
    "model = Sequential()\n",
    "model.add(LSTM(56, input_shape=(127,1), return_sequences=True))\n",
    "model.add(Dropout(0.3))\n",
    "model.add(LSTM(56))\n",
    "model.add(Dropout(0.3))\n",
    "model.add(Dense(20))\n",
    "model.add(Activation('tanh'))\n",
    "model.add(Dense(2))\n",
    "model.add(Activation('softmax'))\n",
    "\n",
    "model.summary()"
   ]
  },
  {
   "cell_type": "code",
   "execution_count": 109,
   "metadata": {},
   "outputs": [],
   "source": [
    "XT=(X_test[:,::4]-X_test.mean())/X_test.std()\n",
    "XT=np.asarray(XT).astype(np.float32)\n",
    "YT=Y_test[:,1:]\n",
    "YT=np.asarray(YT).astype(np.float32)"
   ]
  },
  {
   "cell_type": "code",
   "execution_count": 110,
   "metadata": {},
   "outputs": [],
   "source": [
    "X=(X_train[:,::4]-X_train.mean())/X_train.std()\n",
    "X=np.asarray(X).astype(np.float32)\n",
    "Y=Y_train[:,1:]\n",
    "Y=np.asarray(Y).astype(np.float32)"
   ]
  },
  {
   "cell_type": "code",
   "execution_count": 111,
   "metadata": {},
   "outputs": [],
   "source": [
    "model.compile(loss='binary_crossentropy', optimizer='adam', metrics=['accuracy'])"
   ]
  },
  {
   "cell_type": "code",
   "execution_count": 113,
   "metadata": {},
   "outputs": [
    {
     "name": "stdout",
     "output_type": "stream",
     "text": [
      "Epoch 1/50\n",
      "63/63 [==============================] - 35s 559ms/step - loss: 0.6932 - accuracy: 0.5045 - val_loss: 0.6931 - val_accuracy: 0.7570\n",
      "Epoch 2/50\n",
      "63/63 [==============================] - 31s 488ms/step - loss: 0.6931 - accuracy: 0.5014 - val_loss: 0.6931 - val_accuracy: 0.1385\n",
      "Epoch 3/50\n",
      "63/63 [==============================] - 33s 521ms/step - loss: 0.6931 - accuracy: 0.5000 - val_loss: 0.6931 - val_accuracy: 0.9390\n",
      "Epoch 4/50\n",
      "63/63 [==============================] - 33s 531ms/step - loss: 0.6931 - accuracy: 0.4969 - val_loss: 0.6931 - val_accuracy: 0.9940\n",
      "Epoch 5/50\n",
      "63/63 [==============================] - 33s 523ms/step - loss: 0.6931 - accuracy: 0.5060 - val_loss: 0.6931 - val_accuracy: 0.0545\n",
      "Epoch 6/50\n",
      "63/63 [==============================] - 33s 525ms/step - loss: 0.6931 - accuracy: 0.4972 - val_loss: 0.6931 - val_accuracy: 0.9550\n",
      "Epoch 7/50\n",
      "63/63 [==============================] - 34s 539ms/step - loss: 0.6931 - accuracy: 0.4991 - val_loss: 0.6931 - val_accuracy: 0.0200\n",
      "Epoch 8/50\n",
      "63/63 [==============================] - 34s 547ms/step - loss: 0.6931 - accuracy: 0.4996 - val_loss: 0.6931 - val_accuracy: 0.4900\n",
      "Epoch 9/50\n",
      "63/63 [==============================] - 28s 446ms/step - loss: 0.6931 - accuracy: 0.5030 - val_loss: 0.6931 - val_accuracy: 0.0845\n",
      "Epoch 10/50\n",
      "63/63 [==============================] - 34s 533ms/step - loss: 0.6931 - accuracy: 0.4985 - val_loss: 0.6931 - val_accuracy: 0.9135\n",
      "Epoch 11/50\n",
      "63/63 [==============================] - 33s 524ms/step - loss: 0.6931 - accuracy: 0.5071 - val_loss: 0.6931 - val_accuracy: 0.0050\n",
      "Epoch 12/50\n",
      "63/63 [==============================] - 33s 519ms/step - loss: 0.6931 - accuracy: 0.4981 - val_loss: 0.6931 - val_accuracy: 0.4255\n",
      "Epoch 13/50\n",
      "63/63 [==============================] - 32s 515ms/step - loss: 0.6931 - accuracy: 0.4964 - val_loss: 0.6931 - val_accuracy: 0.5735\n",
      "Epoch 14/50\n",
      "63/63 [==============================] - 33s 517ms/step - loss: 0.6931 - accuracy: 0.4908 - val_loss: 0.6931 - val_accuracy: 0.9955\n",
      "Epoch 15/50\n",
      "63/63 [==============================] - 33s 522ms/step - loss: 0.6931 - accuracy: 0.5035 - val_loss: 0.6931 - val_accuracy: 0.3645\n",
      "Epoch 16/50\n",
      "63/63 [==============================] - 33s 519ms/step - loss: 0.6931 - accuracy: 0.5009 - val_loss: 0.6931 - val_accuracy: 0.8890\n",
      "Epoch 17/50\n",
      "63/63 [==============================] - 32s 504ms/step - loss: 0.6931 - accuracy: 0.5080 - val_loss: 0.6931 - val_accuracy: 0.9955\n",
      "Epoch 18/50\n",
      "63/63 [==============================] - 33s 523ms/step - loss: 0.6931 - accuracy: 0.5001 - val_loss: 0.6931 - val_accuracy: 0.0615\n",
      "Epoch 19/50\n",
      "63/63 [==============================] - 32s 512ms/step - loss: 0.6931 - accuracy: 0.4990 - val_loss: 0.6931 - val_accuracy: 0.9955\n",
      "Epoch 20/50\n",
      "63/63 [==============================] - 32s 508ms/step - loss: 0.6931 - accuracy: 0.4985 - val_loss: 0.6931 - val_accuracy: 0.0045\n",
      "Epoch 21/50\n",
      "63/63 [==============================] - 32s 515ms/step - loss: 0.6931 - accuracy: 0.4974 - val_loss: 0.6931 - val_accuracy: 0.9940\n",
      "Epoch 22/50\n",
      "63/63 [==============================] - 33s 528ms/step - loss: 0.6931 - accuracy: 0.4996 - val_loss: 0.6931 - val_accuracy: 0.9585\n",
      "Epoch 23/50\n",
      "63/63 [==============================] - 34s 532ms/step - loss: 0.6931 - accuracy: 0.5001 - val_loss: 0.6931 - val_accuracy: 0.9955\n",
      "Epoch 24/50\n",
      "63/63 [==============================] - 26s 419ms/step - loss: 0.6931 - accuracy: 0.4974 - val_loss: 0.6931 - val_accuracy: 0.9665\n",
      "Epoch 25/50\n",
      "63/63 [==============================] - 29s 453ms/step - loss: 0.6931 - accuracy: 0.5015 - val_loss: 0.6931 - val_accuracy: 0.0045\n",
      "Epoch 26/50\n",
      "63/63 [==============================] - 31s 497ms/step - loss: 0.6931 - accuracy: 0.4985 - val_loss: 0.6931 - val_accuracy: 0.8825\n",
      "Epoch 27/50\n",
      "63/63 [==============================] - 29s 460ms/step - loss: 0.6931 - accuracy: 0.4992 - val_loss: 0.6931 - val_accuracy: 0.0045\n",
      "Epoch 28/50\n",
      "63/63 [==============================] - 33s 526ms/step - loss: 0.6931 - accuracy: 0.5090 - val_loss: 0.6931 - val_accuracy: 0.9955\n",
      "Epoch 29/50\n",
      "63/63 [==============================] - 30s 476ms/step - loss: 0.6931 - accuracy: 0.4942 - val_loss: 0.6931 - val_accuracy: 0.5250\n",
      "Epoch 30/50\n",
      "63/63 [==============================] - 30s 470ms/step - loss: 0.6931 - accuracy: 0.4926 - val_loss: 0.6931 - val_accuracy: 0.0045\n",
      "Epoch 31/50\n",
      "63/63 [==============================] - 32s 505ms/step - loss: 0.6931 - accuracy: 0.4981 - val_loss: 0.6931 - val_accuracy: 0.0045\n",
      "Epoch 32/50\n",
      "63/63 [==============================] - 29s 462ms/step - loss: 0.6931 - accuracy: 0.4969 - val_loss: 0.6931 - val_accuracy: 0.0170\n",
      "Epoch 33/50\n",
      "63/63 [==============================] - 28s 452ms/step - loss: 0.6931 - accuracy: 0.4988 - val_loss: 0.6931 - val_accuracy: 0.0045\n",
      "Epoch 34/50\n",
      "63/63 [==============================] - 30s 483ms/step - loss: 0.6931 - accuracy: 0.4944 - val_loss: 0.6931 - val_accuracy: 0.9955\n",
      "Epoch 35/50\n",
      "63/63 [==============================] - 31s 486ms/step - loss: 0.6931 - accuracy: 0.5051 - val_loss: 0.6931 - val_accuracy: 0.0475\n",
      "Epoch 36/50\n",
      "63/63 [==============================] - 32s 507ms/step - loss: 0.6931 - accuracy: 0.4997 - val_loss: 0.6931 - val_accuracy: 0.0050\n",
      "Epoch 37/50\n",
      "63/63 [==============================] - 34s 536ms/step - loss: 0.6931 - accuracy: 0.5063 - val_loss: 0.6931 - val_accuracy: 0.0045\n",
      "Epoch 38/50\n",
      "63/63 [==============================] - 32s 512ms/step - loss: 0.6931 - accuracy: 0.5014 - val_loss: 0.6931 - val_accuracy: 0.9955\n",
      "Epoch 39/50\n",
      "63/63 [==============================] - 33s 525ms/step - loss: 0.6931 - accuracy: 0.5025 - val_loss: 0.6931 - val_accuracy: 0.0260\n",
      "Epoch 40/50\n",
      "63/63 [==============================] - 32s 514ms/step - loss: 0.6931 - accuracy: 0.4954 - val_loss: 0.6931 - val_accuracy: 0.9955\n",
      "Epoch 41/50\n",
      "63/63 [==============================] - 33s 525ms/step - loss: 0.6931 - accuracy: 0.4995 - val_loss: 0.6931 - val_accuracy: 0.0045\n",
      "Epoch 42/50\n",
      "63/63 [==============================] - 33s 524ms/step - loss: 0.6931 - accuracy: 0.4929 - val_loss: 0.6931 - val_accuracy: 0.9955\n",
      "Epoch 43/50\n",
      "63/63 [==============================] - 33s 529ms/step - loss: 0.6931 - accuracy: 0.4978 - val_loss: 0.6931 - val_accuracy: 0.4745\n",
      "Epoch 44/50\n",
      "63/63 [==============================] - 34s 532ms/step - loss: 0.6931 - accuracy: 0.5031 - val_loss: 0.6931 - val_accuracy: 0.9955\n",
      "Epoch 45/50\n",
      "63/63 [==============================] - 36s 574ms/step - loss: 0.6931 - accuracy: 0.4966 - val_loss: 0.6931 - val_accuracy: 0.9775\n",
      "Epoch 46/50\n",
      "63/63 [==============================] - 38s 601ms/step - loss: 0.6931 - accuracy: 0.4992 - val_loss: 0.6931 - val_accuracy: 0.9810\n",
      "Epoch 47/50\n",
      "63/63 [==============================] - 35s 562ms/step - loss: 0.6931 - accuracy: 0.5027 - val_loss: 0.6931 - val_accuracy: 0.9900\n",
      "Epoch 48/50\n",
      "63/63 [==============================] - 33s 524ms/step - loss: 0.6931 - accuracy: 0.4997 - val_loss: 0.6931 - val_accuracy: 0.0045\n",
      "Epoch 49/50\n",
      "63/63 [==============================] - 34s 545ms/step - loss: 0.6931 - accuracy: 0.5009 - val_loss: 0.6931 - val_accuracy: 0.9955\n",
      "Epoch 50/50\n",
      "63/63 [==============================] - 35s 552ms/step - loss: 0.6931 - accuracy: 0.4980 - val_loss: 0.6931 - val_accuracy: 0.9955\n"
     ]
    }
   ],
   "source": [
    "histC = model.fit(X,Y,validation_data=(XT,YT),epochs = 50, batch_size=128,shuffle=False)"
   ]
  },
  {
   "cell_type": "code",
   "execution_count": 114,
   "metadata": {},
   "outputs": [],
   "source": [
    "ypred=model.predict(XT)\n",
    "yp=np.zeros((YT.shape[0]))\n",
    "yo=np.ones((YT.shape[0]))\n",
    "for i in range(Y_test.shape[0]):\n",
    "    yp[i]=np.argmax(ypred[i])+1\n",
    "    yo[i]=np.argmax(Y_test[i])"
   ]
  },
  {
   "cell_type": "code",
   "execution_count": 115,
   "metadata": {},
   "outputs": [
    {
     "data": {
      "text/plain": [
       "array([0., 1.])"
      ]
     },
     "execution_count": 115,
     "metadata": {},
     "output_type": "execute_result"
    }
   ],
   "source": [
    "np.unique(yo)"
   ]
  },
  {
   "cell_type": "code",
   "execution_count": 116,
   "metadata": {},
   "outputs": [],
   "source": [
    "\n",
    "#conversion of classes\n",
    "for i in range(Y_test.shape[0]):\n",
    "    if yo[i]!=1:\n",
    "        yo[i]=0\n",
    "    if yp[i]!=1:\n",
    "        yp[i]=0"
   ]
  },
  {
   "cell_type": "code",
   "execution_count": 117,
   "metadata": {},
   "outputs": [
    {
     "name": "stdout",
     "output_type": "stream",
     "text": [
      "Accuracy: 0.004500\n",
      "Precision: 0.004500\n",
      "Recall: 1.000000\n"
     ]
    }
   ],
   "source": [
    "\n",
    "# accuracy: (tp + tn) / (p + n)\n",
    "accuracy = accuracy_score(yo, yp)\n",
    "print('Accuracy: %f' % accuracy)\n",
    "# precision tp / (tp + fp)\n",
    "precision = precision_score(yo, yp)\n",
    "print('Precision: %f' % precision)\n",
    "# recall: tp / (tp + fn)\n",
    "recall = recall_score(yo, yp)\n",
    "print('Recall: %f' % recall)\n",
    "# f1: 2 tp / (2 tp + fp + fn)\n",
    "f1 = f1_score(yo, yp)"
   ]
  },
  {
   "cell_type": "code",
   "execution_count": 118,
   "metadata": {},
   "outputs": [],
   "source": [
    "train_acc = model.evaluate(X, Y, verbose=0)\n",
    "_, test_acc = model.evaluate(XT, YT, verbose=0)"
   ]
  },
  {
   "cell_type": "code",
   "execution_count": 119,
   "metadata": {},
   "outputs": [
    {
     "data": {
      "image/png": "[encoded data removed]",
      "text/plain": [
       "<Figure size 432x288 with 2 Axes>"
      ]
     },
     "metadata": {
      "needs_background": "light"
     },
     "output_type": "display_data"
    }
   ],
   "source": [
    "from matplotlib import pyplot\n",
    "pyplot.subplot(211)\n",
    "pyplot.title('Loss')\n",
    "pyplot.plot(history.history['loss'], label='train')\n",
    "pyplot.plot(history.history['val_loss'], label='test')\n",
    "pyplot.legend()\n",
    "# plot accuracy during training\n",
    "pyplot.subplot(212)\n",
    "pyplot.title('Accuracy')\n",
    "pyplot.plot(history.history['accuracy'], label='train')\n",
    "pyplot.plot(history.history['val_accuracy'], label='test')\n",
    "pyplot.legend()\n",
    "pyplot.show()"
   ]
  },
  {
   "cell_type": "code",
   "execution_count": 121,
   "metadata": {},
   "outputs": [
    {
     "data": {
      "image/png": "[encoded data removed]",
      "text/plain": [
       "<Figure size 432x288 with 1 Axes>"
      ]
     },
     "metadata": {
      "needs_background": "light"
     },
     "output_type": "display_data"
    }
   ],
   "source": [
    "pyplot.subplot(212)\n",
    "pyplot.title('Accuracy')\n",
    "pyplot.plot(hist1.history['val_accuracy'], label='boston_test')\n",
    "pyplot.plot(history.history['val_accuracy'], label='eeg_test')\n",
    "pyplot.plot(histC.history['val_accuracy'], label='CHB_test')\n",
    "pyplot.legend()\n",
    "pyplot.show()"
   ]
  },
  {
   "cell_type": "code",
   "execution_count": null,
   "metadata": {},
   "outputs": [],
   "source": []
  }
 ],
 "metadata": {
  "kernelspec": {
   "display_name": "Python 3",
   "language": "python",
   "name": "python3"
  },
  "language_info": {
   "codemirror_mode": {
    "name": "ipython",
    "version": 3
   },
   "file_extension": ".py",
   "mimetype": "text/x-python",
   "name": "python",
   "nbconvert_exporter": "python",
   "pygments_lexer": "ipython3",
   "version": "3.8.5"
  }
 },
 "nbformat": 4,
 "nbformat_minor": 4
}
