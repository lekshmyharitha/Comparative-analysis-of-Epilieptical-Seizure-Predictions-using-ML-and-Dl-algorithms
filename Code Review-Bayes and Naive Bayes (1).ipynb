{
 "cells": [
  {
   "cell_type": "markdown",
   "metadata": {
    "id": "b5IezonhtjuL"
   },
   "source": [
    "## Bayes Classifier"
   ]
  },
  {
   "cell_type": "code",
   "execution_count": 1,
   "metadata": {
    "id": "Yjml9FpptjuQ"
   },
   "outputs": [],
   "source": [
    "import numpy as np\n",
    "import pandas as pd\n",
    "import matplotlib.pyplot as plt\n",
    "from sklearn.model_selection import train_test_split\n",
    "from sklearn.metrics import confusion_matrix, accuracy_score"
   ]
  },
  {
   "cell_type": "code",
   "execution_count": 2,
   "metadata": {
    "id": "7eqWZ8WitjuY"
   },
   "outputs": [],
   "source": [
    "\n",
    "df =  pd.read_csv(\"data.csv\")\n",
    "df = df.dropna()\n",
    "\n"
   ]
  },
  {
   "cell_type": "code",
   "execution_count": 3,
   "metadata": {
    "colab": {
     "base_uri": "https://localhost:8080/",
     "height": 163
    },
    "id": "8CWnJafWtjug",
    "outputId": "b22fc50c-a0ae-42cd-b3fc-8b60866f631f"
   },
   "outputs": [
    {
     "data": {
      "text/html": [
       "<div>\n",
       "<style scoped>\n",
       "    .dataframe tbody tr th:only-of-type {\n",
       "        vertical-align: middle;\n",
       "    }\n",
       "\n",
       "    .dataframe tbody tr th {\n",
       "        vertical-align: top;\n",
       "    }\n",
       "\n",
       "    .dataframe thead th {\n",
       "        text-align: right;\n",
       "    }\n",
       "</style>\n",
       "<table border=\"1\" class=\"dataframe\">\n",
       "  <thead>\n",
       "    <tr style=\"text-align: right;\">\n",
       "      <th></th>\n",
       "      <th>X1</th>\n",
       "      <th>X2</th>\n",
       "      <th>X3</th>\n",
       "      <th>X4</th>\n",
       "      <th>X5</th>\n",
       "      <th>X6</th>\n",
       "      <th>X7</th>\n",
       "      <th>X8</th>\n",
       "      <th>X9</th>\n",
       "      <th>X10</th>\n",
       "      <th>...</th>\n",
       "      <th>X170</th>\n",
       "      <th>X171</th>\n",
       "      <th>X172</th>\n",
       "      <th>X173</th>\n",
       "      <th>X174</th>\n",
       "      <th>X175</th>\n",
       "      <th>X176</th>\n",
       "      <th>X177</th>\n",
       "      <th>X178</th>\n",
       "      <th>y</th>\n",
       "    </tr>\n",
       "  </thead>\n",
       "  <tbody>\n",
       "    <tr>\n",
       "      <th>0</th>\n",
       "      <td>135</td>\n",
       "      <td>190</td>\n",
       "      <td>229</td>\n",
       "      <td>223</td>\n",
       "      <td>192</td>\n",
       "      <td>125</td>\n",
       "      <td>55</td>\n",
       "      <td>-9</td>\n",
       "      <td>-33</td>\n",
       "      <td>-38</td>\n",
       "      <td>...</td>\n",
       "      <td>-17</td>\n",
       "      <td>-15</td>\n",
       "      <td>-31</td>\n",
       "      <td>-77</td>\n",
       "      <td>-103</td>\n",
       "      <td>-127</td>\n",
       "      <td>-116</td>\n",
       "      <td>-83</td>\n",
       "      <td>-51</td>\n",
       "      <td>4</td>\n",
       "    </tr>\n",
       "    <tr>\n",
       "      <th>1</th>\n",
       "      <td>386</td>\n",
       "      <td>382</td>\n",
       "      <td>356</td>\n",
       "      <td>331</td>\n",
       "      <td>320</td>\n",
       "      <td>315</td>\n",
       "      <td>307</td>\n",
       "      <td>272</td>\n",
       "      <td>244</td>\n",
       "      <td>232</td>\n",
       "      <td>...</td>\n",
       "      <td>164</td>\n",
       "      <td>150</td>\n",
       "      <td>146</td>\n",
       "      <td>152</td>\n",
       "      <td>157</td>\n",
       "      <td>156</td>\n",
       "      <td>154</td>\n",
       "      <td>143</td>\n",
       "      <td>129</td>\n",
       "      <td>1</td>\n",
       "    </tr>\n",
       "    <tr>\n",
       "      <th>2</th>\n",
       "      <td>-32</td>\n",
       "      <td>-39</td>\n",
       "      <td>-47</td>\n",
       "      <td>-37</td>\n",
       "      <td>-32</td>\n",
       "      <td>-36</td>\n",
       "      <td>-57</td>\n",
       "      <td>-73</td>\n",
       "      <td>-85</td>\n",
       "      <td>-94</td>\n",
       "      <td>...</td>\n",
       "      <td>57</td>\n",
       "      <td>64</td>\n",
       "      <td>48</td>\n",
       "      <td>19</td>\n",
       "      <td>-12</td>\n",
       "      <td>-30</td>\n",
       "      <td>-35</td>\n",
       "      <td>-35</td>\n",
       "      <td>-36</td>\n",
       "      <td>5</td>\n",
       "    </tr>\n",
       "    <tr>\n",
       "      <th>3</th>\n",
       "      <td>-105</td>\n",
       "      <td>-101</td>\n",
       "      <td>-96</td>\n",
       "      <td>-92</td>\n",
       "      <td>-89</td>\n",
       "      <td>-95</td>\n",
       "      <td>-102</td>\n",
       "      <td>-100</td>\n",
       "      <td>-87</td>\n",
       "      <td>-79</td>\n",
       "      <td>...</td>\n",
       "      <td>-82</td>\n",
       "      <td>-81</td>\n",
       "      <td>-80</td>\n",
       "      <td>-77</td>\n",
       "      <td>-85</td>\n",
       "      <td>-77</td>\n",
       "      <td>-72</td>\n",
       "      <td>-69</td>\n",
       "      <td>-65</td>\n",
       "      <td>5</td>\n",
       "    </tr>\n",
       "    <tr>\n",
       "      <th>4</th>\n",
       "      <td>-9</td>\n",
       "      <td>-65</td>\n",
       "      <td>-98</td>\n",
       "      <td>-102</td>\n",
       "      <td>-78</td>\n",
       "      <td>-48</td>\n",
       "      <td>-16</td>\n",
       "      <td>0</td>\n",
       "      <td>-21</td>\n",
       "      <td>-59</td>\n",
       "      <td>...</td>\n",
       "      <td>4</td>\n",
       "      <td>2</td>\n",
       "      <td>-12</td>\n",
       "      <td>-32</td>\n",
       "      <td>-41</td>\n",
       "      <td>-65</td>\n",
       "      <td>-83</td>\n",
       "      <td>-89</td>\n",
       "      <td>-73</td>\n",
       "      <td>5</td>\n",
       "    </tr>\n",
       "    <tr>\n",
       "      <th>...</th>\n",
       "      <td>...</td>\n",
       "      <td>...</td>\n",
       "      <td>...</td>\n",
       "      <td>...</td>\n",
       "      <td>...</td>\n",
       "      <td>...</td>\n",
       "      <td>...</td>\n",
       "      <td>...</td>\n",
       "      <td>...</td>\n",
       "      <td>...</td>\n",
       "      <td>...</td>\n",
       "      <td>...</td>\n",
       "      <td>...</td>\n",
       "      <td>...</td>\n",
       "      <td>...</td>\n",
       "      <td>...</td>\n",
       "      <td>...</td>\n",
       "      <td>...</td>\n",
       "      <td>...</td>\n",
       "      <td>...</td>\n",
       "      <td>...</td>\n",
       "    </tr>\n",
       "    <tr>\n",
       "      <th>11495</th>\n",
       "      <td>-22</td>\n",
       "      <td>-22</td>\n",
       "      <td>-23</td>\n",
       "      <td>-26</td>\n",
       "      <td>-36</td>\n",
       "      <td>-42</td>\n",
       "      <td>-45</td>\n",
       "      <td>-42</td>\n",
       "      <td>-45</td>\n",
       "      <td>-49</td>\n",
       "      <td>...</td>\n",
       "      <td>15</td>\n",
       "      <td>16</td>\n",
       "      <td>12</td>\n",
       "      <td>5</td>\n",
       "      <td>-1</td>\n",
       "      <td>-18</td>\n",
       "      <td>-37</td>\n",
       "      <td>-47</td>\n",
       "      <td>-48</td>\n",
       "      <td>2</td>\n",
       "    </tr>\n",
       "    <tr>\n",
       "      <th>11496</th>\n",
       "      <td>-47</td>\n",
       "      <td>-11</td>\n",
       "      <td>28</td>\n",
       "      <td>77</td>\n",
       "      <td>141</td>\n",
       "      <td>211</td>\n",
       "      <td>246</td>\n",
       "      <td>240</td>\n",
       "      <td>193</td>\n",
       "      <td>136</td>\n",
       "      <td>...</td>\n",
       "      <td>-65</td>\n",
       "      <td>-33</td>\n",
       "      <td>-7</td>\n",
       "      <td>14</td>\n",
       "      <td>27</td>\n",
       "      <td>48</td>\n",
       "      <td>77</td>\n",
       "      <td>117</td>\n",
       "      <td>170</td>\n",
       "      <td>1</td>\n",
       "    </tr>\n",
       "    <tr>\n",
       "      <th>11497</th>\n",
       "      <td>14</td>\n",
       "      <td>6</td>\n",
       "      <td>-13</td>\n",
       "      <td>-16</td>\n",
       "      <td>10</td>\n",
       "      <td>26</td>\n",
       "      <td>27</td>\n",
       "      <td>-9</td>\n",
       "      <td>4</td>\n",
       "      <td>14</td>\n",
       "      <td>...</td>\n",
       "      <td>-65</td>\n",
       "      <td>-48</td>\n",
       "      <td>-61</td>\n",
       "      <td>-62</td>\n",
       "      <td>-67</td>\n",
       "      <td>-30</td>\n",
       "      <td>-2</td>\n",
       "      <td>-1</td>\n",
       "      <td>-8</td>\n",
       "      <td>5</td>\n",
       "    </tr>\n",
       "    <tr>\n",
       "      <th>11498</th>\n",
       "      <td>-40</td>\n",
       "      <td>-25</td>\n",
       "      <td>-9</td>\n",
       "      <td>-12</td>\n",
       "      <td>-2</td>\n",
       "      <td>12</td>\n",
       "      <td>7</td>\n",
       "      <td>19</td>\n",
       "      <td>22</td>\n",
       "      <td>29</td>\n",
       "      <td>...</td>\n",
       "      <td>121</td>\n",
       "      <td>135</td>\n",
       "      <td>148</td>\n",
       "      <td>143</td>\n",
       "      <td>116</td>\n",
       "      <td>86</td>\n",
       "      <td>68</td>\n",
       "      <td>59</td>\n",
       "      <td>55</td>\n",
       "      <td>3</td>\n",
       "    </tr>\n",
       "    <tr>\n",
       "      <th>11499</th>\n",
       "      <td>29</td>\n",
       "      <td>41</td>\n",
       "      <td>57</td>\n",
       "      <td>72</td>\n",
       "      <td>74</td>\n",
       "      <td>62</td>\n",
       "      <td>54</td>\n",
       "      <td>43</td>\n",
       "      <td>31</td>\n",
       "      <td>23</td>\n",
       "      <td>...</td>\n",
       "      <td>-59</td>\n",
       "      <td>-25</td>\n",
       "      <td>-4</td>\n",
       "      <td>2</td>\n",
       "      <td>5</td>\n",
       "      <td>4</td>\n",
       "      <td>-2</td>\n",
       "      <td>2</td>\n",
       "      <td>20</td>\n",
       "      <td>4</td>\n",
       "    </tr>\n",
       "  </tbody>\n",
       "</table>\n",
       "<p>11500 rows × 179 columns</p>\n",
       "</div>"
      ],
      "text/plain": [
       "        X1   X2   X3   X4   X5   X6   X7   X8   X9  X10  ...  X170  X171  \\\n",
       "0      135  190  229  223  192  125   55   -9  -33  -38  ...   -17   -15   \n",
       "1      386  382  356  331  320  315  307  272  244  232  ...   164   150   \n",
       "2      -32  -39  -47  -37  -32  -36  -57  -73  -85  -94  ...    57    64   \n",
       "3     -105 -101  -96  -92  -89  -95 -102 -100  -87  -79  ...   -82   -81   \n",
       "4       -9  -65  -98 -102  -78  -48  -16    0  -21  -59  ...     4     2   \n",
       "...    ...  ...  ...  ...  ...  ...  ...  ...  ...  ...  ...   ...   ...   \n",
       "11495  -22  -22  -23  -26  -36  -42  -45  -42  -45  -49  ...    15    16   \n",
       "11496  -47  -11   28   77  141  211  246  240  193  136  ...   -65   -33   \n",
       "11497   14    6  -13  -16   10   26   27   -9    4   14  ...   -65   -48   \n",
       "11498  -40  -25   -9  -12   -2   12    7   19   22   29  ...   121   135   \n",
       "11499   29   41   57   72   74   62   54   43   31   23  ...   -59   -25   \n",
       "\n",
       "       X172  X173  X174  X175  X176  X177  X178  y  \n",
       "0       -31   -77  -103  -127  -116   -83   -51  4  \n",
       "1       146   152   157   156   154   143   129  1  \n",
       "2        48    19   -12   -30   -35   -35   -36  5  \n",
       "3       -80   -77   -85   -77   -72   -69   -65  5  \n",
       "4       -12   -32   -41   -65   -83   -89   -73  5  \n",
       "...     ...   ...   ...   ...   ...   ...   ... ..  \n",
       "11495    12     5    -1   -18   -37   -47   -48  2  \n",
       "11496    -7    14    27    48    77   117   170  1  \n",
       "11497   -61   -62   -67   -30    -2    -1    -8  5  \n",
       "11498   148   143   116    86    68    59    55  3  \n",
       "11499    -4     2     5     4    -2     2    20  4  \n",
       "\n",
       "[11500 rows x 179 columns]"
      ]
     },
     "execution_count": 3,
     "metadata": {},
     "output_type": "execute_result"
    }
   ],
   "source": [
    "df.drop(df.columns[0], axis=1, inplace=True)\n",
    "df"
   ]
  },
  {
   "cell_type": "code",
   "execution_count": 4,
   "metadata": {
    "id": "pSuBJCn0tjum",
    "outputId": "1e9b9c97-2bec-4bbf-f97d-195befcdfa55"
   },
   "outputs": [
    {
     "data": {
      "text/plain": [
       "(11500, 179)"
      ]
     },
     "execution_count": 4,
     "metadata": {},
     "output_type": "execute_result"
    }
   ],
   "source": [
    "df.shape"
   ]
  },
  {
   "cell_type": "code",
   "execution_count": 39,
   "metadata": {
    "id": "5UCWItk-tjuq",
    "outputId": "68798aae-164f-4e16-b8d3-0d4d1158afd0"
   },
   "outputs": [
    {
     "data": {
      "text/plain": [
       "5    2300\n",
       "4    2300\n",
       "3    2300\n",
       "2    2300\n",
       "1    2300\n",
       "Name: y, dtype: int64"
      ]
     },
     "execution_count": 39,
     "metadata": {},
     "output_type": "execute_result"
    }
   ],
   "source": [
    "df['y'].value_counts() "
   ]
  },
  {
   "cell_type": "code",
   "execution_count": 40,
   "metadata": {},
   "outputs": [
    {
     "data": {
      "text/html": [
       "<div>\n",
       "<style scoped>\n",
       "    .dataframe tbody tr th:only-of-type {\n",
       "        vertical-align: middle;\n",
       "    }\n",
       "\n",
       "    .dataframe tbody tr th {\n",
       "        vertical-align: top;\n",
       "    }\n",
       "\n",
       "    .dataframe thead th {\n",
       "        text-align: right;\n",
       "    }\n",
       "</style>\n",
       "<table border=\"1\" class=\"dataframe\">\n",
       "  <thead>\n",
       "    <tr style=\"text-align: right;\">\n",
       "      <th></th>\n",
       "      <th>X1</th>\n",
       "      <th>X2</th>\n",
       "      <th>X3</th>\n",
       "      <th>X4</th>\n",
       "      <th>X5</th>\n",
       "      <th>X6</th>\n",
       "      <th>X7</th>\n",
       "      <th>X8</th>\n",
       "      <th>X9</th>\n",
       "      <th>X10</th>\n",
       "      <th>...</th>\n",
       "      <th>X170</th>\n",
       "      <th>X171</th>\n",
       "      <th>X172</th>\n",
       "      <th>X173</th>\n",
       "      <th>X174</th>\n",
       "      <th>X175</th>\n",
       "      <th>X176</th>\n",
       "      <th>X177</th>\n",
       "      <th>X178</th>\n",
       "      <th>y</th>\n",
       "    </tr>\n",
       "  </thead>\n",
       "  <tbody>\n",
       "    <tr>\n",
       "      <th>X1</th>\n",
       "      <td>1.000000</td>\n",
       "      <td>0.947729</td>\n",
       "      <td>0.808192</td>\n",
       "      <td>0.608109</td>\n",
       "      <td>0.393674</td>\n",
       "      <td>0.218226</td>\n",
       "      <td>0.103693</td>\n",
       "      <td>0.044483</td>\n",
       "      <td>0.027923</td>\n",
       "      <td>0.032221</td>\n",
       "      <td>...</td>\n",
       "      <td>0.027263</td>\n",
       "      <td>0.045401</td>\n",
       "      <td>0.051630</td>\n",
       "      <td>0.049604</td>\n",
       "      <td>0.042967</td>\n",
       "      <td>0.036144</td>\n",
       "      <td>0.030581</td>\n",
       "      <td>0.024562</td>\n",
       "      <td>0.020022</td>\n",
       "      <td>0.022375</td>\n",
       "    </tr>\n",
       "    <tr>\n",
       "      <th>X2</th>\n",
       "      <td>0.947729</td>\n",
       "      <td>1.000000</td>\n",
       "      <td>0.944623</td>\n",
       "      <td>0.790403</td>\n",
       "      <td>0.576579</td>\n",
       "      <td>0.369803</td>\n",
       "      <td>0.211793</td>\n",
       "      <td>0.109478</td>\n",
       "      <td>0.060218</td>\n",
       "      <td>0.043565</td>\n",
       "      <td>...</td>\n",
       "      <td>0.012602</td>\n",
       "      <td>0.025937</td>\n",
       "      <td>0.031606</td>\n",
       "      <td>0.030452</td>\n",
       "      <td>0.025975</td>\n",
       "      <td>0.024290</td>\n",
       "      <td>0.023906</td>\n",
       "      <td>0.021962</td>\n",
       "      <td>0.018059</td>\n",
       "      <td>0.019154</td>\n",
       "    </tr>\n",
       "    <tr>\n",
       "      <th>X3</th>\n",
       "      <td>0.808192</td>\n",
       "      <td>0.944623</td>\n",
       "      <td>1.000000</td>\n",
       "      <td>0.939522</td>\n",
       "      <td>0.778648</td>\n",
       "      <td>0.573874</td>\n",
       "      <td>0.382493</td>\n",
       "      <td>0.231084</td>\n",
       "      <td>0.133249</td>\n",
       "      <td>0.080003</td>\n",
       "      <td>...</td>\n",
       "      <td>0.004575</td>\n",
       "      <td>0.011752</td>\n",
       "      <td>0.016424</td>\n",
       "      <td>0.017070</td>\n",
       "      <td>0.014837</td>\n",
       "      <td>0.015536</td>\n",
       "      <td>0.016982</td>\n",
       "      <td>0.017070</td>\n",
       "      <td>0.012419</td>\n",
       "      <td>0.013469</td>\n",
       "    </tr>\n",
       "    <tr>\n",
       "      <th>X4</th>\n",
       "      <td>0.608109</td>\n",
       "      <td>0.790403</td>\n",
       "      <td>0.939522</td>\n",
       "      <td>1.000000</td>\n",
       "      <td>0.938636</td>\n",
       "      <td>0.784954</td>\n",
       "      <td>0.590497</td>\n",
       "      <td>0.399855</td>\n",
       "      <td>0.250052</td>\n",
       "      <td>0.150284</td>\n",
       "      <td>...</td>\n",
       "      <td>-0.001028</td>\n",
       "      <td>0.000632</td>\n",
       "      <td>0.006617</td>\n",
       "      <td>0.011882</td>\n",
       "      <td>0.014496</td>\n",
       "      <td>0.016992</td>\n",
       "      <td>0.016911</td>\n",
       "      <td>0.014671</td>\n",
       "      <td>0.006226</td>\n",
       "      <td>0.004763</td>\n",
       "    </tr>\n",
       "    <tr>\n",
       "      <th>X5</th>\n",
       "      <td>0.393674</td>\n",
       "      <td>0.576579</td>\n",
       "      <td>0.778648</td>\n",
       "      <td>0.938636</td>\n",
       "      <td>1.000000</td>\n",
       "      <td>0.941267</td>\n",
       "      <td>0.792304</td>\n",
       "      <td>0.596424</td>\n",
       "      <td>0.410651</td>\n",
       "      <td>0.265112</td>\n",
       "      <td>...</td>\n",
       "      <td>0.004861</td>\n",
       "      <td>0.000918</td>\n",
       "      <td>0.006488</td>\n",
       "      <td>0.013946</td>\n",
       "      <td>0.019146</td>\n",
       "      <td>0.021924</td>\n",
       "      <td>0.018869</td>\n",
       "      <td>0.013607</td>\n",
       "      <td>0.001298</td>\n",
       "      <td>-0.006597</td>\n",
       "    </tr>\n",
       "    <tr>\n",
       "      <th>...</th>\n",
       "      <td>...</td>\n",
       "      <td>...</td>\n",
       "      <td>...</td>\n",
       "      <td>...</td>\n",
       "      <td>...</td>\n",
       "      <td>...</td>\n",
       "      <td>...</td>\n",
       "      <td>...</td>\n",
       "      <td>...</td>\n",
       "      <td>...</td>\n",
       "      <td>...</td>\n",
       "      <td>...</td>\n",
       "      <td>...</td>\n",
       "      <td>...</td>\n",
       "      <td>...</td>\n",
       "      <td>...</td>\n",
       "      <td>...</td>\n",
       "      <td>...</td>\n",
       "      <td>...</td>\n",
       "      <td>...</td>\n",
       "      <td>...</td>\n",
       "    </tr>\n",
       "    <tr>\n",
       "      <th>X175</th>\n",
       "      <td>0.036144</td>\n",
       "      <td>0.024290</td>\n",
       "      <td>0.015536</td>\n",
       "      <td>0.016992</td>\n",
       "      <td>0.021924</td>\n",
       "      <td>0.022444</td>\n",
       "      <td>0.014869</td>\n",
       "      <td>-0.000510</td>\n",
       "      <td>-0.018552</td>\n",
       "      <td>-0.036517</td>\n",
       "      <td>...</td>\n",
       "      <td>0.195640</td>\n",
       "      <td>0.366428</td>\n",
       "      <td>0.573335</td>\n",
       "      <td>0.782018</td>\n",
       "      <td>0.936986</td>\n",
       "      <td>1.000000</td>\n",
       "      <td>0.933893</td>\n",
       "      <td>0.759069</td>\n",
       "      <td>0.533265</td>\n",
       "      <td>0.028425</td>\n",
       "    </tr>\n",
       "    <tr>\n",
       "      <th>X176</th>\n",
       "      <td>0.030581</td>\n",
       "      <td>0.023906</td>\n",
       "      <td>0.016982</td>\n",
       "      <td>0.016911</td>\n",
       "      <td>0.018869</td>\n",
       "      <td>0.020977</td>\n",
       "      <td>0.017016</td>\n",
       "      <td>0.005851</td>\n",
       "      <td>-0.009052</td>\n",
       "      <td>-0.025522</td>\n",
       "      <td>...</td>\n",
       "      <td>0.084966</td>\n",
       "      <td>0.195891</td>\n",
       "      <td>0.359400</td>\n",
       "      <td>0.563321</td>\n",
       "      <td>0.767300</td>\n",
       "      <td>0.933893</td>\n",
       "      <td>1.000000</td>\n",
       "      <td>0.931826</td>\n",
       "      <td>0.759381</td>\n",
       "      <td>0.027259</td>\n",
       "    </tr>\n",
       "    <tr>\n",
       "      <th>X177</th>\n",
       "      <td>0.024562</td>\n",
       "      <td>0.021962</td>\n",
       "      <td>0.017070</td>\n",
       "      <td>0.014671</td>\n",
       "      <td>0.013607</td>\n",
       "      <td>0.017383</td>\n",
       "      <td>0.018572</td>\n",
       "      <td>0.012590</td>\n",
       "      <td>0.001943</td>\n",
       "      <td>-0.011809</td>\n",
       "      <td>...</td>\n",
       "      <td>0.022042</td>\n",
       "      <td>0.071946</td>\n",
       "      <td>0.175322</td>\n",
       "      <td>0.337020</td>\n",
       "      <td>0.537493</td>\n",
       "      <td>0.759069</td>\n",
       "      <td>0.931826</td>\n",
       "      <td>1.000000</td>\n",
       "      <td>0.934330</td>\n",
       "      <td>0.026156</td>\n",
       "    </tr>\n",
       "    <tr>\n",
       "      <th>X178</th>\n",
       "      <td>0.020022</td>\n",
       "      <td>0.018059</td>\n",
       "      <td>0.012419</td>\n",
       "      <td>0.006226</td>\n",
       "      <td>0.001298</td>\n",
       "      <td>0.004240</td>\n",
       "      <td>0.008325</td>\n",
       "      <td>0.008032</td>\n",
       "      <td>0.004823</td>\n",
       "      <td>-0.001332</td>\n",
       "      <td>...</td>\n",
       "      <td>-0.004094</td>\n",
       "      <td>0.001945</td>\n",
       "      <td>0.049854</td>\n",
       "      <td>0.155044</td>\n",
       "      <td>0.315385</td>\n",
       "      <td>0.533265</td>\n",
       "      <td>0.759381</td>\n",
       "      <td>0.934330</td>\n",
       "      <td>1.000000</td>\n",
       "      <td>0.025168</td>\n",
       "    </tr>\n",
       "    <tr>\n",
       "      <th>y</th>\n",
       "      <td>0.022375</td>\n",
       "      <td>0.019154</td>\n",
       "      <td>0.013469</td>\n",
       "      <td>0.004763</td>\n",
       "      <td>-0.006597</td>\n",
       "      <td>-0.018256</td>\n",
       "      <td>-0.026422</td>\n",
       "      <td>-0.027478</td>\n",
       "      <td>-0.029452</td>\n",
       "      <td>-0.034459</td>\n",
       "      <td>...</td>\n",
       "      <td>0.002707</td>\n",
       "      <td>0.012589</td>\n",
       "      <td>0.022893</td>\n",
       "      <td>0.029172</td>\n",
       "      <td>0.028563</td>\n",
       "      <td>0.028425</td>\n",
       "      <td>0.027259</td>\n",
       "      <td>0.026156</td>\n",
       "      <td>0.025168</td>\n",
       "      <td>1.000000</td>\n",
       "    </tr>\n",
       "  </tbody>\n",
       "</table>\n",
       "<p>179 rows × 179 columns</p>\n",
       "</div>"
      ],
      "text/plain": [
       "            X1        X2        X3        X4        X5        X6        X7  \\\n",
       "X1    1.000000  0.947729  0.808192  0.608109  0.393674  0.218226  0.103693   \n",
       "X2    0.947729  1.000000  0.944623  0.790403  0.576579  0.369803  0.211793   \n",
       "X3    0.808192  0.944623  1.000000  0.939522  0.778648  0.573874  0.382493   \n",
       "X4    0.608109  0.790403  0.939522  1.000000  0.938636  0.784954  0.590497   \n",
       "X5    0.393674  0.576579  0.778648  0.938636  1.000000  0.941267  0.792304   \n",
       "...        ...       ...       ...       ...       ...       ...       ...   \n",
       "X175  0.036144  0.024290  0.015536  0.016992  0.021924  0.022444  0.014869   \n",
       "X176  0.030581  0.023906  0.016982  0.016911  0.018869  0.020977  0.017016   \n",
       "X177  0.024562  0.021962  0.017070  0.014671  0.013607  0.017383  0.018572   \n",
       "X178  0.020022  0.018059  0.012419  0.006226  0.001298  0.004240  0.008325   \n",
       "y     0.022375  0.019154  0.013469  0.004763 -0.006597 -0.018256 -0.026422   \n",
       "\n",
       "            X8        X9       X10  ...      X170      X171      X172  \\\n",
       "X1    0.044483  0.027923  0.032221  ...  0.027263  0.045401  0.051630   \n",
       "X2    0.109478  0.060218  0.043565  ...  0.012602  0.025937  0.031606   \n",
       "X3    0.231084  0.133249  0.080003  ...  0.004575  0.011752  0.016424   \n",
       "X4    0.399855  0.250052  0.150284  ... -0.001028  0.000632  0.006617   \n",
       "X5    0.596424  0.410651  0.265112  ...  0.004861  0.000918  0.006488   \n",
       "...        ...       ...       ...  ...       ...       ...       ...   \n",
       "X175 -0.000510 -0.018552 -0.036517  ...  0.195640  0.366428  0.573335   \n",
       "X176  0.005851 -0.009052 -0.025522  ...  0.084966  0.195891  0.359400   \n",
       "X177  0.012590  0.001943 -0.011809  ...  0.022042  0.071946  0.175322   \n",
       "X178  0.008032  0.004823 -0.001332  ... -0.004094  0.001945  0.049854   \n",
       "y    -0.027478 -0.029452 -0.034459  ...  0.002707  0.012589  0.022893   \n",
       "\n",
       "          X173      X174      X175      X176      X177      X178         y  \n",
       "X1    0.049604  0.042967  0.036144  0.030581  0.024562  0.020022  0.022375  \n",
       "X2    0.030452  0.025975  0.024290  0.023906  0.021962  0.018059  0.019154  \n",
       "X3    0.017070  0.014837  0.015536  0.016982  0.017070  0.012419  0.013469  \n",
       "X4    0.011882  0.014496  0.016992  0.016911  0.014671  0.006226  0.004763  \n",
       "X5    0.013946  0.019146  0.021924  0.018869  0.013607  0.001298 -0.006597  \n",
       "...        ...       ...       ...       ...       ...       ...       ...  \n",
       "X175  0.782018  0.936986  1.000000  0.933893  0.759069  0.533265  0.028425  \n",
       "X176  0.563321  0.767300  0.933893  1.000000  0.931826  0.759381  0.027259  \n",
       "X177  0.337020  0.537493  0.759069  0.931826  1.000000  0.934330  0.026156  \n",
       "X178  0.155044  0.315385  0.533265  0.759381  0.934330  1.000000  0.025168  \n",
       "y     0.029172  0.028563  0.028425  0.027259  0.026156  0.025168  1.000000  \n",
       "\n",
       "[179 rows x 179 columns]"
      ]
     },
     "execution_count": 40,
     "metadata": {},
     "output_type": "execute_result"
    }
   ],
   "source": [
    "df.corr()"
   ]
  },
  {
   "cell_type": "code",
   "execution_count": 46,
   "metadata": {
    "colab": {
     "base_uri": "https://localhost:8080/"
    },
    "id": "bkBOE6e-tju3",
    "outputId": "dabae414-cab4-49de-ac87-ee3385140efb"
   },
   "outputs": [],
   "source": [
    "X_TRAIN, X_TEST, Y_TRAIN, Y_TEST = train_test_split(df.iloc[:, 0:5].values, df.iloc[:, -1].values, train_size = 0.7, random_state = 101)"
   ]
  },
  {
   "cell_type": "code",
   "execution_count": 7,
   "metadata": {
    "id": "SJVGSWj1tju6",
    "outputId": "ec56392c-b40e-4965-9d2c-2eb24551b457",
    "scrolled": true
   },
   "outputs": [
    {
     "data": {
      "text/plain": [
       "(8049, 5)"
      ]
     },
     "execution_count": 7,
     "metadata": {},
     "output_type": "execute_result"
    }
   ],
   "source": [
    "X_TRAIN.shape"
   ]
  },
  {
   "cell_type": "code",
   "execution_count": 8,
   "metadata": {
    "id": "dzfsYtMAtju-",
    "outputId": "47348c53-8810-457f-fdd1-1ff5caf8a4b9"
   },
   "outputs": [
    {
     "data": {
      "text/plain": [
       "(3451, 5)"
      ]
     },
     "execution_count": 8,
     "metadata": {},
     "output_type": "execute_result"
    }
   ],
   "source": [
    "X_TEST.shape\n"
   ]
  },
  {
   "cell_type": "code",
   "execution_count": 9,
   "metadata": {
    "id": "8s70EjdNtjvC"
   },
   "outputs": [
    {
     "data": {
      "text/plain": [
       "array([[  6,  91, 101, ..., -45,  22,  42],\n",
       "       [  7, 101,  96, ..., -59,  26,  44],\n",
       "       [ -1, 100,  91, ..., -62,  22,  36],\n",
       "       [-13,  97,  84, ..., -53,  15,  28],\n",
       "       [-21, 106,  79, ..., -26,   7,  37]], dtype=int64)"
      ]
     },
     "execution_count": 9,
     "metadata": {},
     "output_type": "execute_result"
    }
   ],
   "source": [
    "X_TRAIN = np.transpose(X_TRAIN) # Converting features in column format\n",
    "X_TEST = np.transpose(X_TEST)\n",
    "X_TEST"
   ]
  },
  {
   "cell_type": "code",
   "execution_count": 10,
   "metadata": {
    "id": "9jcfDwC-tjvF"
   },
   "outputs": [],
   "source": [
    "Y_TRAIN = np.transpose(Y_TRAIN).reshape(1,8049)\n",
    "Y_TEST = np.transpose(Y_TEST).reshape(1,3451)"
   ]
  },
  {
   "cell_type": "code",
   "execution_count": 11,
   "metadata": {
    "id": "Cq32ubeqtjvI",
    "outputId": "bacdadec-1110-48b4-9415-8862baa0e98b"
   },
   "outputs": [
    {
     "name": "stdout",
     "output_type": "stream",
     "text": [
      "1631 1608 1613 1615 1582\n"
     ]
    }
   ],
   "source": [
    "Total_Train_sample = 8049\n",
    "no_of_c1 = np.sum(Y_TRAIN == 1)\n",
    "no_of_c2 = np.sum(Y_TRAIN == 2)\n",
    "no_of_c3 = np.sum(Y_TRAIN == 3)\n",
    "no_of_c4 = np.sum(Y_TRAIN == 4)\n",
    "no_of_c5 = np.sum(Y_TRAIN == 5)\n",
    "\n",
    "print(no_of_c1,no_of_c2,no_of_c3,no_of_c4,no_of_c5)\n"
   ]
  },
  {
   "cell_type": "code",
   "execution_count": 12,
   "metadata": {
    "id": "IsecfHBPtjvN",
    "outputId": "eed73e13-6b2a-4761-b8dc-1fcd919a6bb8",
    "scrolled": true
   },
   "outputs": [
    {
     "name": "stdout",
     "output_type": "stream",
     "text": [
      "0.20263386756118773 0.19977636973537086 0.20039756491489627 0.20064604298670644 0.19654615480183873\n"
     ]
    }
   ],
   "source": [
    "# Calculating prior for each class\n",
    "prior_c1 =  no_of_c1/Total_Train_sample\n",
    "prior_c2 =  no_of_c2/Total_Train_sample\n",
    "prior_c3 =  no_of_c3/Total_Train_sample\n",
    "prior_c4 =  no_of_c4/Total_Train_sample\n",
    "prior_c5 =  no_of_c5/Total_Train_sample\n",
    "print(prior_c1,prior_c2,prior_c3,prior_c4,prior_c5)"
   ]
  },
  {
   "cell_type": "code",
   "execution_count": null,
   "metadata": {
    "id": "ebbQZ9ivtjvR"
   },
   "outputs": [],
   "source": [
    "#Y_TRAIN.shape"
   ]
  },
  {
   "cell_type": "code",
   "execution_count": 14,
   "metadata": {},
   "outputs": [
    {
     "data": {
      "text/plain": [
       "array([[  32, -219, -135, ...,   44, -925,   23],\n",
       "       [  52, -221, -145, ...,   52, -759,   14],\n",
       "       [  38, -203, -151, ...,   55, -443,   12],\n",
       "       [  24, -165, -155, ...,   57,  -60,    9],\n",
       "       [ -24, -136, -165, ...,   49,  313,   11],\n",
       "       [   4,    4,    1, ...,    3,    1,    3]], dtype=int64)"
      ]
     },
     "execution_count": 14,
     "metadata": {},
     "output_type": "execute_result"
    }
   ],
   "source": [
    "full_train  = np.append(X_TRAIN, Y_TRAIN, axis=0)\n",
    "full_train"
   ]
  },
  {
   "cell_type": "code",
   "execution_count": 15,
   "metadata": {
    "id": "SA7Mzz3otjvU"
   },
   "outputs": [],
   "source": [
    "\n",
    "c1_index = [index for index, value in enumerate(full_train[5,:]) if value == 1]\n",
    "c2_index = [index for index, value in enumerate(full_train[5,:]) if value == 2]\n",
    "c3_index = [index for index, value in enumerate(full_train[5,:]) if value == 3]\n",
    "c4_index = [index for index, value in enumerate(full_train[5,:]) if value == 4]\n",
    "c5_index = [index for index, value in enumerate(full_train[5,:]) if value == 5]"
   ]
  },
  {
   "cell_type": "code",
   "execution_count": 17,
   "metadata": {
    "id": "fGoUfdhLtjvY"
   },
   "outputs": [
    {
     "data": {
      "text/plain": [
       "array([[  24,   44,   30, ...,  -86,    4,  -45],\n",
       "       [  11,   72,   33, ...,  -90,   -6,  -26],\n",
       "       [ -18,   80,   26, ...,  -98,   -6,  -12],\n",
       "       [ -33,   89,   16, ..., -109,    3,    3],\n",
       "       [ -13,   96,   13, ..., -110,   13,   29]], dtype=int64)"
      ]
     },
     "execution_count": 17,
     "metadata": {},
     "output_type": "execute_result"
    }
   ],
   "source": [
    "# Dividing train data as per class\n",
    "\n",
    "c1_train_data = X_TRAIN[:,c1_index]\n",
    "c2_train_data = X_TRAIN[:,c2_index]\n",
    "c3_train_data = X_TRAIN[:,c3_index]\n",
    "c4_train_data = X_TRAIN[:,c4_index]\n",
    "c5_train_data = X_TRAIN[:,c5_index]\n",
    "c5_train_data"
   ]
  },
  {
   "cell_type": "code",
   "execution_count": 21,
   "metadata": {
    "id": "yZyqLdkptjvb"
   },
   "outputs": [],
   "source": [
    "# Calculating mean for all the three class\n",
    "\n",
    "c1_mean = np.mean(c1_train_data, axis=1).reshape(5,1)\n",
    "c2_mean = np.mean(c2_train_data, axis=1).reshape(5,1)\n",
    "c3_mean = np.mean(c3_train_data, axis=1).reshape(5,1)\n",
    "c4_mean = np.mean(c4_train_data, axis=1).reshape(5,1)\n",
    "c5_mean = np.mean(c5_train_data, axis=1).reshape(5,1)"
   ]
  },
  {
   "cell_type": "code",
   "execution_count": 23,
   "metadata": {
    "id": "Md_geXMgtjvg"
   },
   "outputs": [
    {
     "data": {
      "text/plain": [
       "array([[2193.39980417, 2102.78244338, 1849.79256036, 1548.3535521 ,\n",
       "        1276.92344977],\n",
       "       [2102.78244338, 2244.46087907, 2137.07053418, 1880.02140222,\n",
       "        1553.62234771],\n",
       "       [1849.79256036, 2137.07053418, 2288.96218767, 2184.30202603,\n",
       "        1909.71425293],\n",
       "       [1548.3535521 , 1880.02140222, 2184.30202603, 2327.75948587,\n",
       "        2198.6219415 ],\n",
       "       [1276.92344977, 1553.62234771, 1909.71425293, 2198.6219415 ,\n",
       "        2319.89432227]])"
      ]
     },
     "execution_count": 23,
     "metadata": {},
     "output_type": "execute_result"
    }
   ],
   "source": [
    "#Calculating covarience for all the three classes\n",
    "\n",
    "c1_cov = np.cov(c1_train_data)\n",
    "c2_cov = np.cov(c2_train_data)\n",
    "c3_cov = np.cov(c3_train_data)\n",
    "c4_cov = np.cov(c4_train_data)\n",
    "c5_cov = np.cov(c5_train_data)\n",
    "c5_cov"
   ]
  },
  {
   "cell_type": "code",
   "execution_count": 24,
   "metadata": {
    "id": "3F4aygrRtjvj"
   },
   "outputs": [],
   "source": [
    "# Calculating the likelihood by gaussian distribution formula\n",
    "\n",
    "def likelihood(x, mu, cov, k):\n",
    "    numerator = np.exp(-0.5 * np.matmul(np.matmul(np.transpose(x - mu), np.linalg.inv(cov)), (x - mu)))\n",
    "    denominator = np.sqrt(((2 * np.pi) ** k) * np.linalg.det(cov))\n",
    "    return numerator/denominator"
   ]
  },
  {
   "cell_type": "code",
   "execution_count": 25,
   "metadata": {},
   "outputs": [
    {
     "data": {
      "text/plain": [
       "8049"
      ]
     },
     "execution_count": 25,
     "metadata": {},
     "output_type": "execute_result"
    }
   ],
   "source": [
    "X_TRAIN.shape[1]"
   ]
  },
  {
   "cell_type": "code",
   "execution_count": 31,
   "metadata": {
    "id": "sSNp0D-Rtjvn"
   },
   "outputs": [],
   "source": [
    "predictions =[]\n",
    "for i in range(X_TRAIN.shape[1]):\n",
    "    sample = np.array(X_TRAIN[[0,1,2,3,4],i]).reshape(5,1)\n",
    "    C1_posterior = prior_c1 * likelihood(sample, c1_mean, c1_cov, 2)\n",
    "    C2_posterior = prior_c2 * likelihood(sample, c2_mean, c2_cov, 2)\n",
    "    C3_posterior = prior_c3 * likelihood(sample, c3_mean, c3_cov, 2)\n",
    "    C4_posterior = prior_c4 * likelihood(sample, c4_mean, c4_cov, 2)\n",
    "    C5_posterior = prior_c5 * likelihood(sample, c5_mean, c5_cov, 2)\n",
    "    \n",
    "    if   C1_posterior > C2_posterior and C1_posterior > C3_posterior and C1_posterior > C4_posterior and C1_posterior > C5_posterior :\n",
    "             sample_class = 1\n",
    "    elif C2_posterior > C1_posterior and C2_posterior > C3_posterior and C2_posterior > C4_posterior and C2_posterior > C5_posterior:\n",
    "            sample_class = 2\n",
    "    elif C3_posterior > C1_posterior and C3_posterior > C2_posterior and C3_posterior > C4_posterior and C3_posterior > C5_posterior:\n",
    "            sample_class = 3\n",
    "    elif C4_posterior > C1_posterior and C4_posterior > C2_posterior and C4_posterior > C3_posterior and C4_posterior > C5_posterior:\n",
    "            sample_class = 4\n",
    "    else:\n",
    "            sample_class = 5\n",
    "    \n",
    "    predictions.append(sample_class)\n",
    "    "
   ]
  },
  {
   "cell_type": "code",
   "execution_count": 32,
   "metadata": {
    "id": "8z2t3-41tjvq"
   },
   "outputs": [],
   "source": [
    "#train_result = predictions ==Y_TRAIN\n",
    "train_correct_predict = np.count_nonzero(Y_TRAIN)\n",
    "#correct_predict"
   ]
  },
  {
   "cell_type": "code",
   "execution_count": 33,
   "metadata": {
    "id": "sXtsCDwxtjvt",
    "outputId": "5c4d3342-b6dc-4eb3-bf51-07019f4d2234"
   },
   "outputs": [
    {
     "name": "stdout",
     "output_type": "stream",
     "text": [
      "Training data accuracy is 76.65714285714286 \n"
     ]
    }
   ],
   "source": [
    "# Training accuracy ( total no of samples correctly predicted / total no.of samples)\n",
    "train_accuracy = train_correct_predict/105\n",
    "print('Training data accuracy is {} '.format(train_accuracy))"
   ]
  },
  {
   "cell_type": "code",
   "execution_count": 64,
   "metadata": {
    "id": "svMRcPKGtjvw"
   },
   "outputs": [],
   "source": [
    "# Checking on the Test Data"
   ]
  },
  {
   "cell_type": "code",
   "execution_count": 36,
   "metadata": {
    "id": "KCDyh6pStjvy"
   },
   "outputs": [],
   "source": [
    "predictions =[]\n",
    "for i in range(X_TEST.shape[1]):\n",
    "    sample = np.array(X_TEST[[0,1,2,3,4],i]).reshape(5,1)\n",
    "    C1_posterior = prior_c1 * likelihood(sample, c1_mean, c1_cov, 2)\n",
    "    C2_posterior = prior_c2 * likelihood(sample, c2_mean, c2_cov, 2)\n",
    "    C3_posterior = prior_c3 * likelihood(sample, c3_mean, c3_cov, 2)\n",
    "    C4_posterior = prior_c4 * likelihood(sample, c4_mean, c4_cov, 2)\n",
    "    C5_posterior = prior_c5 * likelihood(sample, c5_mean, c5_cov, 2)\n",
    "    \n",
    "    if   C1_posterior > C2_posterior and C1_posterior > C3_posterior and C1_posterior > C4_posterior and C1_posterior > C5_posterior :\n",
    "             sample_class = 1\n",
    "    elif C2_posterior > C1_posterior and C2_posterior > C3_posterior and C2_posterior > C4_posterior and C2_posterior > C5_posterior:\n",
    "            sample_class = 2\n",
    "    elif C3_posterior > C1_posterior and C3_posterior > C2_posterior and C3_posterior > C4_posterior and C3_posterior > C5_posterior:\n",
    "            sample_class = 3\n",
    "    elif C4_posterior > C1_posterior and C4_posterior > C2_posterior and C4_posterior > C3_posterior and C4_posterior > C5_posterior:\n",
    "            sample_class = 4\n",
    "    else:\n",
    "            sample_class = 5\n",
    "    \n",
    "    predictions.append(sample_class)\n",
    "    "
   ]
  },
  {
   "cell_type": "code",
   "execution_count": 37,
   "metadata": {
    "id": "i3YdR3Vntjv3"
   },
   "outputs": [],
   "source": [
    "#test_result = test_predictions ==Y_TEST\n",
    "test_correct_predict = np.count_nonzero(Y_TEST)"
   ]
  },
  {
   "cell_type": "code",
   "execution_count": 38,
   "metadata": {
    "id": "QgCy3Aghtjv7",
    "outputId": "a1e33645-c0f1-4c3b-b54d-515cb60957d9"
   },
   "outputs": [
    {
     "name": "stdout",
     "output_type": "stream",
     "text": [
      "Test data accuracy is 76.68888888888888 \n"
     ]
    }
   ],
   "source": [
    "test_accuracy = test_correct_predict/45\n",
    "print('Test data accuracy is {} '.format(test_accuracy))"
   ]
  },
  {
   "cell_type": "code",
   "execution_count": 41,
   "metadata": {},
   "outputs": [],
   "source": [
    "#Naive Bayes Classifier"
   ]
  },
  {
   "cell_type": "code",
   "execution_count": 45,
   "metadata": {},
   "outputs": [
    {
     "name": "stdout",
     "output_type": "stream",
     "text": [
      "Number of mislabeled points out of a total 2300 points : 1306\n"
     ]
    }
   ],
   "source": [
    "\n",
    "from sklearn.model_selection import train_test_split\n",
    "from sklearn.naive_bayes import GaussianNB\n",
    "X_train, X_test, Y_train, Y_test = train_test_split(df.iloc[:, 0:178].values, df.iloc[:, -1].values, train_size = 0.8, random_state = 101)\n",
    "gnb = GaussianNB()\n",
    "y_pred = gnb.fit(X_train, Y_train).predict(X_test)\n",
    "print(\"Number of mislabeled points out of a total %d points : %d\"\n",
    "      % (X_test.shape[0], (Y_test != y_pred).sum()))\n"
   ]
  },
  {
   "cell_type": "code",
   "execution_count": 46,
   "metadata": {},
   "outputs": [
    {
     "name": "stdout",
     "output_type": "stream",
     "text": [
      "Accuracy of GNB classifier on training set: 0.44\n",
      "Accuracy of GNB classifier on test set: 0.43\n"
     ]
    }
   ],
   "source": [
    "print('Accuracy of GNB classifier on training set: {:.2f}'\n",
    "     .format(gnb.score(X_train, Y_train)))\n",
    "print('Accuracy of GNB classifier on test set: {:.2f}'\n",
    "     .format(gnb.score(X_test, Y_test)))"
   ]
  },
  {
   "cell_type": "code",
   "execution_count": null,
   "metadata": {},
   "outputs": [],
   "source": []
  }
 ],
 "metadata": {
  "colab": {
   "name": "ML_Assignment4_Q1_Bayes Classifier.ipynb",
   "provenance": []
  },
  "kernelspec": {
   "display_name": "Python 3",
   "language": "python",
   "name": "python3"
  },
  "language_info": {
   "codemirror_mode": {
    "name": "ipython",
    "version": 3
   },
   "file_extension": ".py",
   "mimetype": "text/x-python",
   "name": "python",
   "nbconvert_exporter": "python",
   "pygments_lexer": "ipython3",
   "version": "3.8.5"
  }
 },
 "nbformat": 4,
 "nbformat_minor": 1
}
