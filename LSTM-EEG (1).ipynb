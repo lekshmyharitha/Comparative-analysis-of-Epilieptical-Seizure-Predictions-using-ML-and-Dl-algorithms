{
 "cells": [
  {
   "cell_type": "code",
   "execution_count": 1,
   "metadata": {},
   "outputs": [],
   "source": [
    "import tensorflow as tf\n",
    "import numpy as np\n",
    "from keras.models import Sequential\n",
    "from keras.utils import np_utils\n",
    "from keras.layers import Dense, Activation , LSTM , Dropout , AveragePooling3D\n",
    "import pandas as pd\n",
    "from sklearn.model_selection import train_test_split\n",
    "import matplotlib.pyplot as plt"
   ]
  },
  {
   "cell_type": "code",
   "execution_count": 12,
   "metadata": {},
   "outputs": [
    {
     "data": {
      "text/html": [
       "<div>\n",
       "<style scoped>\n",
       "    .dataframe tbody tr th:only-of-type {\n",
       "        vertical-align: middle;\n",
       "    }\n",
       "\n",
       "    .dataframe tbody tr th {\n",
       "        vertical-align: top;\n",
       "    }\n",
       "\n",
       "    .dataframe thead th {\n",
       "        text-align: right;\n",
       "    }\n",
       "</style>\n",
       "<table border=\"1\" class=\"dataframe\">\n",
       "  <thead>\n",
       "    <tr style=\"text-align: right;\">\n",
       "      <th></th>\n",
       "      <th>Unnamed: 0</th>\n",
       "      <th>X1</th>\n",
       "      <th>X2</th>\n",
       "      <th>X3</th>\n",
       "      <th>X4</th>\n",
       "      <th>X5</th>\n",
       "      <th>X6</th>\n",
       "      <th>X7</th>\n",
       "      <th>X8</th>\n",
       "      <th>X9</th>\n",
       "      <th>...</th>\n",
       "      <th>X170</th>\n",
       "      <th>X171</th>\n",
       "      <th>X172</th>\n",
       "      <th>X173</th>\n",
       "      <th>X174</th>\n",
       "      <th>X175</th>\n",
       "      <th>X176</th>\n",
       "      <th>X177</th>\n",
       "      <th>X178</th>\n",
       "      <th>y</th>\n",
       "    </tr>\n",
       "  </thead>\n",
       "  <tbody>\n",
       "    <tr>\n",
       "      <th>0</th>\n",
       "      <td>X21.V1.791</td>\n",
       "      <td>135</td>\n",
       "      <td>190</td>\n",
       "      <td>229</td>\n",
       "      <td>223</td>\n",
       "      <td>192</td>\n",
       "      <td>125</td>\n",
       "      <td>55</td>\n",
       "      <td>-9</td>\n",
       "      <td>-33</td>\n",
       "      <td>...</td>\n",
       "      <td>-17</td>\n",
       "      <td>-15</td>\n",
       "      <td>-31</td>\n",
       "      <td>-77</td>\n",
       "      <td>-103</td>\n",
       "      <td>-127</td>\n",
       "      <td>-116</td>\n",
       "      <td>-83</td>\n",
       "      <td>-51</td>\n",
       "      <td>4</td>\n",
       "    </tr>\n",
       "    <tr>\n",
       "      <th>1</th>\n",
       "      <td>X15.V1.924</td>\n",
       "      <td>386</td>\n",
       "      <td>382</td>\n",
       "      <td>356</td>\n",
       "      <td>331</td>\n",
       "      <td>320</td>\n",
       "      <td>315</td>\n",
       "      <td>307</td>\n",
       "      <td>272</td>\n",
       "      <td>244</td>\n",
       "      <td>...</td>\n",
       "      <td>164</td>\n",
       "      <td>150</td>\n",
       "      <td>146</td>\n",
       "      <td>152</td>\n",
       "      <td>157</td>\n",
       "      <td>156</td>\n",
       "      <td>154</td>\n",
       "      <td>143</td>\n",
       "      <td>129</td>\n",
       "      <td>1</td>\n",
       "    </tr>\n",
       "    <tr>\n",
       "      <th>2</th>\n",
       "      <td>X8.V1.1</td>\n",
       "      <td>-32</td>\n",
       "      <td>-39</td>\n",
       "      <td>-47</td>\n",
       "      <td>-37</td>\n",
       "      <td>-32</td>\n",
       "      <td>-36</td>\n",
       "      <td>-57</td>\n",
       "      <td>-73</td>\n",
       "      <td>-85</td>\n",
       "      <td>...</td>\n",
       "      <td>57</td>\n",
       "      <td>64</td>\n",
       "      <td>48</td>\n",
       "      <td>19</td>\n",
       "      <td>-12</td>\n",
       "      <td>-30</td>\n",
       "      <td>-35</td>\n",
       "      <td>-35</td>\n",
       "      <td>-36</td>\n",
       "      <td>5</td>\n",
       "    </tr>\n",
       "    <tr>\n",
       "      <th>3</th>\n",
       "      <td>X16.V1.60</td>\n",
       "      <td>-105</td>\n",
       "      <td>-101</td>\n",
       "      <td>-96</td>\n",
       "      <td>-92</td>\n",
       "      <td>-89</td>\n",
       "      <td>-95</td>\n",
       "      <td>-102</td>\n",
       "      <td>-100</td>\n",
       "      <td>-87</td>\n",
       "      <td>...</td>\n",
       "      <td>-82</td>\n",
       "      <td>-81</td>\n",
       "      <td>-80</td>\n",
       "      <td>-77</td>\n",
       "      <td>-85</td>\n",
       "      <td>-77</td>\n",
       "      <td>-72</td>\n",
       "      <td>-69</td>\n",
       "      <td>-65</td>\n",
       "      <td>5</td>\n",
       "    </tr>\n",
       "    <tr>\n",
       "      <th>4</th>\n",
       "      <td>X20.V1.54</td>\n",
       "      <td>-9</td>\n",
       "      <td>-65</td>\n",
       "      <td>-98</td>\n",
       "      <td>-102</td>\n",
       "      <td>-78</td>\n",
       "      <td>-48</td>\n",
       "      <td>-16</td>\n",
       "      <td>0</td>\n",
       "      <td>-21</td>\n",
       "      <td>...</td>\n",
       "      <td>4</td>\n",
       "      <td>2</td>\n",
       "      <td>-12</td>\n",
       "      <td>-32</td>\n",
       "      <td>-41</td>\n",
       "      <td>-65</td>\n",
       "      <td>-83</td>\n",
       "      <td>-89</td>\n",
       "      <td>-73</td>\n",
       "      <td>5</td>\n",
       "    </tr>\n",
       "  </tbody>\n",
       "</table>\n",
       "<p>5 rows × 180 columns</p>\n",
       "</div>"
      ],
      "text/plain": [
       "   Unnamed: 0   X1   X2   X3   X4   X5   X6   X7   X8   X9  ...  X170  X171  \\\n",
       "0  X21.V1.791  135  190  229  223  192  125   55   -9  -33  ...   -17   -15   \n",
       "1  X15.V1.924  386  382  356  331  320  315  307  272  244  ...   164   150   \n",
       "2     X8.V1.1  -32  -39  -47  -37  -32  -36  -57  -73  -85  ...    57    64   \n",
       "3   X16.V1.60 -105 -101  -96  -92  -89  -95 -102 -100  -87  ...   -82   -81   \n",
       "4   X20.V1.54   -9  -65  -98 -102  -78  -48  -16    0  -21  ...     4     2   \n",
       "\n",
       "   X172  X173  X174  X175  X176  X177  X178  y  \n",
       "0   -31   -77  -103  -127  -116   -83   -51  4  \n",
       "1   146   152   157   156   154   143   129  1  \n",
       "2    48    19   -12   -30   -35   -35   -36  5  \n",
       "3   -80   -77   -85   -77   -72   -69   -65  5  \n",
       "4   -12   -32   -41   -65   -83   -89   -73  5  \n",
       "\n",
       "[5 rows x 180 columns]"
      ]
     },
     "execution_count": 12,
     "metadata": {},
     "output_type": "execute_result"
    }
   ],
   "source": [
    "df=pd.read_csv('data.csv')\n",
    "df.head()"
   ]
  },
  {
   "cell_type": "code",
   "execution_count": 3,
   "metadata": {},
   "outputs": [],
   "source": [
    "X=df.values"
   ]
  },
  {
   "cell_type": "code",
   "execution_count": 4,
   "metadata": {},
   "outputs": [
    {
     "data": {
      "text/plain": [
       "(11500, 180)"
      ]
     },
     "execution_count": 4,
     "metadata": {},
     "output_type": "execute_result"
    }
   ],
   "source": [
    "np.shape(X)"
   ]
  },
  {
   "cell_type": "code",
   "execution_count": 5,
   "metadata": {},
   "outputs": [],
   "source": [
    "\n",
    "X=X[:,1:-1]\n"
   ]
  },
  {
   "cell_type": "code",
   "execution_count": 6,
   "metadata": {},
   "outputs": [
    {
     "data": {
      "text/plain": [
       "array([[135, 190, 229, ..., -116, -83, -51],\n",
       "       [386, 382, 356, ..., 154, 143, 129],\n",
       "       [-32, -39, -47, ..., -35, -35, -36],\n",
       "       ...,\n",
       "       [14, 6, -13, ..., -2, -1, -8],\n",
       "       [-40, -25, -9, ..., 68, 59, 55],\n",
       "       [29, 41, 57, ..., -2, 2, 20]], dtype=object)"
      ]
     },
     "execution_count": 6,
     "metadata": {},
     "output_type": "execute_result"
    }
   ],
   "source": [
    "X"
   ]
  },
  {
   "cell_type": "code",
   "execution_count": 13,
   "metadata": {},
   "outputs": [],
   "source": [
    "#from sklearn.model_selection import train_test_split\n",
    "y=np.array(df['y'])\n",
    "Y=np_utils.to_categorical(y)\n",
    "Y.shape\n",
    "X_train, X_test, Y_train, Y_test = train_test_split(X, Y, test_size=0.20, random_state=1)"
   ]
  },
  {
   "cell_type": "code",
   "execution_count": null,
   "metadata": {},
   "outputs": [],
   "source": []
  },
  {
   "cell_type": "code",
   "execution_count": 15,
   "metadata": {},
   "outputs": [
    {
     "data": {
      "text/plain": [
       "(2300, 178)"
      ]
     },
     "execution_count": 15,
     "metadata": {},
     "output_type": "execute_result"
    }
   ],
   "source": [
    "np.shape(X_test)"
   ]
  },
  {
   "cell_type": "code",
   "execution_count": 28,
   "metadata": {},
   "outputs": [
    {
     "data": {
      "text/plain": [
       "(2300, 178, 1)"
      ]
     },
     "execution_count": 28,
     "metadata": {},
     "output_type": "execute_result"
    }
   ],
   "source": [
    "X_train = X_train.reshape(-1,178,1)\n",
    "X_test = X_test.reshape(-1,178,1)\n",
    "X_train.shape\n",
    "X_test.shape"
   ]
  },
  {
   "cell_type": "code",
   "execution_count": 138,
   "metadata": {},
   "outputs": [
    {
     "data": {
      "text/plain": [
       "array([[-163, -155, -136, ..., -100, -99, -87],\n",
       "       [-279, -271, -163, ..., -106, -89, -68],\n",
       "       [51, 54, 42, ..., 81, 40, 8],\n",
       "       ...,\n",
       "       [70, 117, 78, ..., 16, 58, 88],\n",
       "       [-1, 22, 42, ..., 2, -12, -9],\n",
       "       [-22, -11, -10, ..., 28, 25, 18]], dtype=object)"
      ]
     },
     "execution_count": 138,
     "metadata": {},
     "output_type": "execute_result"
    }
   ],
   "source": [
    "X_train"
   ]
  },
  {
   "cell_type": "code",
   "execution_count": 139,
   "metadata": {},
   "outputs": [
    {
     "data": {
      "text/plain": [
       "array([[0., 0., 1., 0., 0., 0.],\n",
       "       [0., 1., 0., 0., 0., 0.],\n",
       "       [0., 1., 0., 0., 0., 0.],\n",
       "       ...,\n",
       "       [0., 1., 0., 0., 0., 0.],\n",
       "       [0., 0., 1., 0., 0., 0.],\n",
       "       [0., 0., 1., 0., 0., 0.]], dtype=float32)"
      ]
     },
     "execution_count": 139,
     "metadata": {},
     "output_type": "execute_result"
    }
   ],
   "source": [
    "Y_test"
   ]
  },
  {
   "cell_type": "code",
   "execution_count": 7,
   "metadata": {},
   "outputs": [
    {
     "data": {
      "image/png": "[encoded data removed]",
      "text/plain": [
       "<Figure size 864x576 with 1 Axes>"
      ]
     },
     "metadata": {
      "needs_background": "light"
     },
     "output_type": "display_data"
    }
   ],
   "source": [
    "plt.figure(figsize=(12,8))\n",
    "plt.plot(X[1,:],label='1')\n",
    "plt.plot(X[7,:],label='2')\n",
    "plt.plot(X[12,:],label='3')\n",
    "plt.plot(X[0,:],label='4')\n",
    "plt.plot(X[2,:],label='5')\n",
    "plt.legend()\n",
    "plt.show()"
   ]
  },
  {
   "cell_type": "code",
   "execution_count": 4,
   "metadata": {},
   "outputs": [
    {
     "name": "stdout",
     "output_type": "stream",
     "text": [
      "Model: \"sequential\"\n",
      "_________________________________________________________________\n",
      "Layer (type)                 Output Shape              Param #   \n",
      "=================================================================\n",
      "lstm (LSTM)                  (None, 45, 56)            12992     \n",
      "_________________________________________________________________\n",
      "dropout (Dropout)            (None, 45, 56)            0         \n",
      "_________________________________________________________________\n",
      "lstm_1 (LSTM)                (None, 56)                25312     \n",
      "_________________________________________________________________\n",
      "dropout_1 (Dropout)          (None, 56)                0         \n",
      "_________________________________________________________________\n",
      "dense (Dense)                (None, 20)                1140      \n",
      "_________________________________________________________________\n",
      "activation (Activation)      (None, 20)                0         \n",
      "_________________________________________________________________\n",
      "dense_1 (Dense)              (None, 5)                 105       \n",
      "_________________________________________________________________\n",
      "activation_1 (Activation)    (None, 5)                 0         \n",
      "=================================================================\n",
      "Total params: 39,549\n",
      "Trainable params: 39,549\n",
      "Non-trainable params: 0\n",
      "_________________________________________________________________\n"
     ]
    }
   ],
   "source": [
    "model = Sequential()\n",
    "model.add(LSTM(56, input_shape=(45,1), return_sequences=True))\n",
    "model.add(Dropout(0.3))\n",
    "model.add(LSTM(56))\n",
    "model.add(Dropout(0.3))\n",
    "model.add(Dense(20))\n",
    "model.add(Activation('tanh'))\n",
    "model.add(Dense(5))\n",
    "model.add(Activation('softmax'))\n",
    "\n",
    "model.summary()"
   ]
  },
  {
   "cell_type": "code",
   "execution_count": 5,
   "metadata": {},
   "outputs": [],
   "source": [
    "model.compile(loss='binary_crossentropy', optimizer='adam', metrics=['accuracy'])"
   ]
  },
  {
   "cell_type": "code",
   "execution_count": null,
   "metadata": {},
   "outputs": [],
   "source": [
    "#try X=np.asarray(X).astype(np.float32) and Y=np.asarray(Y).astype(np.float32) before passing X and Y to model"
   ]
  },
  {
   "cell_type": "code",
   "execution_count": 30,
   "metadata": {},
   "outputs": [],
   "source": [
    "X=(X_train[:,::4]-X_train.mean())/X_train.std()\n",
    "X=np.asarray(X).astype(np.float32)\n",
    "Y=Y_train[:,1:]\n",
    "Y=np.asarray(Y).astype(np.float32)"
   ]
  },
  {
   "cell_type": "code",
   "execution_count": 23,
   "metadata": {},
   "outputs": [
    {
     "data": {
      "text/plain": [
       "array([[-157, -127, -96, ..., -73, -104, -87],\n",
       "       [-212, -23, 77, ..., -196, -163, -68],\n",
       "       [52, 31, 23, ..., 189, 167, 8],\n",
       "       ...,\n",
       "       [43, 5, -135, ..., -17, 15, 88],\n",
       "       [-27, 41, -19, ..., -26, 26, -9],\n",
       "       [-30, -6, -12, ..., 17, 22, 18]], dtype=object)"
      ]
     },
     "execution_count": 23,
     "metadata": {},
     "output_type": "execute_result"
    }
   ],
   "source": [
    "X_train"
   ]
  },
  {
   "cell_type": "code",
   "execution_count": 32,
   "metadata": {},
   "outputs": [
    {
     "data": {
      "text/plain": [
       "(9200, 45, 1)"
      ]
     },
     "execution_count": 32,
     "metadata": {},
     "output_type": "execute_result"
    }
   ],
   "source": [
    "np.shape(X)"
   ]
  },
  {
   "cell_type": "code",
   "execution_count": 145,
   "metadata": {},
   "outputs": [
    {
     "data": {
      "text/plain": [
       "array([[0., 0., 0., 0., 0., 1.],\n",
       "       [0., 1., 0., 0., 0., 0.],\n",
       "       [0., 0., 0., 0., 1., 0.],\n",
       "       ...,\n",
       "       [0., 0., 0., 0., 1., 0.],\n",
       "       [0., 0., 0., 0., 0., 1.],\n",
       "       [0., 0., 1., 0., 0., 0.]], dtype=float32)"
      ]
     },
     "execution_count": 145,
     "metadata": {},
     "output_type": "execute_result"
    }
   ],
   "source": [
    "Y_train"
   ]
  },
  {
   "cell_type": "code",
   "execution_count": 158,
   "metadata": {},
   "outputs": [
    {
     "data": {
      "text/plain": [
       "array([[0., 0., 0., 0., 1.],\n",
       "       [1., 0., 0., 0., 0.],\n",
       "       [0., 0., 0., 1., 0.],\n",
       "       ...,\n",
       "       [0., 0., 0., 1., 0.],\n",
       "       [0., 0., 0., 0., 1.],\n",
       "       [0., 1., 0., 0., 0.]], dtype=float32)"
      ]
     },
     "execution_count": 158,
     "metadata": {},
     "output_type": "execute_result"
    }
   ],
   "source": [
    "np.shape(Y)\n",
    "Y"
   ]
  },
  {
   "cell_type": "code",
   "execution_count": 156,
   "metadata": {},
   "outputs": [],
   "source": [
    "XT=(X_test[:,::4]-X_test.mean())/X_test.std()\n",
    "XT=np.asarray(XT).astype(np.float32)\n",
    "YT=Y_test[:,1:]\n",
    "YT=np.asarray(YT).astype(np.float32)"
   ]
  },
  {
   "cell_type": "code",
   "execution_count": 53,
   "metadata": {},
   "outputs": [],
   "source": [
    "BS=15\n",
    "epochsn=15"
   ]
  },
  {
   "cell_type": "code",
   "execution_count": 57,
   "metadata": {},
   "outputs": [
    {
     "name": "stdout",
     "output_type": "stream",
     "text": [
      "Epoch 1/50\n",
      "614/614 [==============================] - 21s 34ms/step - loss: 0.2427 - accuracy: 0.6738\n",
      "Epoch 2/50\n",
      "614/614 [==============================] - 14s 23ms/step - loss: 0.2355 - accuracy: 0.6807\n",
      "Epoch 3/50\n",
      "614/614 [==============================] - 17s 28ms/step - loss: 0.2328 - accuracy: 0.6820\n",
      "Epoch 4/50\n",
      "614/614 [==============================] - 22s 36ms/step - loss: 0.2312 - accuracy: 0.6859\n",
      "Epoch 5/50\n",
      "614/614 [==============================] - 21s 34ms/step - loss: 0.2272 - accuracy: 0.6929\n",
      "Epoch 6/50\n",
      "614/614 [==============================] - 20s 33ms/step - loss: 0.2284 - accuracy: 0.6908\n",
      "Epoch 7/50\n",
      "614/614 [==============================] - 21s 34ms/step - loss: 0.2237 - accuracy: 0.7004\n",
      "Epoch 8/50\n",
      "614/614 [==============================] - 20s 33ms/step - loss: 0.2202 - accuracy: 0.7068\n",
      "Epoch 9/50\n",
      "614/614 [==============================] - 20s 33ms/step - loss: 0.2185 - accuracy: 0.7047\n",
      "Epoch 10/50\n",
      "614/614 [==============================] - 20s 33ms/step - loss: 0.2159 - accuracy: 0.7128\n",
      "Epoch 11/50\n",
      "614/614 [==============================] - 21s 34ms/step - loss: 0.2153 - accuracy: 0.7099\n",
      "Epoch 12/50\n",
      "614/614 [==============================] - 20s 33ms/step - loss: 0.2132 - accuracy: 0.7138\n",
      "Epoch 13/50\n",
      "614/614 [==============================] - 20s 33ms/step - loss: 0.2131 - accuracy: 0.7151\n",
      "Epoch 14/50\n",
      "614/614 [==============================] - 21s 34ms/step - loss: 0.2093 - accuracy: 0.7176\n",
      "Epoch 15/50\n",
      "614/614 [==============================] - 20s 33ms/step - loss: 0.2078 - accuracy: 0.7187\n",
      "Epoch 16/50\n",
      "614/614 [==============================] - 20s 33ms/step - loss: 0.2055 - accuracy: 0.7207\n",
      "Epoch 17/50\n",
      "614/614 [==============================] - 20s 33ms/step - loss: 0.2038 - accuracy: 0.7323\n",
      "Epoch 18/50\n",
      "614/614 [==============================] - 21s 34ms/step - loss: 0.2027 - accuracy: 0.7368\n",
      "Epoch 19/50\n",
      "614/614 [==============================] - 20s 33ms/step - loss: 0.2014 - accuracy: 0.7328\n",
      "Epoch 20/50\n",
      "614/614 [==============================] - 20s 33ms/step - loss: 0.1980 - accuracy: 0.7386\n",
      "Epoch 21/50\n",
      "614/614 [==============================] - 21s 34ms/step - loss: 0.1949 - accuracy: 0.7424\n",
      "Epoch 22/50\n",
      "614/614 [==============================] - 20s 33ms/step - loss: 0.1934 - accuracy: 0.7468\n",
      "Epoch 23/50\n",
      "614/614 [==============================] - 20s 33ms/step - loss: 0.1925 - accuracy: 0.7479\n",
      "Epoch 24/50\n",
      "614/614 [==============================] - 20s 33ms/step - loss: 0.1919 - accuracy: 0.7489\n",
      "Epoch 25/50\n",
      "614/614 [==============================] - 20s 33ms/step - loss: 0.1908 - accuracy: 0.7514\n",
      "Epoch 26/50\n",
      "614/614 [==============================] - 20s 33ms/step - loss: 0.1897 - accuracy: 0.7588\n",
      "Epoch 27/50\n",
      "614/614 [==============================] - 20s 33ms/step - loss: 0.1844 - accuracy: 0.7640\n",
      "Epoch 28/50\n",
      "614/614 [==============================] - 20s 33ms/step - loss: 0.1862 - accuracy: 0.7616\n",
      "Epoch 29/50\n",
      "614/614 [==============================] - 21s 34ms/step - loss: 0.1829 - accuracy: 0.7596\n",
      "Epoch 30/50\n",
      "614/614 [==============================] - 21s 34ms/step - loss: 0.1795 - accuracy: 0.7734\n",
      "Epoch 31/50\n",
      "614/614 [==============================] - 20s 33ms/step - loss: 0.1792 - accuracy: 0.7705\n",
      "Epoch 32/50\n",
      "614/614 [==============================] - 20s 33ms/step - loss: 0.1795 - accuracy: 0.7711\n",
      "Epoch 33/50\n",
      "614/614 [==============================] - 23s 37ms/step - loss: 0.1754 - accuracy: 0.7783\n",
      "Epoch 34/50\n",
      "614/614 [==============================] - 21s 35ms/step - loss: 0.1736 - accuracy: 0.7833\n",
      "Epoch 35/50\n",
      "614/614 [==============================] - 22s 35ms/step - loss: 0.1768 - accuracy: 0.7820\n",
      "Epoch 36/50\n",
      "614/614 [==============================] - 21s 34ms/step - loss: 0.1668 - accuracy: 0.7903\n",
      "Epoch 37/50\n",
      "614/614 [==============================] - 22s 35ms/step - loss: 0.1714 - accuracy: 0.7870\n",
      "Epoch 38/50\n",
      "614/614 [==============================] - 20s 33ms/step - loss: 0.1675 - accuracy: 0.7923\n",
      "Epoch 39/50\n",
      "614/614 [==============================] - 22s 35ms/step - loss: 0.1656 - accuracy: 0.7902\n",
      "Epoch 40/50\n",
      "614/614 [==============================] - 22s 36ms/step - loss: 0.1677 - accuracy: 0.7905\n",
      "Epoch 41/50\n",
      "614/614 [==============================] - 21s 34ms/step - loss: 0.1654 - accuracy: 0.7947\n",
      "Epoch 42/50\n",
      "614/614 [==============================] - 21s 34ms/step - loss: 0.1643 - accuracy: 0.8013\n",
      "Epoch 43/50\n",
      "614/614 [==============================] - 21s 34ms/step - loss: 0.1598 - accuracy: 0.7992\n",
      "Epoch 44/50\n",
      "614/614 [==============================] - 21s 34ms/step - loss: 0.1588 - accuracy: 0.8023\n",
      "Epoch 45/50\n",
      "614/614 [==============================] - 20s 33ms/step - loss: 0.1581 - accuracy: 0.8025\n",
      "Epoch 46/50\n",
      "614/614 [==============================] - 21s 33ms/step - loss: 0.1580 - accuracy: 0.7997\n",
      "Epoch 47/50\n",
      "614/614 [==============================] - 21s 33ms/step - loss: 0.1518 - accuracy: 0.8150\n",
      "Epoch 48/50\n",
      "614/614 [==============================] - 24s 38ms/step - loss: 0.1520 - accuracy: 0.8173\n",
      "Epoch 49/50\n",
      "614/614 [==============================] - 21s 35ms/step - loss: 0.1548 - accuracy: 0.8110\n",
      "Epoch 50/50\n",
      "614/614 [==============================] - 22s 36ms/step - loss: 0.1549 - accuracy: 0.8090\n"
     ]
    },
    {
     "data": {
      "text/plain": [
       "<tensorflow.python.keras.callbacks.History at 0x26bc46d9790>"
      ]
     },
     "execution_count": 57,
     "metadata": {},
     "output_type": "execute_result"
    }
   ],
   "source": [
    "model.fit(X, Y, batch_size = 15, epochs = 50,shuffle=False)\n"
   ]
  },
  {
   "cell_type": "code",
   "execution_count": 61,
   "metadata": {},
   "outputs": [
    {
     "name": "stdout",
     "output_type": "stream",
     "text": [
      "Epoch 1/50\n",
      "614/614 [==============================] - 23s 37ms/step - loss: 0.1490 - accuracy: 0.8230 - val_loss: 0.2375 - val_accuracy: 0.7383\n",
      "Epoch 2/50\n",
      "614/614 [==============================] - 17s 27ms/step - loss: 0.1468 - accuracy: 0.8201 - val_loss: 0.2311 - val_accuracy: 0.7396\n",
      "Epoch 3/50\n",
      "614/614 [==============================] - 19s 32ms/step - loss: 0.1483 - accuracy: 0.8199 - val_loss: 0.2329 - val_accuracy: 0.7413\n",
      "Epoch 4/50\n",
      "614/614 [==============================] - 20s 33ms/step - loss: 0.1450 - accuracy: 0.8239 - val_loss: 0.2299 - val_accuracy: 0.7426\n",
      "Epoch 5/50\n",
      "614/614 [==============================] - 20s 32ms/step - loss: 0.1422 - accuracy: 0.8293 - val_loss: 0.2348 - val_accuracy: 0.7543\n",
      "Epoch 6/50\n",
      "614/614 [==============================] - 19s 32ms/step - loss: 0.1400 - accuracy: 0.8326 - val_loss: 0.2369 - val_accuracy: 0.7409\n",
      "Epoch 7/50\n",
      "614/614 [==============================] - 19s 32ms/step - loss: 0.1429 - accuracy: 0.8270 - val_loss: 0.2265 - val_accuracy: 0.7491\n",
      "Epoch 8/50\n",
      "614/614 [==============================] - 19s 31ms/step - loss: 0.1435 - accuracy: 0.8321 - val_loss: 0.2308 - val_accuracy: 0.7552\n",
      "Epoch 9/50\n",
      "614/614 [==============================] - 20s 33ms/step - loss: 0.1385 - accuracy: 0.8345 - val_loss: 0.2361 - val_accuracy: 0.7457\n",
      "Epoch 10/50\n",
      "614/614 [==============================] - 19s 32ms/step - loss: 0.1422 - accuracy: 0.8313 - val_loss: 0.2385 - val_accuracy: 0.7439\n",
      "Epoch 11/50\n",
      "614/614 [==============================] - 20s 32ms/step - loss: 0.1369 - accuracy: 0.8364 - val_loss: 0.2381 - val_accuracy: 0.7522\n",
      "Epoch 12/50\n",
      "614/614 [==============================] - 20s 32ms/step - loss: 0.1351 - accuracy: 0.8398 - val_loss: 0.2402 - val_accuracy: 0.7548\n",
      "Epoch 13/50\n",
      "614/614 [==============================] - 20s 33ms/step - loss: 0.1345 - accuracy: 0.8449 - val_loss: 0.2402 - val_accuracy: 0.7652\n",
      "Epoch 14/50\n",
      "614/614 [==============================] - 20s 33ms/step - loss: 0.1274 - accuracy: 0.8487 - val_loss: 0.2546 - val_accuracy: 0.7591\n",
      "Epoch 15/50\n",
      "614/614 [==============================] - 20s 33ms/step - loss: 0.1315 - accuracy: 0.8503 - val_loss: 0.2514 - val_accuracy: 0.7530\n",
      "Epoch 16/50\n",
      "614/614 [==============================] - 20s 33ms/step - loss: 0.1266 - accuracy: 0.8530 - val_loss: 0.2465 - val_accuracy: 0.7583\n",
      "Epoch 17/50\n",
      "614/614 [==============================] - 20s 33ms/step - loss: 0.1294 - accuracy: 0.8526 - val_loss: 0.2539 - val_accuracy: 0.7591\n",
      "Epoch 18/50\n",
      "614/614 [==============================] - 20s 33ms/step - loss: 0.1251 - accuracy: 0.8590 - val_loss: 0.2502 - val_accuracy: 0.7574\n",
      "Epoch 19/50\n",
      "614/614 [==============================] - 21s 34ms/step - loss: 0.1228 - accuracy: 0.8618 - val_loss: 0.2567 - val_accuracy: 0.7504\n",
      "Epoch 20/50\n",
      "614/614 [==============================] - 21s 34ms/step - loss: 0.1298 - accuracy: 0.8582 - val_loss: 0.2602 - val_accuracy: 0.7443\n",
      "Epoch 21/50\n",
      "614/614 [==============================] - 21s 34ms/step - loss: 0.1262 - accuracy: 0.8566 - val_loss: 0.2561 - val_accuracy: 0.7487\n",
      "Epoch 22/50\n",
      "614/614 [==============================] - 21s 34ms/step - loss: 0.1194 - accuracy: 0.8665 - val_loss: 0.2541 - val_accuracy: 0.7535\n",
      "Epoch 23/50\n",
      "614/614 [==============================] - 21s 34ms/step - loss: 0.1201 - accuracy: 0.8640 - val_loss: 0.2575 - val_accuracy: 0.7517\n",
      "Epoch 24/50\n",
      "614/614 [==============================] - 21s 34ms/step - loss: 0.1166 - accuracy: 0.8713 - val_loss: 0.2626 - val_accuracy: 0.7574\n",
      "Epoch 25/50\n",
      "614/614 [==============================] - 21s 35ms/step - loss: 0.1195 - accuracy: 0.8684 - val_loss: 0.2589 - val_accuracy: 0.7535\n",
      "Epoch 26/50\n",
      "614/614 [==============================] - 22s 36ms/step - loss: 0.1179 - accuracy: 0.8711 - val_loss: 0.2593 - val_accuracy: 0.7622\n",
      "Epoch 27/50\n",
      "614/614 [==============================] - 22s 36ms/step - loss: 0.1155 - accuracy: 0.8691 - val_loss: 0.2598 - val_accuracy: 0.7617\n",
      "Epoch 28/50\n",
      "614/614 [==============================] - 23s 38ms/step - loss: 0.1120 - accuracy: 0.8753 - val_loss: 0.2729 - val_accuracy: 0.7539\n",
      "Epoch 29/50\n",
      "614/614 [==============================] - 22s 35ms/step - loss: 0.1122 - accuracy: 0.8745 - val_loss: 0.2726 - val_accuracy: 0.7535\n",
      "Epoch 30/50\n",
      "614/614 [==============================] - 22s 35ms/step - loss: 0.1105 - accuracy: 0.8774 - val_loss: 0.2842 - val_accuracy: 0.7487\n",
      "Epoch 31/50\n",
      "614/614 [==============================] - 22s 35ms/step - loss: 0.1076 - accuracy: 0.8808 - val_loss: 0.2720 - val_accuracy: 0.7557\n",
      "Epoch 32/50\n",
      "614/614 [==============================] - 22s 35ms/step - loss: 0.1081 - accuracy: 0.8836 - val_loss: 0.2766 - val_accuracy: 0.7548\n",
      "Epoch 33/50\n",
      "614/614 [==============================] - 22s 36ms/step - loss: 0.1061 - accuracy: 0.8852 - val_loss: 0.2773 - val_accuracy: 0.7530\n",
      "Epoch 34/50\n",
      "614/614 [==============================] - 22s 35ms/step - loss: 0.1087 - accuracy: 0.8853 - val_loss: 0.2843 - val_accuracy: 0.7483\n",
      "Epoch 35/50\n",
      "614/614 [==============================] - 22s 35ms/step - loss: 0.1051 - accuracy: 0.8848 - val_loss: 0.2831 - val_accuracy: 0.7565\n",
      "Epoch 36/50\n",
      "614/614 [==============================] - 22s 35ms/step - loss: 0.1022 - accuracy: 0.8890 - val_loss: 0.2744 - val_accuracy: 0.7530\n",
      "Epoch 37/50\n",
      "614/614 [==============================] - 22s 36ms/step - loss: 0.1017 - accuracy: 0.8943 - val_loss: 0.2793 - val_accuracy: 0.7609\n",
      "Epoch 38/50\n",
      "614/614 [==============================] - 22s 36ms/step - loss: 0.0976 - accuracy: 0.8939 - val_loss: 0.2917 - val_accuracy: 0.7543\n",
      "Epoch 39/50\n",
      "614/614 [==============================] - 21s 35ms/step - loss: 0.0994 - accuracy: 0.8942 - val_loss: 0.2933 - val_accuracy: 0.7496\n",
      "Epoch 40/50\n",
      "614/614 [==============================] - 21s 35ms/step - loss: 0.1008 - accuracy: 0.8913 - val_loss: 0.3096 - val_accuracy: 0.7496\n",
      "Epoch 41/50\n",
      "614/614 [==============================] - 22s 35ms/step - loss: 0.0977 - accuracy: 0.8979 - val_loss: 0.2843 - val_accuracy: 0.7452\n",
      "Epoch 42/50\n",
      "614/614 [==============================] - 21s 35ms/step - loss: 0.1005 - accuracy: 0.8918 - val_loss: 0.2979 - val_accuracy: 0.7465\n",
      "Epoch 43/50\n",
      "614/614 [==============================] - 21s 35ms/step - loss: 0.0969 - accuracy: 0.8980 - val_loss: 0.3008 - val_accuracy: 0.7448\n",
      "Epoch 44/50\n",
      "614/614 [==============================] - 21s 35ms/step - loss: 0.0965 - accuracy: 0.8976 - val_loss: 0.3011 - val_accuracy: 0.7543\n",
      "Epoch 45/50\n",
      "614/614 [==============================] - 21s 35ms/step - loss: 0.0928 - accuracy: 0.9036 - val_loss: 0.2940 - val_accuracy: 0.7565\n",
      "Epoch 46/50\n",
      "614/614 [==============================] - 21s 35ms/step - loss: 0.0913 - accuracy: 0.9029 - val_loss: 0.3028 - val_accuracy: 0.7513\n",
      "Epoch 47/50\n",
      "614/614 [==============================] - 21s 35ms/step - loss: 0.0917 - accuracy: 0.9034 - val_loss: 0.3161 - val_accuracy: 0.7430\n",
      "Epoch 48/50\n",
      "614/614 [==============================] - 22s 35ms/step - loss: 0.0933 - accuracy: 0.9027 - val_loss: 0.2993 - val_accuracy: 0.7439\n",
      "Epoch 49/50\n",
      "614/614 [==============================] - 22s 36ms/step - loss: 0.0915 - accuracy: 0.9039 - val_loss: 0.3259 - val_accuracy: 0.7313\n",
      "Epoch 50/50\n",
      "614/614 [==============================] - 21s 35ms/step - loss: 0.0931 - accuracy: 0.9050 - val_loss: 0.3080 - val_accuracy: 0.7483\n"
     ]
    }
   ],
   "source": [
    "hist = model.fit(X,Y,validation_data=(XT,YT),epochs = 50, batch_size=15,shuffle=False)"
   ]
  },
  {
   "cell_type": "code",
   "execution_count": 157,
   "metadata": {},
   "outputs": [
    {
     "data": {
      "text/plain": [
       "(2300, 44)"
      ]
     },
     "execution_count": 157,
     "metadata": {},
     "output_type": "execute_result"
    }
   ],
   "source": [
    "np.shape(XT)"
   ]
  },
  {
   "cell_type": "code",
   "execution_count": 65,
   "metadata": {},
   "outputs": [
    {
     "data": {
      "image/png": "[encoded data removed]",
      "text/plain": [
       "<Figure size 432x288 with 1 Axes>"
      ]
     },
     "metadata": {
      "needs_background": "light"
     },
     "output_type": "display_data"
    }
   ],
   "source": [
    "#Train\n",
    "plt.figure(0)\n",
    "plt.plot(hist.history['loss'],'g')\n",
    "plt.plot(hist.history['accuracy'],'r')\n",
    "plt.show()"
   ]
  },
  {
   "cell_type": "code",
   "execution_count": 64,
   "metadata": {},
   "outputs": [
    {
     "data": {
      "image/png": "[encoded data removed]",
      "text/plain": [
       "<Figure size 432x288 with 1 Axes>"
      ]
     },
     "metadata": {
      "needs_background": "light"
     },
     "output_type": "display_data"
    }
   ],
   "source": [
    "#Test\n",
    "plt.figure(0)\n",
    "plt.plot(hist.history['val_loss'],'b')\n",
    "plt.plot(hist.history['val_accuracy'],'black')\n",
    "plt.show()"
   ]
  }
 ],
 "metadata": {
  "kernelspec": {
   "display_name": "Python 3",
   "language": "python",
   "name": "python3"
  },
  "language_info": {
   "codemirror_mode": {
    "name": "ipython",
    "version": 3
   },
   "file_extension": ".py",
   "mimetype": "text/x-python",
   "name": "python",
   "nbconvert_exporter": "python",
   "pygments_lexer": "ipython3",
   "version": "3.8.5"
  }
 },
 "nbformat": 4,
 "nbformat_minor": 4
}
