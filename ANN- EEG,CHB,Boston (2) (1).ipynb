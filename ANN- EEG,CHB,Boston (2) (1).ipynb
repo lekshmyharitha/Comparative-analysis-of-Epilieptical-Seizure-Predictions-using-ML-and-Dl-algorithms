{
 "cells": [
  {
   "cell_type": "code",
   "execution_count": 1,
   "metadata": {
    "id": "pzKItHHvxdLK"
   },
   "outputs": [],
   "source": [
    "import tensorflow as tf\n",
    "import numpy as np\n",
    "from keras.models import Sequential\n",
    "from keras.utils import np_utils\n",
    "from keras.layers import Dense, Activation\n",
    "import pandas as pd\n",
    "\n",
    "import matplotlib.pyplot as plt"
   ]
  },
  {
   "cell_type": "code",
   "execution_count": 157,
   "metadata": {
    "colab": {
     "base_uri": "https://localhost:8080/",
     "height": 73,
     "resources": {
      "http://localhost:8080/nbextensions/google.colab/files.js": {
       "data": "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",
       "headers": [
        [
         "content-type",
         "application/javascript"
        ]
       ],
       "ok": true,
       "status": 200,
       "status_text": ""
      }
     }
    },
    "id": "VXYzIinNx0uP",
    "outputId": "f52f4f4d-bc4c-4d7f-94f7-c7e03d1fda90"
   },
   "outputs": [
    {
     "data": {
      "text/html": [
       "<div>\n",
       "<style scoped>\n",
       "    .dataframe tbody tr th:only-of-type {\n",
       "        vertical-align: middle;\n",
       "    }\n",
       "\n",
       "    .dataframe tbody tr th {\n",
       "        vertical-align: top;\n",
       "    }\n",
       "\n",
       "    .dataframe thead th {\n",
       "        text-align: right;\n",
       "    }\n",
       "</style>\n",
       "<table border=\"1\" class=\"dataframe\">\n",
       "  <thead>\n",
       "    <tr style=\"text-align: right;\">\n",
       "      <th></th>\n",
       "      <th>Unnamed: 0</th>\n",
       "      <th>X1</th>\n",
       "      <th>X2</th>\n",
       "      <th>X3</th>\n",
       "      <th>X4</th>\n",
       "      <th>X5</th>\n",
       "      <th>X6</th>\n",
       "      <th>X7</th>\n",
       "      <th>X8</th>\n",
       "      <th>X9</th>\n",
       "      <th>...</th>\n",
       "      <th>X170</th>\n",
       "      <th>X171</th>\n",
       "      <th>X172</th>\n",
       "      <th>X173</th>\n",
       "      <th>X174</th>\n",
       "      <th>X175</th>\n",
       "      <th>X176</th>\n",
       "      <th>X177</th>\n",
       "      <th>X178</th>\n",
       "      <th>y</th>\n",
       "    </tr>\n",
       "  </thead>\n",
       "  <tbody>\n",
       "    <tr>\n",
       "      <th>0</th>\n",
       "      <td>X21.V1.791</td>\n",
       "      <td>135</td>\n",
       "      <td>190</td>\n",
       "      <td>229</td>\n",
       "      <td>223</td>\n",
       "      <td>192</td>\n",
       "      <td>125</td>\n",
       "      <td>55</td>\n",
       "      <td>-9</td>\n",
       "      <td>-33</td>\n",
       "      <td>...</td>\n",
       "      <td>-17</td>\n",
       "      <td>-15</td>\n",
       "      <td>-31</td>\n",
       "      <td>-77</td>\n",
       "      <td>-103</td>\n",
       "      <td>-127</td>\n",
       "      <td>-116</td>\n",
       "      <td>-83</td>\n",
       "      <td>-51</td>\n",
       "      <td>4</td>\n",
       "    </tr>\n",
       "    <tr>\n",
       "      <th>1</th>\n",
       "      <td>X15.V1.924</td>\n",
       "      <td>386</td>\n",
       "      <td>382</td>\n",
       "      <td>356</td>\n",
       "      <td>331</td>\n",
       "      <td>320</td>\n",
       "      <td>315</td>\n",
       "      <td>307</td>\n",
       "      <td>272</td>\n",
       "      <td>244</td>\n",
       "      <td>...</td>\n",
       "      <td>164</td>\n",
       "      <td>150</td>\n",
       "      <td>146</td>\n",
       "      <td>152</td>\n",
       "      <td>157</td>\n",
       "      <td>156</td>\n",
       "      <td>154</td>\n",
       "      <td>143</td>\n",
       "      <td>129</td>\n",
       "      <td>1</td>\n",
       "    </tr>\n",
       "    <tr>\n",
       "      <th>2</th>\n",
       "      <td>X8.V1.1</td>\n",
       "      <td>-32</td>\n",
       "      <td>-39</td>\n",
       "      <td>-47</td>\n",
       "      <td>-37</td>\n",
       "      <td>-32</td>\n",
       "      <td>-36</td>\n",
       "      <td>-57</td>\n",
       "      <td>-73</td>\n",
       "      <td>-85</td>\n",
       "      <td>...</td>\n",
       "      <td>57</td>\n",
       "      <td>64</td>\n",
       "      <td>48</td>\n",
       "      <td>19</td>\n",
       "      <td>-12</td>\n",
       "      <td>-30</td>\n",
       "      <td>-35</td>\n",
       "      <td>-35</td>\n",
       "      <td>-36</td>\n",
       "      <td>5</td>\n",
       "    </tr>\n",
       "    <tr>\n",
       "      <th>3</th>\n",
       "      <td>X16.V1.60</td>\n",
       "      <td>-105</td>\n",
       "      <td>-101</td>\n",
       "      <td>-96</td>\n",
       "      <td>-92</td>\n",
       "      <td>-89</td>\n",
       "      <td>-95</td>\n",
       "      <td>-102</td>\n",
       "      <td>-100</td>\n",
       "      <td>-87</td>\n",
       "      <td>...</td>\n",
       "      <td>-82</td>\n",
       "      <td>-81</td>\n",
       "      <td>-80</td>\n",
       "      <td>-77</td>\n",
       "      <td>-85</td>\n",
       "      <td>-77</td>\n",
       "      <td>-72</td>\n",
       "      <td>-69</td>\n",
       "      <td>-65</td>\n",
       "      <td>5</td>\n",
       "    </tr>\n",
       "    <tr>\n",
       "      <th>4</th>\n",
       "      <td>X20.V1.54</td>\n",
       "      <td>-9</td>\n",
       "      <td>-65</td>\n",
       "      <td>-98</td>\n",
       "      <td>-102</td>\n",
       "      <td>-78</td>\n",
       "      <td>-48</td>\n",
       "      <td>-16</td>\n",
       "      <td>0</td>\n",
       "      <td>-21</td>\n",
       "      <td>...</td>\n",
       "      <td>4</td>\n",
       "      <td>2</td>\n",
       "      <td>-12</td>\n",
       "      <td>-32</td>\n",
       "      <td>-41</td>\n",
       "      <td>-65</td>\n",
       "      <td>-83</td>\n",
       "      <td>-89</td>\n",
       "      <td>-73</td>\n",
       "      <td>5</td>\n",
       "    </tr>\n",
       "  </tbody>\n",
       "</table>\n",
       "<p>5 rows × 180 columns</p>\n",
       "</div>"
      ],
      "text/plain": [
       "   Unnamed: 0   X1   X2   X3   X4   X5   X6   X7   X8   X9  ...  X170  X171  \\\n",
       "0  X21.V1.791  135  190  229  223  192  125   55   -9  -33  ...   -17   -15   \n",
       "1  X15.V1.924  386  382  356  331  320  315  307  272  244  ...   164   150   \n",
       "2     X8.V1.1  -32  -39  -47  -37  -32  -36  -57  -73  -85  ...    57    64   \n",
       "3   X16.V1.60 -105 -101  -96  -92  -89  -95 -102 -100  -87  ...   -82   -81   \n",
       "4   X20.V1.54   -9  -65  -98 -102  -78  -48  -16    0  -21  ...     4     2   \n",
       "\n",
       "   X172  X173  X174  X175  X176  X177  X178  y  \n",
       "0   -31   -77  -103  -127  -116   -83   -51  4  \n",
       "1   146   152   157   156   154   143   129  1  \n",
       "2    48    19   -12   -30   -35   -35   -36  5  \n",
       "3   -80   -77   -85   -77   -72   -69   -65  5  \n",
       "4   -12   -32   -41   -65   -83   -89   -73  5  \n",
       "\n",
       "[5 rows x 180 columns]"
      ]
     },
     "execution_count": 157,
     "metadata": {},
     "output_type": "execute_result"
    }
   ],
   "source": [
    "df=pd.read_csv('data.csv')\n",
    "df.head()"
   ]
  },
  {
   "cell_type": "code",
   "execution_count": 158,
   "metadata": {
    "id": "Qw_9yrULxqti"
   },
   "outputs": [],
   "source": [
    "X=df.values"
   ]
  },
  {
   "cell_type": "code",
   "execution_count": 159,
   "metadata": {
    "id": "Ml4pdXSpxqwV"
   },
   "outputs": [],
   "source": [
    "X=X[:,1:-1]"
   ]
  },
  {
   "cell_type": "code",
   "execution_count": 34,
   "metadata": {},
   "outputs": [
    {
     "data": {
      "text/html": [
       "<div>\n",
       "<style scoped>\n",
       "    .dataframe tbody tr th:only-of-type {\n",
       "        vertical-align: middle;\n",
       "    }\n",
       "\n",
       "    .dataframe tbody tr th {\n",
       "        vertical-align: top;\n",
       "    }\n",
       "\n",
       "    .dataframe thead th {\n",
       "        text-align: right;\n",
       "    }\n",
       "</style>\n",
       "<table border=\"1\" class=\"dataframe\">\n",
       "  <thead>\n",
       "    <tr style=\"text-align: right;\">\n",
       "      <th></th>\n",
       "      <th>Unnamed: 0</th>\n",
       "      <th>X1</th>\n",
       "      <th>X2</th>\n",
       "      <th>X3</th>\n",
       "      <th>X4</th>\n",
       "      <th>X5</th>\n",
       "      <th>X6</th>\n",
       "      <th>X7</th>\n",
       "      <th>X8</th>\n",
       "      <th>X9</th>\n",
       "      <th>...</th>\n",
       "      <th>X170</th>\n",
       "      <th>X171</th>\n",
       "      <th>X172</th>\n",
       "      <th>X173</th>\n",
       "      <th>X174</th>\n",
       "      <th>X175</th>\n",
       "      <th>X176</th>\n",
       "      <th>X177</th>\n",
       "      <th>X178</th>\n",
       "      <th>y</th>\n",
       "    </tr>\n",
       "  </thead>\n",
       "  <tbody>\n",
       "    <tr>\n",
       "      <th>0</th>\n",
       "      <td>X21.V1.791</td>\n",
       "      <td>135</td>\n",
       "      <td>190</td>\n",
       "      <td>229</td>\n",
       "      <td>223</td>\n",
       "      <td>192</td>\n",
       "      <td>125</td>\n",
       "      <td>55</td>\n",
       "      <td>-9</td>\n",
       "      <td>-33</td>\n",
       "      <td>...</td>\n",
       "      <td>-17</td>\n",
       "      <td>-15</td>\n",
       "      <td>-31</td>\n",
       "      <td>-77</td>\n",
       "      <td>-103</td>\n",
       "      <td>-127</td>\n",
       "      <td>-116</td>\n",
       "      <td>-83</td>\n",
       "      <td>-51</td>\n",
       "      <td>1</td>\n",
       "    </tr>\n",
       "    <tr>\n",
       "      <th>1</th>\n",
       "      <td>X15.V1.924</td>\n",
       "      <td>386</td>\n",
       "      <td>382</td>\n",
       "      <td>356</td>\n",
       "      <td>331</td>\n",
       "      <td>320</td>\n",
       "      <td>315</td>\n",
       "      <td>307</td>\n",
       "      <td>272</td>\n",
       "      <td>244</td>\n",
       "      <td>...</td>\n",
       "      <td>164</td>\n",
       "      <td>150</td>\n",
       "      <td>146</td>\n",
       "      <td>152</td>\n",
       "      <td>157</td>\n",
       "      <td>156</td>\n",
       "      <td>154</td>\n",
       "      <td>143</td>\n",
       "      <td>129</td>\n",
       "      <td>0</td>\n",
       "    </tr>\n",
       "    <tr>\n",
       "      <th>2</th>\n",
       "      <td>X8.V1.1</td>\n",
       "      <td>-32</td>\n",
       "      <td>-39</td>\n",
       "      <td>-47</td>\n",
       "      <td>-37</td>\n",
       "      <td>-32</td>\n",
       "      <td>-36</td>\n",
       "      <td>-57</td>\n",
       "      <td>-73</td>\n",
       "      <td>-85</td>\n",
       "      <td>...</td>\n",
       "      <td>57</td>\n",
       "      <td>64</td>\n",
       "      <td>48</td>\n",
       "      <td>19</td>\n",
       "      <td>-12</td>\n",
       "      <td>-30</td>\n",
       "      <td>-35</td>\n",
       "      <td>-35</td>\n",
       "      <td>-36</td>\n",
       "      <td>1</td>\n",
       "    </tr>\n",
       "    <tr>\n",
       "      <th>3</th>\n",
       "      <td>X16.V1.60</td>\n",
       "      <td>-105</td>\n",
       "      <td>-101</td>\n",
       "      <td>-96</td>\n",
       "      <td>-92</td>\n",
       "      <td>-89</td>\n",
       "      <td>-95</td>\n",
       "      <td>-102</td>\n",
       "      <td>-100</td>\n",
       "      <td>-87</td>\n",
       "      <td>...</td>\n",
       "      <td>-82</td>\n",
       "      <td>-81</td>\n",
       "      <td>-80</td>\n",
       "      <td>-77</td>\n",
       "      <td>-85</td>\n",
       "      <td>-77</td>\n",
       "      <td>-72</td>\n",
       "      <td>-69</td>\n",
       "      <td>-65</td>\n",
       "      <td>1</td>\n",
       "    </tr>\n",
       "    <tr>\n",
       "      <th>4</th>\n",
       "      <td>X20.V1.54</td>\n",
       "      <td>-9</td>\n",
       "      <td>-65</td>\n",
       "      <td>-98</td>\n",
       "      <td>-102</td>\n",
       "      <td>-78</td>\n",
       "      <td>-48</td>\n",
       "      <td>-16</td>\n",
       "      <td>0</td>\n",
       "      <td>-21</td>\n",
       "      <td>...</td>\n",
       "      <td>4</td>\n",
       "      <td>2</td>\n",
       "      <td>-12</td>\n",
       "      <td>-32</td>\n",
       "      <td>-41</td>\n",
       "      <td>-65</td>\n",
       "      <td>-83</td>\n",
       "      <td>-89</td>\n",
       "      <td>-73</td>\n",
       "      <td>1</td>\n",
       "    </tr>\n",
       "    <tr>\n",
       "      <th>...</th>\n",
       "      <td>...</td>\n",
       "      <td>...</td>\n",
       "      <td>...</td>\n",
       "      <td>...</td>\n",
       "      <td>...</td>\n",
       "      <td>...</td>\n",
       "      <td>...</td>\n",
       "      <td>...</td>\n",
       "      <td>...</td>\n",
       "      <td>...</td>\n",
       "      <td>...</td>\n",
       "      <td>...</td>\n",
       "      <td>...</td>\n",
       "      <td>...</td>\n",
       "      <td>...</td>\n",
       "      <td>...</td>\n",
       "      <td>...</td>\n",
       "      <td>...</td>\n",
       "      <td>...</td>\n",
       "      <td>...</td>\n",
       "      <td>...</td>\n",
       "    </tr>\n",
       "    <tr>\n",
       "      <th>11495</th>\n",
       "      <td>X22.V1.114</td>\n",
       "      <td>-22</td>\n",
       "      <td>-22</td>\n",
       "      <td>-23</td>\n",
       "      <td>-26</td>\n",
       "      <td>-36</td>\n",
       "      <td>-42</td>\n",
       "      <td>-45</td>\n",
       "      <td>-42</td>\n",
       "      <td>-45</td>\n",
       "      <td>...</td>\n",
       "      <td>15</td>\n",
       "      <td>16</td>\n",
       "      <td>12</td>\n",
       "      <td>5</td>\n",
       "      <td>-1</td>\n",
       "      <td>-18</td>\n",
       "      <td>-37</td>\n",
       "      <td>-47</td>\n",
       "      <td>-48</td>\n",
       "      <td>1</td>\n",
       "    </tr>\n",
       "    <tr>\n",
       "      <th>11496</th>\n",
       "      <td>X19.V1.354</td>\n",
       "      <td>-47</td>\n",
       "      <td>-11</td>\n",
       "      <td>28</td>\n",
       "      <td>77</td>\n",
       "      <td>141</td>\n",
       "      <td>211</td>\n",
       "      <td>246</td>\n",
       "      <td>240</td>\n",
       "      <td>193</td>\n",
       "      <td>...</td>\n",
       "      <td>-65</td>\n",
       "      <td>-33</td>\n",
       "      <td>-7</td>\n",
       "      <td>14</td>\n",
       "      <td>27</td>\n",
       "      <td>48</td>\n",
       "      <td>77</td>\n",
       "      <td>117</td>\n",
       "      <td>170</td>\n",
       "      <td>0</td>\n",
       "    </tr>\n",
       "    <tr>\n",
       "      <th>11497</th>\n",
       "      <td>X8.V1.28</td>\n",
       "      <td>14</td>\n",
       "      <td>6</td>\n",
       "      <td>-13</td>\n",
       "      <td>-16</td>\n",
       "      <td>10</td>\n",
       "      <td>26</td>\n",
       "      <td>27</td>\n",
       "      <td>-9</td>\n",
       "      <td>4</td>\n",
       "      <td>...</td>\n",
       "      <td>-65</td>\n",
       "      <td>-48</td>\n",
       "      <td>-61</td>\n",
       "      <td>-62</td>\n",
       "      <td>-67</td>\n",
       "      <td>-30</td>\n",
       "      <td>-2</td>\n",
       "      <td>-1</td>\n",
       "      <td>-8</td>\n",
       "      <td>1</td>\n",
       "    </tr>\n",
       "    <tr>\n",
       "      <th>11498</th>\n",
       "      <td>X10.V1.932</td>\n",
       "      <td>-40</td>\n",
       "      <td>-25</td>\n",
       "      <td>-9</td>\n",
       "      <td>-12</td>\n",
       "      <td>-2</td>\n",
       "      <td>12</td>\n",
       "      <td>7</td>\n",
       "      <td>19</td>\n",
       "      <td>22</td>\n",
       "      <td>...</td>\n",
       "      <td>121</td>\n",
       "      <td>135</td>\n",
       "      <td>148</td>\n",
       "      <td>143</td>\n",
       "      <td>116</td>\n",
       "      <td>86</td>\n",
       "      <td>68</td>\n",
       "      <td>59</td>\n",
       "      <td>55</td>\n",
       "      <td>1</td>\n",
       "    </tr>\n",
       "    <tr>\n",
       "      <th>11499</th>\n",
       "      <td>X16.V1.210</td>\n",
       "      <td>29</td>\n",
       "      <td>41</td>\n",
       "      <td>57</td>\n",
       "      <td>72</td>\n",
       "      <td>74</td>\n",
       "      <td>62</td>\n",
       "      <td>54</td>\n",
       "      <td>43</td>\n",
       "      <td>31</td>\n",
       "      <td>...</td>\n",
       "      <td>-59</td>\n",
       "      <td>-25</td>\n",
       "      <td>-4</td>\n",
       "      <td>2</td>\n",
       "      <td>5</td>\n",
       "      <td>4</td>\n",
       "      <td>-2</td>\n",
       "      <td>2</td>\n",
       "      <td>20</td>\n",
       "      <td>1</td>\n",
       "    </tr>\n",
       "  </tbody>\n",
       "</table>\n",
       "<p>11500 rows × 180 columns</p>\n",
       "</div>"
      ],
      "text/plain": [
       "       Unnamed: 0   X1   X2   X3   X4   X5   X6   X7   X8   X9  ...  X170  \\\n",
       "0      X21.V1.791  135  190  229  223  192  125   55   -9  -33  ...   -17   \n",
       "1      X15.V1.924  386  382  356  331  320  315  307  272  244  ...   164   \n",
       "2         X8.V1.1  -32  -39  -47  -37  -32  -36  -57  -73  -85  ...    57   \n",
       "3       X16.V1.60 -105 -101  -96  -92  -89  -95 -102 -100  -87  ...   -82   \n",
       "4       X20.V1.54   -9  -65  -98 -102  -78  -48  -16    0  -21  ...     4   \n",
       "...           ...  ...  ...  ...  ...  ...  ...  ...  ...  ...  ...   ...   \n",
       "11495  X22.V1.114  -22  -22  -23  -26  -36  -42  -45  -42  -45  ...    15   \n",
       "11496  X19.V1.354  -47  -11   28   77  141  211  246  240  193  ...   -65   \n",
       "11497    X8.V1.28   14    6  -13  -16   10   26   27   -9    4  ...   -65   \n",
       "11498  X10.V1.932  -40  -25   -9  -12   -2   12    7   19   22  ...   121   \n",
       "11499  X16.V1.210   29   41   57   72   74   62   54   43   31  ...   -59   \n",
       "\n",
       "       X171  X172  X173  X174  X175  X176  X177  X178  y  \n",
       "0       -15   -31   -77  -103  -127  -116   -83   -51  1  \n",
       "1       150   146   152   157   156   154   143   129  0  \n",
       "2        64    48    19   -12   -30   -35   -35   -36  1  \n",
       "3       -81   -80   -77   -85   -77   -72   -69   -65  1  \n",
       "4         2   -12   -32   -41   -65   -83   -89   -73  1  \n",
       "...     ...   ...   ...   ...   ...   ...   ...   ... ..  \n",
       "11495    16    12     5    -1   -18   -37   -47   -48  1  \n",
       "11496   -33    -7    14    27    48    77   117   170  0  \n",
       "11497   -48   -61   -62   -67   -30    -2    -1    -8  1  \n",
       "11498   135   148   143   116    86    68    59    55  1  \n",
       "11499   -25    -4     2     5     4    -2     2    20  1  \n",
       "\n",
       "[11500 rows x 180 columns]"
      ]
     },
     "execution_count": 34,
     "metadata": {},
     "output_type": "execute_result"
    }
   ],
   "source": [
    "#df['y'] = df.y.map({0: 0, 1: 0, 2: 1, 3: 1, 4: 1,5:1})\n",
    "#df\n"
   ]
  },
  {
   "cell_type": "code",
   "execution_count": 160,
   "metadata": {
    "id": "z_EDnJjgxq2D"
   },
   "outputs": [],
   "source": [
    "#Splitting data\n",
    "from sklearn.model_selection import train_test_split\n",
    "\n",
    "\n",
    "y=np.array(df['y'])\n",
    "Y=np_utils.to_categorical(y)\n",
    "Y.shape\n",
    "X_train, X_test, Y_train, Y_test = train_test_split(X, Y, test_size=0.20, random_state=1)"
   ]
  },
  {
   "cell_type": "code",
   "execution_count": 50,
   "metadata": {
    "colab": {
     "base_uri": "https://localhost:8080/"
    },
    "id": "TplIajQJxq3A",
    "outputId": "7422426f-32f5-4c88-832e-edc82d3ad373"
   },
   "outputs": [
    {
     "name": "stdout",
     "output_type": "stream",
     "text": [
      "(11500, 178) (11500,)\n"
     ]
    }
   ],
   "source": [
    "print(X.shape,y.shape)"
   ]
  },
  {
   "cell_type": "code",
   "execution_count": 7,
   "metadata": {
    "colab": {
     "base_uri": "https://localhost:8080/",
     "height": 483
    },
    "id": "dzmRr5cTyIHG",
    "outputId": "bc2813f9-6261-4db2-acbd-1c9aa6265f90"
   },
   "outputs": [
    {
     "data": {
      "image/png": "[encoded data removed]",
      "text/plain": [
       "<Figure size 864x576 with 1 Axes>"
      ]
     },
     "metadata": {
      "needs_background": "light"
     },
     "output_type": "display_data"
    }
   ],
   "source": [
    "plt.figure(figsize=(12,8))\n",
    "plt.plot(X[1,:],label='1')\n",
    "plt.plot(X[7,:],label='2')\n",
    "plt.plot(X[12,:],label='3')\n",
    "plt.plot(X[0,:],label='4')\n",
    "plt.plot(X[2,:],label='5')\n",
    "plt.legend()\n",
    "plt.show()"
   ]
  },
  {
   "cell_type": "code",
   "execution_count": 161,
   "metadata": {
    "colab": {
     "base_uri": "https://localhost:8080/"
    },
    "id": "oopqHiicyIMU",
    "outputId": "10cd1fc6-8d90-4e11-f7cb-ca25d48c1dd1"
   },
   "outputs": [],
   "source": [
    "#Creating Sequential Model\n",
    "model=Sequential()\n",
    "model.add(Dense(256,input_shape=(45,)))\n",
    "model.add(Activation('relu'))\n",
    "model.add(Dense(128))\n",
    "model.add(Activation('relu'))\n",
    "model.add(Dense(128))\n",
    "model.add(Activation('relu'))\n",
    "model.add(Dense(64))\n",
    "model.add(Activation('relu'))\n",
    "model.add(Dense(32))\n",
    "model.add(Activation('relu'))\n",
    "model.add(Dense(32))\n",
    "model.add(Activation('relu'))\n",
    "model.add(Dense(32))\n",
    "model.add(Activation('relu'))\n",
    "model.add(Dense(16))\n",
    "model.add(Activation('relu'))\n",
    "model.add(Dense(16))\n",
    "model.add(Activation('relu'))\n",
    "model.add(Dense(8))\n",
    "model.add(Activation('relu'))\n",
    "model.add(Dense(5))\n",
    "model.add(Activation('softmax'))\n",
    "model.compile(optimizer='adam',loss='binary_crossentropy',metrics=['accuracy'])\n"
   ]
  },
  {
   "cell_type": "code",
   "execution_count": 151,
   "metadata": {
    "id": "uLkZh5fGyIQN"
   },
   "outputs": [],
   "source": [
    "model.compile(optimizer='adam',loss='categorical_crossentropy',metrics=['accuracy'])"
   ]
  },
  {
   "cell_type": "code",
   "execution_count": 162,
   "metadata": {
    "colab": {
     "base_uri": "https://localhost:8080/"
    },
    "id": "rXRfX8uq2kti",
    "outputId": "9bda38af-9611-483c-a59c-18003a19ec60"
   },
   "outputs": [],
   "source": [
    "#Standardizing training and testing data\n",
    "X=(X_train[:,::4]-X_train.mean())/X_train.std()\n",
    "X=np.asarray(X).astype(np.float32)\n",
    "Y=Y_train[:,1:]\n",
    "Y=np.asarray(Y).astype(np.float32)"
   ]
  },
  {
   "cell_type": "code",
   "execution_count": 163,
   "metadata": {},
   "outputs": [],
   "source": [
    "XT=(X_test[:,::4]-X_test.mean())/X_test.std()\n",
    "XT=np.asarray(XT).astype(np.float32)\n",
    "YT=Y_test[:,1:]\n",
    "YT=np.asarray(YT).astype(np.float32)"
   ]
  },
  {
   "cell_type": "code",
   "execution_count": 41,
   "metadata": {},
   "outputs": [
    {
     "data": {
      "text/plain": [
       "(9200, 45)"
      ]
     },
     "execution_count": 41,
     "metadata": {},
     "output_type": "execute_result"
    }
   ],
   "source": [
    "np.shape(X)"
   ]
  },
  {
   "cell_type": "code",
   "execution_count": 164,
   "metadata": {},
   "outputs": [
    {
     "name": "stdout",
     "output_type": "stream",
     "text": [
      "Epoch 1/100\n",
      "920/920 - 1s - loss: 0.3621 - accuracy: 0.4850 - val_loss: 0.2914 - val_accuracy: 0.6261\n",
      "Epoch 2/100\n",
      "920/920 - 1s - loss: 0.2693 - accuracy: 0.6449 - val_loss: 0.2614 - val_accuracy: 0.6643\n",
      "Epoch 3/100\n",
      "920/920 - 1s - loss: 0.2398 - accuracy: 0.6857 - val_loss: 0.2538 - val_accuracy: 0.6687\n",
      "Epoch 4/100\n",
      "920/920 - 1s - loss: 0.2233 - accuracy: 0.7027 - val_loss: 0.2566 - val_accuracy: 0.6639\n",
      "Epoch 5/100\n",
      "920/920 - 1s - loss: 0.2240 - accuracy: 0.7038 - val_loss: 0.2481 - val_accuracy: 0.6583\n",
      "Epoch 6/100\n",
      "920/920 - 1s - loss: 0.2060 - accuracy: 0.7307 - val_loss: 0.2469 - val_accuracy: 0.6817\n",
      "Epoch 7/100\n",
      "920/920 - 1s - loss: 0.1925 - accuracy: 0.7472 - val_loss: 0.2796 - val_accuracy: 0.6574\n",
      "Epoch 8/100\n",
      "920/920 - 1s - loss: 0.1801 - accuracy: 0.7659 - val_loss: 0.2694 - val_accuracy: 0.6748\n",
      "Epoch 9/100\n",
      "920/920 - 1s - loss: 0.1725 - accuracy: 0.7815 - val_loss: 0.2787 - val_accuracy: 0.6609\n",
      "Epoch 10/100\n",
      "920/920 - 1s - loss: 0.1626 - accuracy: 0.7947 - val_loss: 0.2830 - val_accuracy: 0.6743\n",
      "Epoch 11/100\n",
      "920/920 - 1s - loss: 0.1552 - accuracy: 0.8090 - val_loss: 0.2799 - val_accuracy: 0.6917\n",
      "Epoch 12/100\n",
      "920/920 - 1s - loss: 0.1459 - accuracy: 0.8232 - val_loss: 0.3029 - val_accuracy: 0.6891\n",
      "Epoch 13/100\n",
      "920/920 - 1s - loss: 0.1365 - accuracy: 0.8420 - val_loss: 0.2932 - val_accuracy: 0.6922\n",
      "Epoch 14/100\n",
      "920/920 - 1s - loss: 0.1302 - accuracy: 0.8488 - val_loss: 0.3335 - val_accuracy: 0.6965\n",
      "Epoch 15/100\n",
      "920/920 - 1s - loss: 0.1262 - accuracy: 0.8585 - val_loss: 0.3377 - val_accuracy: 0.6930\n",
      "Epoch 16/100\n",
      "920/920 - 1s - loss: 0.1141 - accuracy: 0.8723 - val_loss: 0.3663 - val_accuracy: 0.6817\n",
      "Epoch 17/100\n",
      "920/920 - 1s - loss: 0.1057 - accuracy: 0.8853 - val_loss: 0.3563 - val_accuracy: 0.6913\n",
      "Epoch 18/100\n",
      "920/920 - 1s - loss: 0.0991 - accuracy: 0.8970 - val_loss: 0.3690 - val_accuracy: 0.6852\n",
      "Epoch 19/100\n",
      "920/920 - 1s - loss: 0.1010 - accuracy: 0.8970 - val_loss: 0.3842 - val_accuracy: 0.6952\n",
      "Epoch 20/100\n",
      "920/920 - 1s - loss: 0.0935 - accuracy: 0.9057 - val_loss: 0.4051 - val_accuracy: 0.7070\n",
      "Epoch 21/100\n",
      "920/920 - 1s - loss: 0.0782 - accuracy: 0.9208 - val_loss: 0.3779 - val_accuracy: 0.6917\n",
      "Epoch 22/100\n",
      "920/920 - 1s - loss: 0.0746 - accuracy: 0.9257 - val_loss: 0.3743 - val_accuracy: 0.7087\n",
      "Epoch 23/100\n",
      "920/920 - 1s - loss: 0.0730 - accuracy: 0.9271 - val_loss: 0.3672 - val_accuracy: 0.7178\n",
      "Epoch 24/100\n",
      "920/920 - 1s - loss: 0.0643 - accuracy: 0.9388 - val_loss: 0.3870 - val_accuracy: 0.7048\n",
      "Epoch 25/100\n",
      "920/920 - 2s - loss: 0.0713 - accuracy: 0.9351 - val_loss: 0.3785 - val_accuracy: 0.7117\n",
      "Epoch 26/100\n",
      "920/920 - 2s - loss: 0.0604 - accuracy: 0.9447 - val_loss: 0.4936 - val_accuracy: 0.7000\n",
      "Epoch 27/100\n",
      "920/920 - 2s - loss: 0.0572 - accuracy: 0.9489 - val_loss: 0.4634 - val_accuracy: 0.7143\n",
      "Epoch 28/100\n",
      "920/920 - 2s - loss: 0.0516 - accuracy: 0.9543 - val_loss: 0.4401 - val_accuracy: 0.7057\n",
      "Epoch 29/100\n",
      "920/920 - 2s - loss: 0.0468 - accuracy: 0.9584 - val_loss: 0.4564 - val_accuracy: 0.7113\n",
      "Epoch 30/100\n",
      "920/920 - 2s - loss: 0.0468 - accuracy: 0.9576 - val_loss: 0.4612 - val_accuracy: 0.7104\n",
      "Epoch 31/100\n",
      "920/920 - 2s - loss: 0.0411 - accuracy: 0.9628 - val_loss: 0.5334 - val_accuracy: 0.7130\n",
      "Epoch 32/100\n",
      "920/920 - 2s - loss: 0.0456 - accuracy: 0.9616 - val_loss: 0.4876 - val_accuracy: 0.7130\n",
      "Epoch 33/100\n",
      "920/920 - 2s - loss: 0.0390 - accuracy: 0.9666 - val_loss: 0.4668 - val_accuracy: 0.7148\n",
      "Epoch 34/100\n",
      "920/920 - 2s - loss: 0.0400 - accuracy: 0.9675 - val_loss: 0.4923 - val_accuracy: 0.7061\n",
      "Epoch 35/100\n",
      "920/920 - 2s - loss: 0.0387 - accuracy: 0.9667 - val_loss: 0.4741 - val_accuracy: 0.7265\n",
      "Epoch 36/100\n",
      "920/920 - 2s - loss: 0.0411 - accuracy: 0.9653 - val_loss: 0.4752 - val_accuracy: 0.7243\n",
      "Epoch 37/100\n",
      "920/920 - 2s - loss: 0.0340 - accuracy: 0.9707 - val_loss: 0.4234 - val_accuracy: 0.7100\n",
      "Epoch 38/100\n",
      "920/920 - 2s - loss: 0.0317 - accuracy: 0.9735 - val_loss: 0.4821 - val_accuracy: 0.7061\n",
      "Epoch 39/100\n",
      "920/920 - 2s - loss: 0.0351 - accuracy: 0.9703 - val_loss: 0.5168 - val_accuracy: 0.7083\n",
      "Epoch 40/100\n",
      "920/920 - 2s - loss: 0.0328 - accuracy: 0.9735 - val_loss: 0.4974 - val_accuracy: 0.7287\n",
      "Epoch 41/100\n",
      "920/920 - 2s - loss: 0.0335 - accuracy: 0.9723 - val_loss: 0.5020 - val_accuracy: 0.7130\n",
      "Epoch 42/100\n",
      "920/920 - 2s - loss: 0.0328 - accuracy: 0.9746 - val_loss: 0.5276 - val_accuracy: 0.7161\n",
      "Epoch 43/100\n",
      "920/920 - 2s - loss: 0.0291 - accuracy: 0.9733 - val_loss: 0.5450 - val_accuracy: 0.7230\n",
      "Epoch 44/100\n",
      "920/920 - 2s - loss: 0.0285 - accuracy: 0.9764 - val_loss: 0.4936 - val_accuracy: 0.7165\n",
      "Epoch 45/100\n",
      "920/920 - 2s - loss: 0.0274 - accuracy: 0.9782 - val_loss: 0.5082 - val_accuracy: 0.7191\n",
      "Epoch 46/100\n",
      "920/920 - 2s - loss: 0.0320 - accuracy: 0.9752 - val_loss: 0.5213 - val_accuracy: 0.7157\n",
      "Epoch 47/100\n",
      "920/920 - 2s - loss: 0.0262 - accuracy: 0.9776 - val_loss: 0.5304 - val_accuracy: 0.7239\n",
      "Epoch 48/100\n",
      "920/920 - 2s - loss: 0.0235 - accuracy: 0.9824 - val_loss: 0.5173 - val_accuracy: 0.7161\n",
      "Epoch 49/100\n",
      "920/920 - 2s - loss: 0.0277 - accuracy: 0.9784 - val_loss: 0.5494 - val_accuracy: 0.7165\n",
      "Epoch 50/100\n",
      "920/920 - 2s - loss: 0.0302 - accuracy: 0.9771 - val_loss: 0.5378 - val_accuracy: 0.7178\n",
      "Epoch 51/100\n",
      "920/920 - 2s - loss: 0.0267 - accuracy: 0.9786 - val_loss: 0.5549 - val_accuracy: 0.7165\n",
      "Epoch 52/100\n",
      "920/920 - 2s - loss: 0.0231 - accuracy: 0.9821 - val_loss: 0.4845 - val_accuracy: 0.7170\n",
      "Epoch 53/100\n",
      "920/920 - 2s - loss: 0.0267 - accuracy: 0.9793 - val_loss: 0.4566 - val_accuracy: 0.7239\n",
      "Epoch 54/100\n",
      "920/920 - 2s - loss: 0.0253 - accuracy: 0.9799 - val_loss: 0.4618 - val_accuracy: 0.7091\n",
      "Epoch 55/100\n",
      "920/920 - 2s - loss: 0.0266 - accuracy: 0.9778 - val_loss: 0.5354 - val_accuracy: 0.7191\n",
      "Epoch 56/100\n",
      "920/920 - 2s - loss: 0.0211 - accuracy: 0.9843 - val_loss: 0.4877 - val_accuracy: 0.7043\n",
      "Epoch 57/100\n",
      "920/920 - 2s - loss: 0.0228 - accuracy: 0.9830 - val_loss: 0.5356 - val_accuracy: 0.7330\n",
      "Epoch 58/100\n",
      "920/920 - 2s - loss: 0.0185 - accuracy: 0.9843 - val_loss: 0.5584 - val_accuracy: 0.7222\n",
      "Epoch 59/100\n",
      "920/920 - 2s - loss: 0.0203 - accuracy: 0.9839 - val_loss: 0.5492 - val_accuracy: 0.7096\n",
      "Epoch 60/100\n",
      "920/920 - 2s - loss: 0.0174 - accuracy: 0.9854 - val_loss: 0.6062 - val_accuracy: 0.7248\n",
      "Epoch 61/100\n",
      "920/920 - 2s - loss: 0.0227 - accuracy: 0.9837 - val_loss: 0.5934 - val_accuracy: 0.7161\n",
      "Epoch 62/100\n",
      "920/920 - 2s - loss: 0.0175 - accuracy: 0.9857 - val_loss: 0.5720 - val_accuracy: 0.7135\n",
      "Epoch 63/100\n",
      "920/920 - 3s - loss: 0.0230 - accuracy: 0.9830 - val_loss: 0.5980 - val_accuracy: 0.7122\n",
      "Epoch 64/100\n",
      "920/920 - 3s - loss: 0.0193 - accuracy: 0.9841 - val_loss: 0.5704 - val_accuracy: 0.7122\n",
      "Epoch 65/100\n",
      "920/920 - 2s - loss: 0.0156 - accuracy: 0.9863 - val_loss: 0.6737 - val_accuracy: 0.7248\n",
      "Epoch 66/100\n",
      "920/920 - 2s - loss: 0.0185 - accuracy: 0.9838 - val_loss: 0.6645 - val_accuracy: 0.7135\n",
      "Epoch 67/100\n",
      "920/920 - 2s - loss: 0.0218 - accuracy: 0.9828 - val_loss: 0.5624 - val_accuracy: 0.7265\n",
      "Epoch 68/100\n",
      "920/920 - 2s - loss: 0.0200 - accuracy: 0.9847 - val_loss: 0.5128 - val_accuracy: 0.7052\n",
      "Epoch 69/100\n",
      "920/920 - 2s - loss: 0.0168 - accuracy: 0.9874 - val_loss: 0.6214 - val_accuracy: 0.7122\n",
      "Epoch 70/100\n",
      "920/920 - 3s - loss: 0.0161 - accuracy: 0.9893 - val_loss: 0.5760 - val_accuracy: 0.7161\n",
      "Epoch 71/100\n",
      "920/920 - 3s - loss: 0.0193 - accuracy: 0.9859 - val_loss: 0.5465 - val_accuracy: 0.7183\n",
      "Epoch 72/100\n",
      "920/920 - 3s - loss: 0.0181 - accuracy: 0.9858 - val_loss: 0.5825 - val_accuracy: 0.7243\n",
      "Epoch 73/100\n",
      "920/920 - 3s - loss: 0.0188 - accuracy: 0.9851 - val_loss: 0.6370 - val_accuracy: 0.7152\n",
      "Epoch 74/100\n",
      "920/920 - 3s - loss: 0.0245 - accuracy: 0.9830 - val_loss: 0.4784 - val_accuracy: 0.7204\n",
      "Epoch 75/100\n",
      "920/920 - 3s - loss: 0.0186 - accuracy: 0.9859 - val_loss: 0.6538 - val_accuracy: 0.7235\n",
      "Epoch 76/100\n",
      "920/920 - 3s - loss: 0.0109 - accuracy: 0.9925 - val_loss: 0.6797 - val_accuracy: 0.7122\n",
      "Epoch 77/100\n",
      "920/920 - 3s - loss: 0.0168 - accuracy: 0.9880 - val_loss: 0.6003 - val_accuracy: 0.7178\n",
      "Epoch 78/100\n",
      "920/920 - 3s - loss: 0.0172 - accuracy: 0.9853 - val_loss: 0.5435 - val_accuracy: 0.7287\n",
      "Epoch 79/100\n",
      "920/920 - 3s - loss: 0.0234 - accuracy: 0.9826 - val_loss: 0.5480 - val_accuracy: 0.7261\n",
      "Epoch 80/100\n",
      "920/920 - 2s - loss: 0.0151 - accuracy: 0.9890 - val_loss: 0.5941 - val_accuracy: 0.7165\n",
      "Epoch 81/100\n",
      "920/920 - 2s - loss: 0.0126 - accuracy: 0.9900 - val_loss: 0.6351 - val_accuracy: 0.7187\n",
      "Epoch 82/100\n",
      "920/920 - 2s - loss: 0.0174 - accuracy: 0.9862 - val_loss: 0.6461 - val_accuracy: 0.7265\n",
      "Epoch 83/100\n",
      "920/920 - 3s - loss: 0.0172 - accuracy: 0.9868 - val_loss: 0.5866 - val_accuracy: 0.7157\n",
      "Epoch 84/100\n",
      "920/920 - 3s - loss: 0.0136 - accuracy: 0.9908 - val_loss: 0.6167 - val_accuracy: 0.7361\n",
      "Epoch 85/100\n",
      "920/920 - 3s - loss: 0.0244 - accuracy: 0.9825 - val_loss: 0.6355 - val_accuracy: 0.7296\n",
      "Epoch 86/100\n",
      "920/920 - 2s - loss: 0.0148 - accuracy: 0.9905 - val_loss: 0.5847 - val_accuracy: 0.7148\n",
      "Epoch 87/100\n",
      "920/920 - 2s - loss: 0.0184 - accuracy: 0.9864 - val_loss: 0.5735 - val_accuracy: 0.7165\n",
      "Epoch 88/100\n",
      "920/920 - 2s - loss: 0.0155 - accuracy: 0.9892 - val_loss: 0.5732 - val_accuracy: 0.7339\n",
      "Epoch 89/100\n",
      "920/920 - 2s - loss: 0.0144 - accuracy: 0.9895 - val_loss: 0.7113 - val_accuracy: 0.7139\n",
      "Epoch 90/100\n",
      "920/920 - 2s - loss: 0.0129 - accuracy: 0.9904 - val_loss: 0.6647 - val_accuracy: 0.7252\n",
      "Epoch 91/100\n",
      "920/920 - 3s - loss: 0.0114 - accuracy: 0.9914 - val_loss: 0.6766 - val_accuracy: 0.7226\n",
      "Epoch 92/100\n",
      "920/920 - 2s - loss: 0.0178 - accuracy: 0.9863 - val_loss: 0.6152 - val_accuracy: 0.7222\n",
      "Epoch 93/100\n",
      "920/920 - 2s - loss: 0.0155 - accuracy: 0.9885 - val_loss: 0.6054 - val_accuracy: 0.7261\n",
      "Epoch 94/100\n",
      "920/920 - 3s - loss: 0.0193 - accuracy: 0.9858 - val_loss: 0.6354 - val_accuracy: 0.7148\n",
      "Epoch 95/100\n",
      "920/920 - 3s - loss: 0.0141 - accuracy: 0.9903 - val_loss: 0.6664 - val_accuracy: 0.7257\n",
      "Epoch 96/100\n",
      "920/920 - 2s - loss: 0.0105 - accuracy: 0.9932 - val_loss: 0.5963 - val_accuracy: 0.7265\n",
      "Epoch 97/100\n",
      "920/920 - 2s - loss: 0.0186 - accuracy: 0.9865 - val_loss: 0.5982 - val_accuracy: 0.7243\n",
      "Epoch 98/100\n",
      "920/920 - 2s - loss: 0.0149 - accuracy: 0.9895 - val_loss: 0.5549 - val_accuracy: 0.7278\n",
      "Epoch 99/100\n",
      "920/920 - 2s - loss: 0.0150 - accuracy: 0.9892 - val_loss: 0.5806 - val_accuracy: 0.7335\n",
      "Epoch 100/100\n",
      "920/920 - 3s - loss: 0.0123 - accuracy: 0.9900 - val_loss: 0.6994 - val_accuracy: 0.7230\n"
     ]
    }
   ],
   "source": [
    "#fiting model\n",
    "history = model.fit(X,Y,10,100,verbose=2,validation_data=(XT,YT))"
   ]
  },
  {
   "cell_type": "code",
   "execution_count": 58,
   "metadata": {},
   "outputs": [],
   "source": [
    "#predicting model\n",
    "ypred=model.predict(XT)\n"
   ]
  },
  {
   "cell_type": "code",
   "execution_count": 59,
   "metadata": {},
   "outputs": [],
   "source": [
    "#Sepearting classes in Y test\n",
    "yp=np.zeros((YT.shape[0]))\n",
    "yo=np.ones((YT.shape[0]))"
   ]
  },
  {
   "cell_type": "code",
   "execution_count": 60,
   "metadata": {},
   "outputs": [],
   "source": [
    "for i in range(Y_test.shape[0]):\n",
    "    yp[i]=np.argmax(ypred[i])+1\n",
    "    yo[i]=np.argmax(Y_test[i])"
   ]
  },
  {
   "cell_type": "code",
   "execution_count": 61,
   "metadata": {},
   "outputs": [
    {
     "data": {
      "text/plain": [
       "array([1., 2., 3., 4., 5.])"
      ]
     },
     "execution_count": 61,
     "metadata": {},
     "output_type": "execute_result"
    }
   ],
   "source": [
    "np.unique(yo)"
   ]
  },
  {
   "cell_type": "code",
   "execution_count": 62,
   "metadata": {},
   "outputs": [],
   "source": [
    "\n",
    "#conversion of classes\n",
    "for i in range(Y_test.shape[0]):\n",
    "    if yo[i]!=1:\n",
    "        yo[i]=0\n",
    "    if yp[i]!=1:\n",
    "        yp[i]=0"
   ]
  },
  {
   "cell_type": "code",
   "execution_count": 24,
   "metadata": {},
   "outputs": [],
   "source": [
    "\n",
    "\n",
    "# demonstration of calculating metrics for a neural network model using sklearn\n",
    "from sklearn.datasets import make_circles\n",
    "from sklearn.metrics import accuracy_score\n",
    "from sklearn.metrics import precision_score\n",
    "from sklearn.metrics import recall_score\n",
    "from sklearn.metrics import f1_score\n",
    "from sklearn.metrics import cohen_kappa_score\n",
    "from sklearn.metrics import roc_auc_score\n",
    "from sklearn.metrics import confusion_matrix\n"
   ]
  },
  {
   "cell_type": "code",
   "execution_count": 27,
   "metadata": {},
   "outputs": [
    {
     "data": {
      "text/plain": [
       "(2300,)"
      ]
     },
     "execution_count": 27,
     "metadata": {},
     "output_type": "execute_result"
    }
   ],
   "source": [
    "np.shape(yhat_classes)"
   ]
  },
  {
   "cell_type": "code",
   "execution_count": 63,
   "metadata": {},
   "outputs": [
    {
     "data": {
      "text/plain": [
       "0.9686956521739131"
      ]
     },
     "execution_count": 63,
     "metadata": {},
     "output_type": "execute_result"
    }
   ],
   "source": [
    "accuracy_score(yo,yp)"
   ]
  },
  {
   "cell_type": "code",
   "execution_count": 64,
   "metadata": {},
   "outputs": [
    {
     "name": "stdout",
     "output_type": "stream",
     "text": [
      "Accuracy: 0.968696\n",
      "Precision: 0.987245\n",
      "Recall: 0.852423\n",
      "F1 score: 0.914894\n"
     ]
    }
   ],
   "source": [
    "\n",
    "# accuracy: (tp + tn) / (p + n)\n",
    "accuracy = accuracy_score(yo, yp)\n",
    "print('Accuracy: %f' % accuracy)\n",
    "# precision tp / (tp + fp)\n",
    "precision = precision_score(yo, yp)\n",
    "print('Precision: %f' % precision)\n",
    "# recall: tp / (tp + fn)\n",
    "recall = recall_score(yo, yp)\n",
    "print('Recall: %f' % recall)\n",
    "# f1: 2 tp / (2 tp + fp + fn)\n",
    "f1 = f1_score(yo, yp)\n",
    "print('F1 score: %f' % f1)"
   ]
  },
  {
   "cell_type": "code",
   "execution_count": 64,
   "metadata": {},
   "outputs": [],
   "source": [
    "train_acc = model.evaluate(X, Y, verbose=0)\n",
    "_, test_acc = model.evaluate(XT, YT, verbose=0)"
   ]
  },
  {
   "cell_type": "code",
   "execution_count": 62,
   "metadata": {},
   "outputs": [
    {
     "data": {
      "text/plain": [
       "(0.6433719396591187, 0.7204347848892212)"
      ]
     },
     "execution_count": 62,
     "metadata": {},
     "output_type": "execute_result"
    }
   ],
   "source": [
    "_, test_acc"
   ]
  },
  {
   "cell_type": "code",
   "execution_count": 65,
   "metadata": {},
   "outputs": [
    {
     "data": {
      "image/png": "[encoded data removed]",
      "text/plain": [
       "<Figure size 432x288 with 2 Axes>"
      ]
     },
     "metadata": {
      "needs_background": "light"
     },
     "output_type": "display_data"
    }
   ],
   "source": [
    "#accuracy loss graph\n",
    "from matplotlib import pyplot\n",
    "pyplot.subplot(211)\n",
    "pyplot.title('Loss')\n",
    "pyplot.plot(history.history['loss'], label='train')\n",
    "pyplot.plot(history.history['val_loss'], label='test')\n",
    "pyplot.legend()\n",
    "# plot accuracy during training\n",
    "pyplot.subplot(212)\n",
    "pyplot.title('Accuracy')\n",
    "pyplot.plot(history.history['accuracy'], label='train')\n",
    "pyplot.plot(history.history['val_accuracy'], label='test')\n",
    "pyplot.legend()\n",
    "pyplot.show()"
   ]
  },
  {
   "cell_type": "markdown",
   "metadata": {},
   "source": [
    "## BONN DataSet"
   ]
  },
  {
   "cell_type": "code",
   "execution_count": 165,
   "metadata": {},
   "outputs": [
    {
     "data": {
      "text/html": [
       "<div>\n",
       "<style scoped>\n",
       "    .dataframe tbody tr th:only-of-type {\n",
       "        vertical-align: middle;\n",
       "    }\n",
       "\n",
       "    .dataframe tbody tr th {\n",
       "        vertical-align: top;\n",
       "    }\n",
       "\n",
       "    .dataframe thead th {\n",
       "        text-align: right;\n",
       "    }\n",
       "</style>\n",
       "<table border=\"1\" class=\"dataframe\">\n",
       "  <thead>\n",
       "    <tr style=\"text-align: right;\">\n",
       "      <th></th>\n",
       "      <th>Unnamed: 0</th>\n",
       "      <th>f1</th>\n",
       "      <th>f2</th>\n",
       "      <th>f3</th>\n",
       "      <th>f4</th>\n",
       "      <th>f5</th>\n",
       "      <th>class</th>\n",
       "    </tr>\n",
       "  </thead>\n",
       "  <tbody>\n",
       "    <tr>\n",
       "      <th>0</th>\n",
       "      <td>0</td>\n",
       "      <td>0.887621</td>\n",
       "      <td>0.185875</td>\n",
       "      <td>2.299474</td>\n",
       "      <td>2.299474</td>\n",
       "      <td>0.581396</td>\n",
       "      <td>healthy</td>\n",
       "    </tr>\n",
       "    <tr>\n",
       "      <th>1</th>\n",
       "      <td>1</td>\n",
       "      <td>0.783744</td>\n",
       "      <td>0.163794</td>\n",
       "      <td>2.299480</td>\n",
       "      <td>2.299480</td>\n",
       "      <td>0.588340</td>\n",
       "      <td>healthy</td>\n",
       "    </tr>\n",
       "    <tr>\n",
       "      <th>2</th>\n",
       "      <td>2</td>\n",
       "      <td>0.875873</td>\n",
       "      <td>0.154714</td>\n",
       "      <td>2.299477</td>\n",
       "      <td>2.299477</td>\n",
       "      <td>0.589802</td>\n",
       "      <td>healthy</td>\n",
       "    </tr>\n",
       "    <tr>\n",
       "      <th>3</th>\n",
       "      <td>3</td>\n",
       "      <td>0.881293</td>\n",
       "      <td>0.138396</td>\n",
       "      <td>2.299481</td>\n",
       "      <td>2.299481</td>\n",
       "      <td>0.592911</td>\n",
       "      <td>healthy</td>\n",
       "    </tr>\n",
       "    <tr>\n",
       "      <th>4</th>\n",
       "      <td>4</td>\n",
       "      <td>0.798116</td>\n",
       "      <td>0.125291</td>\n",
       "      <td>2.299481</td>\n",
       "      <td>2.299481</td>\n",
       "      <td>0.595338</td>\n",
       "      <td>healthy</td>\n",
       "    </tr>\n",
       "    <tr>\n",
       "      <th>...</th>\n",
       "      <td>...</td>\n",
       "      <td>...</td>\n",
       "      <td>...</td>\n",
       "      <td>...</td>\n",
       "      <td>...</td>\n",
       "      <td>...</td>\n",
       "      <td>...</td>\n",
       "    </tr>\n",
       "    <tr>\n",
       "      <th>295</th>\n",
       "      <td>295</td>\n",
       "      <td>0.424106</td>\n",
       "      <td>0.092797</td>\n",
       "      <td>2.301373</td>\n",
       "      <td>2.301373</td>\n",
       "      <td>0.604564</td>\n",
       "      <td>seizure</td>\n",
       "    </tr>\n",
       "    <tr>\n",
       "      <th>296</th>\n",
       "      <td>296</td>\n",
       "      <td>0.101266</td>\n",
       "      <td>0.053133</td>\n",
       "      <td>2.301376</td>\n",
       "      <td>2.301376</td>\n",
       "      <td>0.637104</td>\n",
       "      <td>seizure</td>\n",
       "    </tr>\n",
       "    <tr>\n",
       "      <th>297</th>\n",
       "      <td>297</td>\n",
       "      <td>0.121906</td>\n",
       "      <td>0.089653</td>\n",
       "      <td>2.301379</td>\n",
       "      <td>2.301379</td>\n",
       "      <td>0.606438</td>\n",
       "      <td>seizure</td>\n",
       "    </tr>\n",
       "    <tr>\n",
       "      <th>298</th>\n",
       "      <td>298</td>\n",
       "      <td>0.341561</td>\n",
       "      <td>0.126592</td>\n",
       "      <td>2.301372</td>\n",
       "      <td>2.301372</td>\n",
       "      <td>0.600381</td>\n",
       "      <td>seizure</td>\n",
       "    </tr>\n",
       "    <tr>\n",
       "      <th>299</th>\n",
       "      <td>299</td>\n",
       "      <td>0.259393</td>\n",
       "      <td>0.096914</td>\n",
       "      <td>2.301380</td>\n",
       "      <td>2.301380</td>\n",
       "      <td>0.599704</td>\n",
       "      <td>seizure</td>\n",
       "    </tr>\n",
       "  </tbody>\n",
       "</table>\n",
       "<p>300 rows × 7 columns</p>\n",
       "</div>"
      ],
      "text/plain": [
       "     Unnamed: 0        f1        f2        f3        f4        f5    class\n",
       "0             0  0.887621  0.185875  2.299474  2.299474  0.581396  healthy\n",
       "1             1  0.783744  0.163794  2.299480  2.299480  0.588340  healthy\n",
       "2             2  0.875873  0.154714  2.299477  2.299477  0.589802  healthy\n",
       "3             3  0.881293  0.138396  2.299481  2.299481  0.592911  healthy\n",
       "4             4  0.798116  0.125291  2.299481  2.299481  0.595338  healthy\n",
       "..          ...       ...       ...       ...       ...       ...      ...\n",
       "295         295  0.424106  0.092797  2.301373  2.301373  0.604564  seizure\n",
       "296         296  0.101266  0.053133  2.301376  2.301376  0.637104  seizure\n",
       "297         297  0.121906  0.089653  2.301379  2.301379  0.606438  seizure\n",
       "298         298  0.341561  0.126592  2.301372  2.301372  0.600381  seizure\n",
       "299         299  0.259393  0.096914  2.301380  2.301380  0.599704  seizure\n",
       "\n",
       "[300 rows x 7 columns]"
      ]
     },
     "execution_count": 165,
     "metadata": {},
     "output_type": "execute_result"
    }
   ],
   "source": [
    "df=pd.read_csv('boston.csv')\n",
    "df"
   ]
  },
  {
   "cell_type": "code",
   "execution_count": 176,
   "metadata": {},
   "outputs": [
    {
     "data": {
      "text/html": [
       "<div>\n",
       "<style scoped>\n",
       "    .dataframe tbody tr th:only-of-type {\n",
       "        vertical-align: middle;\n",
       "    }\n",
       "\n",
       "    .dataframe tbody tr th {\n",
       "        vertical-align: top;\n",
       "    }\n",
       "\n",
       "    .dataframe thead th {\n",
       "        text-align: right;\n",
       "    }\n",
       "</style>\n",
       "<table border=\"1\" class=\"dataframe\">\n",
       "  <thead>\n",
       "    <tr style=\"text-align: right;\">\n",
       "      <th></th>\n",
       "      <th>Unnamed: 0</th>\n",
       "      <th>f1</th>\n",
       "      <th>f2</th>\n",
       "      <th>f3</th>\n",
       "      <th>f4</th>\n",
       "      <th>f5</th>\n",
       "      <th>y</th>\n",
       "    </tr>\n",
       "  </thead>\n",
       "  <tbody>\n",
       "    <tr>\n",
       "      <th>0</th>\n",
       "      <td>0</td>\n",
       "      <td>0.887621</td>\n",
       "      <td>0.185875</td>\n",
       "      <td>2.299474</td>\n",
       "      <td>2.299474</td>\n",
       "      <td>0.581396</td>\n",
       "      <td>healthy</td>\n",
       "    </tr>\n",
       "    <tr>\n",
       "      <th>1</th>\n",
       "      <td>1</td>\n",
       "      <td>0.783744</td>\n",
       "      <td>0.163794</td>\n",
       "      <td>2.299480</td>\n",
       "      <td>2.299480</td>\n",
       "      <td>0.588340</td>\n",
       "      <td>healthy</td>\n",
       "    </tr>\n",
       "    <tr>\n",
       "      <th>2</th>\n",
       "      <td>2</td>\n",
       "      <td>0.875873</td>\n",
       "      <td>0.154714</td>\n",
       "      <td>2.299477</td>\n",
       "      <td>2.299477</td>\n",
       "      <td>0.589802</td>\n",
       "      <td>healthy</td>\n",
       "    </tr>\n",
       "    <tr>\n",
       "      <th>3</th>\n",
       "      <td>3</td>\n",
       "      <td>0.881293</td>\n",
       "      <td>0.138396</td>\n",
       "      <td>2.299481</td>\n",
       "      <td>2.299481</td>\n",
       "      <td>0.592911</td>\n",
       "      <td>healthy</td>\n",
       "    </tr>\n",
       "    <tr>\n",
       "      <th>4</th>\n",
       "      <td>4</td>\n",
       "      <td>0.798116</td>\n",
       "      <td>0.125291</td>\n",
       "      <td>2.299481</td>\n",
       "      <td>2.299481</td>\n",
       "      <td>0.595338</td>\n",
       "      <td>healthy</td>\n",
       "    </tr>\n",
       "    <tr>\n",
       "      <th>...</th>\n",
       "      <td>...</td>\n",
       "      <td>...</td>\n",
       "      <td>...</td>\n",
       "      <td>...</td>\n",
       "      <td>...</td>\n",
       "      <td>...</td>\n",
       "      <td>...</td>\n",
       "    </tr>\n",
       "    <tr>\n",
       "      <th>295</th>\n",
       "      <td>295</td>\n",
       "      <td>0.424106</td>\n",
       "      <td>0.092797</td>\n",
       "      <td>2.301373</td>\n",
       "      <td>2.301373</td>\n",
       "      <td>0.604564</td>\n",
       "      <td>seizure</td>\n",
       "    </tr>\n",
       "    <tr>\n",
       "      <th>296</th>\n",
       "      <td>296</td>\n",
       "      <td>0.101266</td>\n",
       "      <td>0.053133</td>\n",
       "      <td>2.301376</td>\n",
       "      <td>2.301376</td>\n",
       "      <td>0.637104</td>\n",
       "      <td>seizure</td>\n",
       "    </tr>\n",
       "    <tr>\n",
       "      <th>297</th>\n",
       "      <td>297</td>\n",
       "      <td>0.121906</td>\n",
       "      <td>0.089653</td>\n",
       "      <td>2.301379</td>\n",
       "      <td>2.301379</td>\n",
       "      <td>0.606438</td>\n",
       "      <td>seizure</td>\n",
       "    </tr>\n",
       "    <tr>\n",
       "      <th>298</th>\n",
       "      <td>298</td>\n",
       "      <td>0.341561</td>\n",
       "      <td>0.126592</td>\n",
       "      <td>2.301372</td>\n",
       "      <td>2.301372</td>\n",
       "      <td>0.600381</td>\n",
       "      <td>seizure</td>\n",
       "    </tr>\n",
       "    <tr>\n",
       "      <th>299</th>\n",
       "      <td>299</td>\n",
       "      <td>0.259393</td>\n",
       "      <td>0.096914</td>\n",
       "      <td>2.301380</td>\n",
       "      <td>2.301380</td>\n",
       "      <td>0.599704</td>\n",
       "      <td>seizure</td>\n",
       "    </tr>\n",
       "  </tbody>\n",
       "</table>\n",
       "<p>300 rows × 7 columns</p>\n",
       "</div>"
      ],
      "text/plain": [
       "     Unnamed: 0        f1        f2        f3        f4        f5        y\n",
       "0             0  0.887621  0.185875  2.299474  2.299474  0.581396  healthy\n",
       "1             1  0.783744  0.163794  2.299480  2.299480  0.588340  healthy\n",
       "2             2  0.875873  0.154714  2.299477  2.299477  0.589802  healthy\n",
       "3             3  0.881293  0.138396  2.299481  2.299481  0.592911  healthy\n",
       "4             4  0.798116  0.125291  2.299481  2.299481  0.595338  healthy\n",
       "..          ...       ...       ...       ...       ...       ...      ...\n",
       "295         295  0.424106  0.092797  2.301373  2.301373  0.604564  seizure\n",
       "296         296  0.101266  0.053133  2.301376  2.301376  0.637104  seizure\n",
       "297         297  0.121906  0.089653  2.301379  2.301379  0.606438  seizure\n",
       "298         298  0.341561  0.126592  2.301372  2.301372  0.600381  seizure\n",
       "299         299  0.259393  0.096914  2.301380  2.301380  0.599704  seizure\n",
       "\n",
       "[300 rows x 7 columns]"
      ]
     },
     "execution_count": 176,
     "metadata": {},
     "output_type": "execute_result"
    }
   ],
   "source": [
    "df2 = df.rename({'class': 'y'}, axis=1)\n",
    "df2"
   ]
  },
  {
   "cell_type": "code",
   "execution_count": 177,
   "metadata": {},
   "outputs": [
    {
     "data": {
      "text/html": [
       "<div>\n",
       "<style scoped>\n",
       "    .dataframe tbody tr th:only-of-type {\n",
       "        vertical-align: middle;\n",
       "    }\n",
       "\n",
       "    .dataframe tbody tr th {\n",
       "        vertical-align: top;\n",
       "    }\n",
       "\n",
       "    .dataframe thead th {\n",
       "        text-align: right;\n",
       "    }\n",
       "</style>\n",
       "<table border=\"1\" class=\"dataframe\">\n",
       "  <thead>\n",
       "    <tr style=\"text-align: right;\">\n",
       "      <th></th>\n",
       "      <th>Unnamed: 0</th>\n",
       "      <th>f1</th>\n",
       "      <th>f2</th>\n",
       "      <th>f3</th>\n",
       "      <th>f4</th>\n",
       "      <th>f5</th>\n",
       "      <th>y</th>\n",
       "    </tr>\n",
       "  </thead>\n",
       "  <tbody>\n",
       "    <tr>\n",
       "      <th>0</th>\n",
       "      <td>0</td>\n",
       "      <td>0.887621</td>\n",
       "      <td>0.185875</td>\n",
       "      <td>2.299474</td>\n",
       "      <td>2.299474</td>\n",
       "      <td>0.581396</td>\n",
       "      <td>0</td>\n",
       "    </tr>\n",
       "    <tr>\n",
       "      <th>1</th>\n",
       "      <td>1</td>\n",
       "      <td>0.783744</td>\n",
       "      <td>0.163794</td>\n",
       "      <td>2.299480</td>\n",
       "      <td>2.299480</td>\n",
       "      <td>0.588340</td>\n",
       "      <td>0</td>\n",
       "    </tr>\n",
       "    <tr>\n",
       "      <th>2</th>\n",
       "      <td>2</td>\n",
       "      <td>0.875873</td>\n",
       "      <td>0.154714</td>\n",
       "      <td>2.299477</td>\n",
       "      <td>2.299477</td>\n",
       "      <td>0.589802</td>\n",
       "      <td>0</td>\n",
       "    </tr>\n",
       "    <tr>\n",
       "      <th>3</th>\n",
       "      <td>3</td>\n",
       "      <td>0.881293</td>\n",
       "      <td>0.138396</td>\n",
       "      <td>2.299481</td>\n",
       "      <td>2.299481</td>\n",
       "      <td>0.592911</td>\n",
       "      <td>0</td>\n",
       "    </tr>\n",
       "    <tr>\n",
       "      <th>4</th>\n",
       "      <td>4</td>\n",
       "      <td>0.798116</td>\n",
       "      <td>0.125291</td>\n",
       "      <td>2.299481</td>\n",
       "      <td>2.299481</td>\n",
       "      <td>0.595338</td>\n",
       "      <td>0</td>\n",
       "    </tr>\n",
       "    <tr>\n",
       "      <th>...</th>\n",
       "      <td>...</td>\n",
       "      <td>...</td>\n",
       "      <td>...</td>\n",
       "      <td>...</td>\n",
       "      <td>...</td>\n",
       "      <td>...</td>\n",
       "      <td>...</td>\n",
       "    </tr>\n",
       "    <tr>\n",
       "      <th>295</th>\n",
       "      <td>295</td>\n",
       "      <td>0.424106</td>\n",
       "      <td>0.092797</td>\n",
       "      <td>2.301373</td>\n",
       "      <td>2.301373</td>\n",
       "      <td>0.604564</td>\n",
       "      <td>1</td>\n",
       "    </tr>\n",
       "    <tr>\n",
       "      <th>296</th>\n",
       "      <td>296</td>\n",
       "      <td>0.101266</td>\n",
       "      <td>0.053133</td>\n",
       "      <td>2.301376</td>\n",
       "      <td>2.301376</td>\n",
       "      <td>0.637104</td>\n",
       "      <td>1</td>\n",
       "    </tr>\n",
       "    <tr>\n",
       "      <th>297</th>\n",
       "      <td>297</td>\n",
       "      <td>0.121906</td>\n",
       "      <td>0.089653</td>\n",
       "      <td>2.301379</td>\n",
       "      <td>2.301379</td>\n",
       "      <td>0.606438</td>\n",
       "      <td>1</td>\n",
       "    </tr>\n",
       "    <tr>\n",
       "      <th>298</th>\n",
       "      <td>298</td>\n",
       "      <td>0.341561</td>\n",
       "      <td>0.126592</td>\n",
       "      <td>2.301372</td>\n",
       "      <td>2.301372</td>\n",
       "      <td>0.600381</td>\n",
       "      <td>1</td>\n",
       "    </tr>\n",
       "    <tr>\n",
       "      <th>299</th>\n",
       "      <td>299</td>\n",
       "      <td>0.259393</td>\n",
       "      <td>0.096914</td>\n",
       "      <td>2.301380</td>\n",
       "      <td>2.301380</td>\n",
       "      <td>0.599704</td>\n",
       "      <td>1</td>\n",
       "    </tr>\n",
       "  </tbody>\n",
       "</table>\n",
       "<p>300 rows × 7 columns</p>\n",
       "</div>"
      ],
      "text/plain": [
       "     Unnamed: 0        f1        f2        f3        f4        f5  y\n",
       "0             0  0.887621  0.185875  2.299474  2.299474  0.581396  0\n",
       "1             1  0.783744  0.163794  2.299480  2.299480  0.588340  0\n",
       "2             2  0.875873  0.154714  2.299477  2.299477  0.589802  0\n",
       "3             3  0.881293  0.138396  2.299481  2.299481  0.592911  0\n",
       "4             4  0.798116  0.125291  2.299481  2.299481  0.595338  0\n",
       "..          ...       ...       ...       ...       ...       ... ..\n",
       "295         295  0.424106  0.092797  2.301373  2.301373  0.604564  1\n",
       "296         296  0.101266  0.053133  2.301376  2.301376  0.637104  1\n",
       "297         297  0.121906  0.089653  2.301379  2.301379  0.606438  1\n",
       "298         298  0.341561  0.126592  2.301372  2.301372  0.600381  1\n",
       "299         299  0.259393  0.096914  2.301380  2.301380  0.599704  1\n",
       "\n",
       "[300 rows x 7 columns]"
      ]
     },
     "execution_count": 177,
     "metadata": {},
     "output_type": "execute_result"
    }
   ],
   "source": [
    "df2['y'] = df2.y.map({'healthy': 0, 'seizure': 1, 'transation': 2})\n",
    "df2\n"
   ]
  },
  {
   "cell_type": "code",
   "execution_count": 178,
   "metadata": {},
   "outputs": [],
   "source": [
    "X=df2.values\n"
   ]
  },
  {
   "cell_type": "code",
   "execution_count": 179,
   "metadata": {},
   "outputs": [
    {
     "data": {
      "text/plain": [
       "array([[0.8876206 , 0.18587486, 2.29947393, 2.29947393, 0.58139559],\n",
       "       [0.78374388, 0.16379436, 2.29947989, 2.29947989, 0.58834032],\n",
       "       [0.87587262, 0.15471405, 2.29947693, 2.29947693, 0.58980158],\n",
       "       ...,\n",
       "       [0.12190591, 0.08965272, 2.30137916, 2.30137916, 0.60643813],\n",
       "       [0.34156111, 0.12659211, 2.30137162, 2.30137162, 0.60038083],\n",
       "       [0.25939333, 0.09691405, 2.3013799 , 2.3013799 , 0.59970394]])"
      ]
     },
     "execution_count": 179,
     "metadata": {},
     "output_type": "execute_result"
    }
   ],
   "source": [
    "X=X[:,1:-1]\n",
    "X\n"
   ]
  },
  {
   "cell_type": "code",
   "execution_count": 180,
   "metadata": {},
   "outputs": [
    {
     "data": {
      "text/plain": [
       "(300, 3)"
      ]
     },
     "execution_count": 180,
     "metadata": {},
     "output_type": "execute_result"
    }
   ],
   "source": [
    "y=np.array(df2['y'])\n",
    "Y=np_utils.to_categorical(y)\n",
    "Y.shape\n"
   ]
  },
  {
   "cell_type": "code",
   "execution_count": 181,
   "metadata": {},
   "outputs": [],
   "source": [
    "X_train, X_test, Y_train, Y_test = train_test_split(X, Y, test_size=0.30, random_state=1)"
   ]
  },
  {
   "cell_type": "code",
   "execution_count": 172,
   "metadata": {},
   "outputs": [
    {
     "data": {
      "text/plain": [
       "(240,)"
      ]
     },
     "execution_count": 172,
     "metadata": {},
     "output_type": "execute_result"
    }
   ],
   "source": [
    "np.shape(Y_train)"
   ]
  },
  {
   "cell_type": "code",
   "execution_count": 182,
   "metadata": {},
   "outputs": [],
   "source": [
    "X=(X_train-X_train.mean())/X_train.std()\n",
    "X=np.asarray(X).astype(np.float32)\n",
    "Y=Y_train[:,1:]\n",
    "Y=np.asarray(Y).astype(np.float32)"
   ]
  },
  {
   "cell_type": "code",
   "execution_count": 183,
   "metadata": {},
   "outputs": [],
   "source": [
    "XT=(X_test-X_test.mean())/X_test.std()\n",
    "XT=np.asarray(XT).astype(np.float32)\n",
    "YT=Y_test[:,1:]\n",
    "YT=np.asarray(YT).astype(np.float32)"
   ]
  },
  {
   "cell_type": "code",
   "execution_count": 184,
   "metadata": {},
   "outputs": [
    {
     "data": {
      "text/plain": [
       "(210, 5)"
      ]
     },
     "execution_count": 184,
     "metadata": {},
     "output_type": "execute_result"
    }
   ],
   "source": [
    "np.shape(X)"
   ]
  },
  {
   "cell_type": "code",
   "execution_count": 185,
   "metadata": {},
   "outputs": [
    {
     "data": {
      "text/plain": [
       "(90, 5)"
      ]
     },
     "execution_count": 185,
     "metadata": {},
     "output_type": "execute_result"
    }
   ],
   "source": [
    "np.shape(XT)"
   ]
  },
  {
   "cell_type": "code",
   "execution_count": 76,
   "metadata": {},
   "outputs": [
    {
     "data": {
      "text/plain": [
       "(2300, 5)"
      ]
     },
     "execution_count": 76,
     "metadata": {},
     "output_type": "execute_result"
    }
   ],
   "source": [
    "np.shape(YT)"
   ]
  },
  {
   "cell_type": "code",
   "execution_count": 186,
   "metadata": {},
   "outputs": [
    {
     "name": "stdout",
     "output_type": "stream",
     "text": [
      "Model: \"sequential_10\"\n",
      "_________________________________________________________________\n",
      "Layer (type)                 Output Shape              Param #   \n",
      "=================================================================\n",
      "dense_110 (Dense)            (None, 256)               1536      \n",
      "_________________________________________________________________\n",
      "activation_110 (Activation)  (None, 256)               0         \n",
      "_________________________________________________________________\n",
      "dense_111 (Dense)            (None, 128)               32896     \n",
      "_________________________________________________________________\n",
      "activation_111 (Activation)  (None, 128)               0         \n",
      "_________________________________________________________________\n",
      "dense_112 (Dense)            (None, 128)               16512     \n",
      "_________________________________________________________________\n",
      "activation_112 (Activation)  (None, 128)               0         \n",
      "_________________________________________________________________\n",
      "dense_113 (Dense)            (None, 64)                8256      \n",
      "_________________________________________________________________\n",
      "activation_113 (Activation)  (None, 64)                0         \n",
      "_________________________________________________________________\n",
      "dense_114 (Dense)            (None, 32)                2080      \n",
      "_________________________________________________________________\n",
      "activation_114 (Activation)  (None, 32)                0         \n",
      "_________________________________________________________________\n",
      "dense_115 (Dense)            (None, 32)                1056      \n",
      "_________________________________________________________________\n",
      "activation_115 (Activation)  (None, 32)                0         \n",
      "_________________________________________________________________\n",
      "dense_116 (Dense)            (None, 32)                1056      \n",
      "_________________________________________________________________\n",
      "activation_116 (Activation)  (None, 32)                0         \n",
      "_________________________________________________________________\n",
      "dense_117 (Dense)            (None, 16)                528       \n",
      "_________________________________________________________________\n",
      "activation_117 (Activation)  (None, 16)                0         \n",
      "_________________________________________________________________\n",
      "dense_118 (Dense)            (None, 16)                272       \n",
      "_________________________________________________________________\n",
      "activation_118 (Activation)  (None, 16)                0         \n",
      "_________________________________________________________________\n",
      "dense_119 (Dense)            (None, 8)                 136       \n",
      "_________________________________________________________________\n",
      "activation_119 (Activation)  (None, 8)                 0         \n",
      "_________________________________________________________________\n",
      "dense_120 (Dense)            (None, 2)                 18        \n",
      "_________________________________________________________________\n",
      "activation_120 (Activation)  (None, 2)                 0         \n",
      "=================================================================\n",
      "Total params: 64,346\n",
      "Trainable params: 64,346\n",
      "Non-trainable params: 0\n",
      "_________________________________________________________________\n"
     ]
    }
   ],
   "source": [
    "model=Sequential()\n",
    "\n",
    "\n",
    "model.add(Dense(256,input_shape=(5,)))\n",
    "model.add(Activation('relu'))\n",
    "model.add(Dense(128))\n",
    "model.add(Activation('relu'))\n",
    "model.add(Dense(128))\n",
    "model.add(Activation('relu'))\n",
    "model.add(Dense(64))\n",
    "model.add(Activation('relu'))\n",
    "model.add(Dense(32))\n",
    "model.add(Activation('relu'))\n",
    "model.add(Dense(32))\n",
    "model.add(Activation('relu'))\n",
    "model.add(Dense(32))\n",
    "model.add(Activation('relu'))\n",
    "model.add(Dense(16))\n",
    "model.add(Activation('relu'))\n",
    "model.add(Dense(16))\n",
    "model.add(Activation('relu'))\n",
    "model.add(Dense(8))\n",
    "model.add(Activation('relu'))\n",
    "model.add(Dense(2))\n",
    "model.add(Activation('softmax'))\n",
    "model.summary()"
   ]
  },
  {
   "cell_type": "code",
   "execution_count": 187,
   "metadata": {},
   "outputs": [],
   "source": [
    "model.compile(optimizer='adam',loss='binary_crossentropy',metrics=['accuracy'])"
   ]
  },
  {
   "cell_type": "code",
   "execution_count": 188,
   "metadata": {},
   "outputs": [
    {
     "name": "stdout",
     "output_type": "stream",
     "text": [
      "Epoch 1/50\n",
      "21/21 [==============================] - 0s 8ms/step - loss: 0.6924 - accuracy: 0.3952 - val_loss: 0.6871 - val_accuracy: 0.4556\n",
      "Epoch 2/50\n",
      "21/21 [==============================] - 0s 3ms/step - loss: 0.6833 - accuracy: 0.5000 - val_loss: 0.6580 - val_accuracy: 0.4889\n",
      "Epoch 3/50\n",
      "21/21 [==============================] - 0s 3ms/step - loss: 0.6623 - accuracy: 0.5762 - val_loss: 0.6130 - val_accuracy: 0.5889\n",
      "Epoch 4/50\n",
      "21/21 [==============================] - ETA: 0s - loss: 0.6341 - accuracy: 0.60 - 0s 3ms/step - loss: 0.6285 - accuracy: 0.6810 - val_loss: 0.6189 - val_accuracy: 0.8444\n",
      "Epoch 5/50\n",
      "21/21 [==============================] - 0s 3ms/step - loss: 0.6701 - accuracy: 0.7143 - val_loss: 0.6109 - val_accuracy: 0.5889\n",
      "Epoch 6/50\n",
      "21/21 [==============================] - 0s 3ms/step - loss: 0.6253 - accuracy: 0.7333 - val_loss: 0.5992 - val_accuracy: 0.6667\n",
      "Epoch 7/50\n",
      "21/21 [==============================] - 0s 3ms/step - loss: 0.6093 - accuracy: 0.7333 - val_loss: 0.5925 - val_accuracy: 0.7889\n",
      "Epoch 8/50\n",
      "21/21 [==============================] - 0s 3ms/step - loss: 0.6069 - accuracy: 0.7762 - val_loss: 0.5909 - val_accuracy: 0.8222\n",
      "Epoch 9/50\n",
      "21/21 [==============================] - 0s 3ms/step - loss: 0.6071 - accuracy: 0.7714 - val_loss: 0.5859 - val_accuracy: 0.8222\n",
      "Epoch 10/50\n",
      "21/21 [==============================] - 0s 3ms/step - loss: 0.6054 - accuracy: 0.7762 - val_loss: 0.5816 - val_accuracy: 0.7778\n",
      "Epoch 11/50\n",
      "21/21 [==============================] - 0s 3ms/step - loss: 0.6000 - accuracy: 0.7762 - val_loss: 0.5791 - val_accuracy: 0.7778\n",
      "Epoch 12/50\n",
      "21/21 [==============================] - 0s 3ms/step - loss: 0.5966 - accuracy: 0.7810 - val_loss: 0.5763 - val_accuracy: 0.7778\n",
      "Epoch 13/50\n",
      "21/21 [==============================] - 0s 3ms/step - loss: 0.5885 - accuracy: 0.7762 - val_loss: 0.5747 - val_accuracy: 0.7889\n",
      "Epoch 14/50\n",
      "21/21 [==============================] - 0s 3ms/step - loss: 0.5874 - accuracy: 0.7810 - val_loss: 0.5723 - val_accuracy: 0.8000\n",
      "Epoch 15/50\n",
      "21/21 [==============================] - 0s 3ms/step - loss: 0.5866 - accuracy: 0.7857 - val_loss: 0.5693 - val_accuracy: 0.7778\n",
      "Epoch 16/50\n",
      "21/21 [==============================] - 0s 3ms/step - loss: 0.5826 - accuracy: 0.7810 - val_loss: 0.5668 - val_accuracy: 0.7778\n",
      "Epoch 17/50\n",
      "21/21 [==============================] - 0s 3ms/step - loss: 0.5778 - accuracy: 0.7762 - val_loss: 0.5666 - val_accuracy: 0.8111\n",
      "Epoch 18/50\n",
      "21/21 [==============================] - 0s 3ms/step - loss: 0.5771 - accuracy: 0.7810 - val_loss: 0.5653 - val_accuracy: 0.8222\n",
      "Epoch 19/50\n",
      "21/21 [==============================] - 0s 3ms/step - loss: 0.5770 - accuracy: 0.7905 - val_loss: 0.5625 - val_accuracy: 0.8111\n",
      "Epoch 20/50\n",
      "21/21 [==============================] - 0s 3ms/step - loss: 0.5748 - accuracy: 0.7857 - val_loss: 0.5600 - val_accuracy: 0.8222\n",
      "Epoch 21/50\n",
      "21/21 [==============================] - 0s 3ms/step - loss: 0.5719 - accuracy: 0.7905 - val_loss: 0.5580 - val_accuracy: 0.8222\n",
      "Epoch 22/50\n",
      "21/21 [==============================] - 0s 3ms/step - loss: 0.5697 - accuracy: 0.7905 - val_loss: 0.5562 - val_accuracy: 0.8222\n",
      "Epoch 23/50\n",
      "21/21 [==============================] - 0s 3ms/step - loss: 0.5676 - accuracy: 0.7905 - val_loss: 0.5548 - val_accuracy: 0.8111\n",
      "Epoch 24/50\n",
      "21/21 [==============================] - 0s 3ms/step - loss: 0.5662 - accuracy: 0.7905 - val_loss: 0.5538 - val_accuracy: 0.8222\n",
      "Epoch 25/50\n",
      "21/21 [==============================] - 0s 3ms/step - loss: 0.5658 - accuracy: 0.7905 - val_loss: 0.5507 - val_accuracy: 0.8222\n",
      "Epoch 26/50\n",
      "21/21 [==============================] - 0s 3ms/step - loss: 0.5642 - accuracy: 0.7857 - val_loss: 0.5484 - val_accuracy: 0.8000\n",
      "Epoch 27/50\n",
      "21/21 [==============================] - 0s 3ms/step - loss: 0.5615 - accuracy: 0.7905 - val_loss: 0.5472 - val_accuracy: 0.8222\n",
      "Epoch 28/50\n",
      "21/21 [==============================] - 0s 3ms/step - loss: 0.5600 - accuracy: 0.7905 - val_loss: 0.5453 - val_accuracy: 0.8000\n",
      "Epoch 29/50\n",
      "21/21 [==============================] - 0s 3ms/step - loss: 0.5584 - accuracy: 0.7857 - val_loss: 0.5438 - val_accuracy: 0.7889\n",
      "Epoch 30/50\n",
      "21/21 [==============================] - 0s 3ms/step - loss: 0.5570 - accuracy: 0.7857 - val_loss: 0.5423 - val_accuracy: 0.7889\n",
      "Epoch 31/50\n",
      "21/21 [==============================] - 0s 3ms/step - loss: 0.5549 - accuracy: 0.7857 - val_loss: 0.5416 - val_accuracy: 0.8222\n",
      "Epoch 32/50\n",
      "21/21 [==============================] - 0s 3ms/step - loss: 0.5535 - accuracy: 0.7857 - val_loss: 0.5414 - val_accuracy: 0.8111\n",
      "Epoch 33/50\n",
      "21/21 [==============================] - 0s 3ms/step - loss: 0.5533 - accuracy: 0.7857 - val_loss: 0.5386 - val_accuracy: 0.7889\n",
      "Epoch 34/50\n",
      "21/21 [==============================] - 0s 3ms/step - loss: 0.5533 - accuracy: 0.7857 - val_loss: 0.5362 - val_accuracy: 0.7778\n",
      "Epoch 35/50\n",
      "21/21 [==============================] - 0s 3ms/step - loss: 0.5515 - accuracy: 0.7810 - val_loss: 0.5351 - val_accuracy: 0.7778\n",
      "Epoch 36/50\n",
      "21/21 [==============================] - 0s 3ms/step - loss: 0.5496 - accuracy: 0.7857 - val_loss: 0.5341 - val_accuracy: 0.7778\n",
      "Epoch 37/50\n",
      "21/21 [==============================] - 0s 3ms/step - loss: 0.5484 - accuracy: 0.7857 - val_loss: 0.5334 - val_accuracy: 0.7889\n",
      "Epoch 38/50\n",
      "21/21 [==============================] - 0s 3ms/step - loss: 0.5473 - accuracy: 0.7857 - val_loss: 0.5323 - val_accuracy: 0.7889\n",
      "Epoch 39/50\n",
      "21/21 [==============================] - ETA: 0s - loss: 0.5189 - accuracy: 1.00 - 0s 3ms/step - loss: 0.5468 - accuracy: 0.7857 - val_loss: 0.5311 - val_accuracy: 0.7889\n",
      "Epoch 40/50\n",
      "21/21 [==============================] - 0s 3ms/step - loss: 0.5460 - accuracy: 0.7857 - val_loss: 0.5300 - val_accuracy: 0.7778\n",
      "Epoch 41/50\n",
      "21/21 [==============================] - 0s 3ms/step - loss: 0.5452 - accuracy: 0.7857 - val_loss: 0.5280 - val_accuracy: 0.7778\n",
      "Epoch 42/50\n",
      "21/21 [==============================] - 0s 3ms/step - loss: 0.5438 - accuracy: 0.7810 - val_loss: 0.5274 - val_accuracy: 0.7778\n",
      "Epoch 43/50\n",
      "21/21 [==============================] - 0s 3ms/step - loss: 0.5435 - accuracy: 0.7810 - val_loss: 0.5263 - val_accuracy: 0.7778\n",
      "Epoch 44/50\n",
      "21/21 [==============================] - 0s 3ms/step - loss: 0.5426 - accuracy: 0.7810 - val_loss: 0.5250 - val_accuracy: 0.7778\n",
      "Epoch 45/50\n",
      "21/21 [==============================] - 0s 3ms/step - loss: 0.5417 - accuracy: 0.7810 - val_loss: 0.5240 - val_accuracy: 0.7778\n",
      "Epoch 46/50\n",
      "21/21 [==============================] - 0s 3ms/step - loss: 0.5401 - accuracy: 0.7905 - val_loss: 0.5234 - val_accuracy: 0.7778\n",
      "Epoch 47/50\n",
      "21/21 [==============================] - 0s 3ms/step - loss: 0.5380 - accuracy: 0.7905 - val_loss: 0.5238 - val_accuracy: 0.7889\n",
      "Epoch 48/50\n",
      "21/21 [==============================] - 0s 3ms/step - loss: 0.5377 - accuracy: 0.7905 - val_loss: 0.5223 - val_accuracy: 0.7778\n",
      "Epoch 49/50\n",
      "21/21 [==============================] - 0s 3ms/step - loss: 0.5368 - accuracy: 0.7857 - val_loss: 0.5233 - val_accuracy: 0.8000\n",
      "Epoch 50/50\n",
      "21/21 [==============================] - 0s 3ms/step - loss: 0.5367 - accuracy: 0.7857 - val_loss: 0.5209 - val_accuracy: 0.7778\n"
     ]
    }
   ],
   "source": [
    "hist1 = model.fit(X,Y,validation_data=(XT,YT),epochs = 50, batch_size=10,shuffle=False)\n"
   ]
  },
  {
   "cell_type": "code",
   "execution_count": 189,
   "metadata": {},
   "outputs": [],
   "source": [
    "ypred=model.predict(XT)\n",
    "yp=np.zeros((YT.shape[0]))\n",
    "yo=np.ones((YT.shape[0]))\n",
    "for i in range(Y_test.shape[0]):\n",
    "    yp[i]=np.argmax(ypred[i])+1\n",
    "    yo[i]=np.argmax(Y_test[i])"
   ]
  },
  {
   "cell_type": "code",
   "execution_count": 190,
   "metadata": {},
   "outputs": [
    {
     "data": {
      "text/plain": [
       "array([0., 1., 2.])"
      ]
     },
     "execution_count": 190,
     "metadata": {},
     "output_type": "execute_result"
    }
   ],
   "source": [
    "np.unique(yo)"
   ]
  },
  {
   "cell_type": "code",
   "execution_count": 191,
   "metadata": {},
   "outputs": [],
   "source": [
    "\n",
    "#conversion of classes\n",
    "for i in range(Y_test.shape[0]):\n",
    "    if yo[i]!=1:\n",
    "        yo[i]=0\n",
    "    if yp[i]!=1:\n",
    "        yp[i]=0"
   ]
  },
  {
   "cell_type": "code",
   "execution_count": 192,
   "metadata": {},
   "outputs": [
    {
     "name": "stdout",
     "output_type": "stream",
     "text": [
      "Accuracy: 0.755556\n",
      "Precision: 0.594595\n",
      "Recall: 0.758621\n"
     ]
    }
   ],
   "source": [
    "\n",
    "# accuracy: (tp + tn) / (p + n)\n",
    "accuracy = accuracy_score(yo, yp)\n",
    "print('Accuracy: %f' % accuracy)\n",
    "# precision tp / (tp + fp)\n",
    "precision = precision_score(yo, yp)\n",
    "print('Precision: %f' % precision)\n",
    "# recall: tp / (tp + fn)\n",
    "recall = recall_score(yo, yp)\n",
    "print('Recall: %f' % recall)\n",
    "# f1: 2 tp / (2 tp + fp + fn)\n",
    "f1 = f1_score(yo, yp)"
   ]
  },
  {
   "cell_type": "code",
   "execution_count": 193,
   "metadata": {},
   "outputs": [],
   "source": [
    "train_acc = model.evaluate(X, Y, verbose=0)\n",
    "_, test_acc = model.evaluate(XT, YT, verbose=0)"
   ]
  },
  {
   "cell_type": "code",
   "execution_count": 194,
   "metadata": {},
   "outputs": [
    {
     "data": {
      "image/png": "[encoded data removed]",
      "text/plain": [
       "<Figure size 432x288 with 2 Axes>"
      ]
     },
     "metadata": {
      "needs_background": "light"
     },
     "output_type": "display_data"
    }
   ],
   "source": [
    "from matplotlib import pyplot\n",
    "pyplot.subplot(211)\n",
    "pyplot.title('Loss')\n",
    "pyplot.plot(history.history['loss'], label='train')\n",
    "pyplot.plot(history.history['val_loss'], label='test')\n",
    "pyplot.legend()\n",
    "# plot accuracy during training\n",
    "pyplot.subplot(212)\n",
    "pyplot.title('Accuracy')\n",
    "pyplot.plot(history.history['accuracy'], label='train')\n",
    "pyplot.plot(history.history['val_accuracy'], label='test')\n",
    "pyplot.legend()\n",
    "pyplot.show()"
   ]
  },
  {
   "cell_type": "code",
   "execution_count": 140,
   "metadata": {},
   "outputs": [
    {
     "ename": "TypeError",
     "evalue": "only integer scalar arrays can be converted to a scalar index",
     "output_type": "error",
     "traceback": [
      "\u001b[1;31m---------------------------------------------------------------------------\u001b[0m",
      "\u001b[1;31mTypeError\u001b[0m                                 Traceback (most recent call last)",
      "\u001b[1;32m<ipython-input-140-67fa18584c4d>\u001b[0m in \u001b[0;36m<module>\u001b[1;34m\u001b[0m\n\u001b[1;32m----> 1\u001b[1;33m \u001b[1;32mfor\u001b[0m \u001b[0mi\u001b[0m \u001b[1;32min\u001b[0m \u001b[0mrange\u001b[0m\u001b[1;33m(\u001b[0m\u001b[0mY_test\u001b[0m\u001b[1;33m)\u001b[0m\u001b[1;33m:\u001b[0m\u001b[1;33m\u001b[0m\u001b[1;33m\u001b[0m\u001b[0m\n\u001b[0m\u001b[0;32m      2\u001b[0m     \u001b[0myp\u001b[0m\u001b[1;33m[\u001b[0m\u001b[0mi\u001b[0m\u001b[1;33m]\u001b[0m\u001b[1;33m=\u001b[0m\u001b[0mnp\u001b[0m\u001b[1;33m.\u001b[0m\u001b[0margmax\u001b[0m\u001b[1;33m(\u001b[0m\u001b[0mypred\u001b[0m\u001b[1;33m[\u001b[0m\u001b[0mi\u001b[0m\u001b[1;33m]\u001b[0m\u001b[1;33m)\u001b[0m\u001b[1;33m+\u001b[0m\u001b[1;36m1\u001b[0m\u001b[1;33m\u001b[0m\u001b[1;33m\u001b[0m\u001b[0m\n\u001b[0;32m      3\u001b[0m     \u001b[0myo\u001b[0m\u001b[1;33m[\u001b[0m\u001b[0mi\u001b[0m\u001b[1;33m]\u001b[0m\u001b[1;33m=\u001b[0m\u001b[0mnp\u001b[0m\u001b[1;33m.\u001b[0m\u001b[0margmax\u001b[0m\u001b[1;33m(\u001b[0m\u001b[0mY_test\u001b[0m\u001b[1;33m[\u001b[0m\u001b[0mi\u001b[0m\u001b[1;33m]\u001b[0m\u001b[1;33m)\u001b[0m\u001b[1;33m\u001b[0m\u001b[1;33m\u001b[0m\u001b[0m\n",
      "\u001b[1;31mTypeError\u001b[0m: only integer scalar arrays can be converted to a scalar index"
     ]
    }
   ],
   "source": [
    "pyplot.subplot(212)\n",
    "pyplot.title('Accuracy')\n",
    "pyplot.plot(hist1.history['val_accuracy'], label='boston_test')\n",
    "pyplot.plot(history.history['val_accuracy'], label='eeg_test')\n",
    "pyplot.legend()\n",
    "pyplot.show()"
   ]
  },
  {
   "cell_type": "code",
   "execution_count": 92,
   "metadata": {},
   "outputs": [
    {
     "data": {
      "image/png": "[encoded data removed]",
      "text/plain": [
       "<Figure size 432x288 with 1 Axes>"
      ]
     },
     "metadata": {
      "needs_background": "light"
     },
     "output_type": "display_data"
    }
   ],
   "source": [
    "pyplot.subplot(212)\n",
    "pyplot.title('Accuracy')\n",
    "pyplot.plot(hist.history['val_accuracy'], label='boston_test')\n",
    "pyplot.plot(history.history['val_accuracy'], label='eeg_test')\n",
    "pyplot.legend()\n",
    "pyplot.show()"
   ]
  },
  {
   "cell_type": "markdown",
   "metadata": {},
   "source": [
    "## CHB MIT DATASET"
   ]
  },
  {
   "cell_type": "code",
   "execution_count": 146,
   "metadata": {},
   "outputs": [
    {
     "name": "stdout",
     "output_type": "stream",
     "text": [
      "The number of samples for the non-seizure class is: 10000\n",
      "The number of samples for the seizure class is: 36\n"
     ]
    }
   ],
   "source": [
    "multiple_patients = True\n",
    "ID = False\n",
    "data = pd.read_csv(\"CHB_MIT.csv\")\n",
    "data = data.sample(n=10000)\n",
    "X = data.loc[:, data.columns != \"seizure\"]\n",
    "X = X.loc[:, X.columns != \"start_time\"]\n",
    "X = X.loc[:, X.columns != \"file ID\"]\n",
    "Y = np.asarray(data['seizure'])\n",
    "feature_names = X.columns.tolist()\n",
    "print('The number of samples for the non-seizure class is:', Y.shape[0])\n",
    "print('The number of samples for the seizure class is:', np.sum(Y))\n",
    "\n",
    "# if multiple patients, one-hot encode patient ID\n",
    "if multiple_patients:\n",
    "    X = X.loc[:, X.columns != \"subject\"] \n",
    "    if ID:\n",
    "        patient = pd.get_dummies(data['subject'], prefix='subject')\n",
    "        X = pd.concat([X, patient], axis = 1)"
   ]
  },
  {
   "cell_type": "code",
   "execution_count": 147,
   "metadata": {},
   "outputs": [
    {
     "data": {
      "text/plain": [
       "array([[3.36538612e-05, 1.13077610e-09, 1.60437679e+00, ...,\n",
       "        9.99873865e-02, 4.81060949e-02, 2.39557580e-02],\n",
       "       [5.72801479e-05, 3.28157872e-09, 5.35420619e+00, ...,\n",
       "        1.48856998e-01, 1.70253536e-01, 2.12398324e-01],\n",
       "       [1.51446600e-05, 2.29435225e-10, 1.81620130e+00, ...,\n",
       "        1.51301987e-01, 2.32017778e-01, 2.78027476e-01],\n",
       "       ...,\n",
       "       [3.40430631e-05, 1.15929321e-09, 2.56175584e+01, ...,\n",
       "        1.18277934e-01, 9.30480217e-02, 8.61704110e-02],\n",
       "       [2.90599491e-05, 8.12668763e-10, 4.91507710e+00, ...,\n",
       "        1.79557119e-01, 1.78113147e-01, 1.10264086e-01],\n",
       "       [1.38537201e-05, 1.91956198e-10, 1.97804896e+00, ...,\n",
       "        2.31986301e-01, 8.26050688e-02, 7.85151243e-02]])"
      ]
     },
     "execution_count": 147,
     "metadata": {},
     "output_type": "execute_result"
    }
   ],
   "source": [
    "X=X.values\n",
    "#X=X[:,1:]\n",
    "X"
   ]
  },
  {
   "cell_type": "code",
   "execution_count": 148,
   "metadata": {},
   "outputs": [
    {
     "data": {
      "text/plain": [
       "array([[1., 0.],\n",
       "       [1., 0.],\n",
       "       [1., 0.],\n",
       "       ...,\n",
       "       [1., 0.],\n",
       "       [1., 0.],\n",
       "       [1., 0.]], dtype=float32)"
      ]
     },
     "execution_count": 148,
     "metadata": {},
     "output_type": "execute_result"
    }
   ],
   "source": [
    "y=np.array(data['seizure'])\n",
    "Y=np_utils.to_categorical(y)\n",
    "Y"
   ]
  },
  {
   "cell_type": "code",
   "execution_count": 149,
   "metadata": {},
   "outputs": [
    {
     "data": {
      "text/plain": [
       "(800, 16)"
      ]
     },
     "execution_count": 149,
     "metadata": {},
     "output_type": "execute_result"
    }
   ],
   "source": [
    "np.shape(X_train)"
   ]
  },
  {
   "cell_type": "code",
   "execution_count": 150,
   "metadata": {},
   "outputs": [],
   "source": [
    "X_train, X_test, Y_train, Y_test = train_test_split(X, Y, test_size=0.20, random_state=1)"
   ]
  },
  {
   "cell_type": "code",
   "execution_count": 151,
   "metadata": {},
   "outputs": [
    {
     "data": {
      "text/plain": [
       "(8000, 506)"
      ]
     },
     "execution_count": 151,
     "metadata": {},
     "output_type": "execute_result"
    }
   ],
   "source": [
    "np.shape(X_train)"
   ]
  },
  {
   "cell_type": "code",
   "execution_count": 152,
   "metadata": {},
   "outputs": [
    {
     "data": {
      "text/plain": [
       "(10000, 2)"
      ]
     },
     "execution_count": 152,
     "metadata": {},
     "output_type": "execute_result"
    }
   ],
   "source": [
    "np.shape(Y)"
   ]
  },
  {
   "cell_type": "code",
   "execution_count": 153,
   "metadata": {},
   "outputs": [],
   "source": [
    "X=(X_train-X_train.mean())/X_train.std()\n",
    "X=np.asarray(X).astype(np.float32)"
   ]
  },
  {
   "cell_type": "code",
   "execution_count": 154,
   "metadata": {},
   "outputs": [],
   "source": [
    "XT=(X_test-X_test.mean())/X_test.std()\n",
    "XT=np.asarray(XT).astype(np.float32)"
   ]
  },
  {
   "cell_type": "code",
   "execution_count": null,
   "metadata": {},
   "outputs": [],
   "source": [
    "np"
   ]
  },
  {
   "cell_type": "code",
   "execution_count": 155,
   "metadata": {},
   "outputs": [
    {
     "name": "stdout",
     "output_type": "stream",
     "text": [
      "Model: \"sequential_16\"\n",
      "_________________________________________________________________\n",
      "Layer (type)                 Output Shape              Param #   \n",
      "=================================================================\n",
      "dense_176 (Dense)            (None, 256)               129792    \n",
      "_________________________________________________________________\n",
      "activation_176 (Activation)  (None, 256)               0         \n",
      "_________________________________________________________________\n",
      "dense_177 (Dense)            (None, 128)               32896     \n",
      "_________________________________________________________________\n",
      "activation_177 (Activation)  (None, 128)               0         \n",
      "_________________________________________________________________\n",
      "dense_178 (Dense)            (None, 128)               16512     \n",
      "_________________________________________________________________\n",
      "activation_178 (Activation)  (None, 128)               0         \n",
      "_________________________________________________________________\n",
      "dense_179 (Dense)            (None, 64)                8256      \n",
      "_________________________________________________________________\n",
      "activation_179 (Activation)  (None, 64)                0         \n",
      "_________________________________________________________________\n",
      "dense_180 (Dense)            (None, 32)                2080      \n",
      "_________________________________________________________________\n",
      "activation_180 (Activation)  (None, 32)                0         \n",
      "_________________________________________________________________\n",
      "dense_181 (Dense)            (None, 32)                1056      \n",
      "_________________________________________________________________\n",
      "activation_181 (Activation)  (None, 32)                0         \n",
      "_________________________________________________________________\n",
      "dense_182 (Dense)            (None, 32)                1056      \n",
      "_________________________________________________________________\n",
      "activation_182 (Activation)  (None, 32)                0         \n",
      "_________________________________________________________________\n",
      "dense_183 (Dense)            (None, 16)                528       \n",
      "_________________________________________________________________\n",
      "activation_183 (Activation)  (None, 16)                0         \n",
      "_________________________________________________________________\n",
      "dense_184 (Dense)            (None, 16)                272       \n",
      "_________________________________________________________________\n",
      "activation_184 (Activation)  (None, 16)                0         \n",
      "_________________________________________________________________\n",
      "dense_185 (Dense)            (None, 8)                 136       \n",
      "_________________________________________________________________\n",
      "activation_185 (Activation)  (None, 8)                 0         \n",
      "_________________________________________________________________\n",
      "dense_186 (Dense)            (None, 2)                 18        \n",
      "_________________________________________________________________\n",
      "activation_186 (Activation)  (None, 2)                 0         \n",
      "=================================================================\n",
      "Total params: 192,602\n",
      "Trainable params: 192,602\n",
      "Non-trainable params: 0\n",
      "_________________________________________________________________\n"
     ]
    }
   ],
   "source": [
    "model=Sequential()\n",
    "\n",
    "\n",
    "model.add(Dense(256,input_shape=(506,)))\n",
    "model.add(Activation('relu'))\n",
    "model.add(Dense(128))\n",
    "model.add(Activation('relu'))\n",
    "model.add(Dense(128))\n",
    "model.add(Activation('relu'))\n",
    "model.add(Dense(64))\n",
    "model.add(Activation('relu'))\n",
    "model.add(Dense(32))\n",
    "model.add(Activation('relu'))\n",
    "model.add(Dense(32))\n",
    "model.add(Activation('relu'))\n",
    "model.add(Dense(32))\n",
    "model.add(Activation('relu'))\n",
    "model.add(Dense(16))\n",
    "model.add(Activation('relu'))\n",
    "model.add(Dense(16))\n",
    "model.add(Activation('relu'))\n",
    "model.add(Dense(8))\n",
    "model.add(Activation('relu'))\n",
    "model.add(Dense(2))\n",
    "model.add(Activation('softmax'))\n",
    "model.summary()"
   ]
  },
  {
   "cell_type": "code",
   "execution_count": 156,
   "metadata": {},
   "outputs": [],
   "source": [
    "model.compile(optimizer='adam',loss='binary_crossentropy',metrics=['accuracy'])"
   ]
  },
  {
   "cell_type": "code",
   "execution_count": null,
   "metadata": {},
   "outputs": [
    {
     "name": "stdout",
     "output_type": "stream",
     "text": [
      "Epoch 1/100\n",
      "800/800 - 3s - loss: 0.0535 - accuracy: 0.9966 - val_loss: 0.0690 - val_accuracy: 0.9955\n",
      "Epoch 2/100\n",
      "800/800 - 2s - loss: 0.0518 - accuracy: 0.9966 - val_loss: 0.0690 - val_accuracy: 0.9955\n",
      "Epoch 3/100\n",
      "800/800 - 3s - loss: 0.0518 - accuracy: 0.9966 - val_loss: 0.0690 - val_accuracy: 0.9955\n",
      "Epoch 4/100\n",
      "800/800 - 3s - loss: 0.0518 - accuracy: 0.9966 - val_loss: 0.0690 - val_accuracy: 0.9955\n",
      "Epoch 5/100\n",
      "800/800 - 3s - loss: 0.0518 - accuracy: 0.9966 - val_loss: 0.0690 - val_accuracy: 0.9955\n",
      "Epoch 6/100\n",
      "800/800 - 3s - loss: 0.0518 - accuracy: 0.9966 - val_loss: 0.0690 - val_accuracy: 0.9955\n",
      "Epoch 7/100\n",
      "800/800 - 3s - loss: 0.0518 - accuracy: 0.9966 - val_loss: 0.0690 - val_accuracy: 0.9955\n",
      "Epoch 8/100\n",
      "800/800 - 4s - loss: 0.0518 - accuracy: 0.9966 - val_loss: 0.0690 - val_accuracy: 0.9955\n",
      "Epoch 9/100\n",
      "800/800 - 4s - loss: 0.0518 - accuracy: 0.9966 - val_loss: 0.0690 - val_accuracy: 0.9955\n",
      "Epoch 10/100\n",
      "800/800 - 3s - loss: 0.0518 - accuracy: 0.9966 - val_loss: 0.0690 - val_accuracy: 0.9955\n",
      "Epoch 11/100\n",
      "800/800 - 3s - loss: 0.0518 - accuracy: 0.9966 - val_loss: 0.0690 - val_accuracy: 0.9955\n",
      "Epoch 12/100\n",
      "800/800 - 3s - loss: 0.0518 - accuracy: 0.9966 - val_loss: 0.0690 - val_accuracy: 0.9955\n",
      "Epoch 13/100\n",
      "800/800 - 3s - loss: 0.0518 - accuracy: 0.9966 - val_loss: 0.0690 - val_accuracy: 0.9955\n",
      "Epoch 14/100\n",
      "800/800 - 3s - loss: 0.0518 - accuracy: 0.9966 - val_loss: 0.0690 - val_accuracy: 0.9955\n",
      "Epoch 15/100\n",
      "800/800 - 3s - loss: 0.0518 - accuracy: 0.9966 - val_loss: 0.0690 - val_accuracy: 0.9955\n",
      "Epoch 16/100\n",
      "800/800 - 3s - loss: 0.0518 - accuracy: 0.9966 - val_loss: 0.0690 - val_accuracy: 0.9955\n",
      "Epoch 17/100\n",
      "800/800 - 3s - loss: 0.0518 - accuracy: 0.9966 - val_loss: 0.0690 - val_accuracy: 0.9955\n",
      "Epoch 18/100\n",
      "800/800 - 3s - loss: 0.0518 - accuracy: 0.9966 - val_loss: 0.0690 - val_accuracy: 0.9955\n",
      "Epoch 19/100\n",
      "800/800 - 3s - loss: 0.0518 - accuracy: 0.9966 - val_loss: 0.0690 - val_accuracy: 0.9955\n",
      "Epoch 20/100\n",
      "800/800 - 3s - loss: 0.0518 - accuracy: 0.9966 - val_loss: 0.0690 - val_accuracy: 0.9955\n",
      "Epoch 21/100\n",
      "800/800 - 3s - loss: 0.0518 - accuracy: 0.9966 - val_loss: 0.0690 - val_accuracy: 0.9955\n",
      "Epoch 22/100\n",
      "800/800 - 3s - loss: 0.0518 - accuracy: 0.9966 - val_loss: 0.0690 - val_accuracy: 0.9955\n",
      "Epoch 23/100\n",
      "800/800 - 3s - loss: 0.0518 - accuracy: 0.9966 - val_loss: 0.0690 - val_accuracy: 0.9955\n",
      "Epoch 24/100\n",
      "800/800 - 3s - loss: 0.0518 - accuracy: 0.9966 - val_loss: 0.0690 - val_accuracy: 0.9955\n",
      "Epoch 25/100\n",
      "800/800 - 3s - loss: 0.0518 - accuracy: 0.9966 - val_loss: 0.0690 - val_accuracy: 0.9955\n",
      "Epoch 26/100\n",
      "800/800 - 3s - loss: 0.0518 - accuracy: 0.9966 - val_loss: 0.0690 - val_accuracy: 0.9955\n",
      "Epoch 27/100\n",
      "800/800 - 3s - loss: 0.0518 - accuracy: 0.9966 - val_loss: 0.0690 - val_accuracy: 0.9955\n",
      "Epoch 28/100\n",
      "800/800 - 4s - loss: 0.0518 - accuracy: 0.9966 - val_loss: 0.0690 - val_accuracy: 0.9955\n",
      "Epoch 29/100\n",
      "800/800 - 4s - loss: 0.0518 - accuracy: 0.9966 - val_loss: 0.0690 - val_accuracy: 0.9955\n",
      "Epoch 30/100\n",
      "800/800 - 3s - loss: 0.0518 - accuracy: 0.9966 - val_loss: 0.0690 - val_accuracy: 0.9955\n",
      "Epoch 31/100\n",
      "800/800 - 3s - loss: 0.0518 - accuracy: 0.9966 - val_loss: 0.0690 - val_accuracy: 0.9955\n",
      "Epoch 32/100\n",
      "800/800 - 3s - loss: 0.0518 - accuracy: 0.9966 - val_loss: 0.0690 - val_accuracy: 0.9955\n",
      "Epoch 33/100\n",
      "800/800 - 3s - loss: 0.0518 - accuracy: 0.9966 - val_loss: 0.0690 - val_accuracy: 0.9955\n",
      "Epoch 34/100\n",
      "800/800 - 3s - loss: 0.0518 - accuracy: 0.9966 - val_loss: 0.0690 - val_accuracy: 0.9955\n",
      "Epoch 35/100\n",
      "800/800 - 3s - loss: 0.0518 - accuracy: 0.9966 - val_loss: 0.0690 - val_accuracy: 0.9955\n",
      "Epoch 36/100\n",
      "800/800 - 4s - loss: 0.0518 - accuracy: 0.9966 - val_loss: 0.0690 - val_accuracy: 0.9955\n",
      "Epoch 37/100\n",
      "800/800 - 3s - loss: 0.0518 - accuracy: 0.9966 - val_loss: 0.0690 - val_accuracy: 0.9955\n",
      "Epoch 38/100\n",
      "800/800 - 3s - loss: 0.0518 - accuracy: 0.9966 - val_loss: 0.0690 - val_accuracy: 0.9955\n",
      "Epoch 39/100\n",
      "800/800 - 3s - loss: 0.0518 - accuracy: 0.9966 - val_loss: 0.0690 - val_accuracy: 0.9955\n",
      "Epoch 40/100\n",
      "800/800 - 3s - loss: 0.0518 - accuracy: 0.9966 - val_loss: 0.0690 - val_accuracy: 0.9955\n",
      "Epoch 41/100\n",
      "800/800 - 3s - loss: 0.0518 - accuracy: 0.9966 - val_loss: 0.0690 - val_accuracy: 0.9955\n",
      "Epoch 42/100\n",
      "800/800 - 3s - loss: 0.0518 - accuracy: 0.9966 - val_loss: 0.0690 - val_accuracy: 0.9955\n",
      "Epoch 43/100\n",
      "800/800 - 4s - loss: 0.0518 - accuracy: 0.9966 - val_loss: 0.0690 - val_accuracy: 0.9955\n",
      "Epoch 44/100\n",
      "800/800 - 4s - loss: 0.0518 - accuracy: 0.9966 - val_loss: 0.0690 - val_accuracy: 0.9955\n",
      "Epoch 45/100\n",
      "800/800 - 3s - loss: 0.0518 - accuracy: 0.9966 - val_loss: 0.0690 - val_accuracy: 0.9955\n",
      "Epoch 46/100\n",
      "800/800 - 3s - loss: 0.0518 - accuracy: 0.9966 - val_loss: 0.0690 - val_accuracy: 0.9955\n",
      "Epoch 47/100\n",
      "800/800 - 3s - loss: 0.0518 - accuracy: 0.9966 - val_loss: 0.0690 - val_accuracy: 0.9955\n",
      "Epoch 48/100\n",
      "800/800 - 4s - loss: 0.0518 - accuracy: 0.9966 - val_loss: 0.0690 - val_accuracy: 0.9955\n",
      "Epoch 49/100\n",
      "800/800 - 3s - loss: 0.0518 - accuracy: 0.9966 - val_loss: 0.0690 - val_accuracy: 0.9955\n",
      "Epoch 50/100\n",
      "800/800 - 3s - loss: 0.0518 - accuracy: 0.9966 - val_loss: 0.0690 - val_accuracy: 0.9955\n",
      "Epoch 51/100\n",
      "800/800 - 3s - loss: 0.0518 - accuracy: 0.9966 - val_loss: 0.0690 - val_accuracy: 0.9955\n",
      "Epoch 52/100\n",
      "800/800 - 3s - loss: 0.0518 - accuracy: 0.9966 - val_loss: 0.0690 - val_accuracy: 0.9955\n",
      "Epoch 53/100\n",
      "800/800 - 4s - loss: 0.0518 - accuracy: 0.9966 - val_loss: 0.0690 - val_accuracy: 0.9955\n",
      "Epoch 54/100\n",
      "800/800 - 4s - loss: 0.0518 - accuracy: 0.9966 - val_loss: 0.0690 - val_accuracy: 0.9955\n",
      "Epoch 55/100\n",
      "800/800 - 3s - loss: 0.0518 - accuracy: 0.9966 - val_loss: 0.0690 - val_accuracy: 0.9955\n",
      "Epoch 56/100\n",
      "800/800 - 4s - loss: 0.0518 - accuracy: 0.9966 - val_loss: 0.0690 - val_accuracy: 0.9955\n",
      "Epoch 57/100\n",
      "800/800 - 4s - loss: 0.0518 - accuracy: 0.9966 - val_loss: 0.0690 - val_accuracy: 0.9955\n",
      "Epoch 58/100\n",
      "800/800 - 4s - loss: 0.0518 - accuracy: 0.9966 - val_loss: 0.0690 - val_accuracy: 0.9955\n",
      "Epoch 59/100\n",
      "800/800 - 3s - loss: 0.0518 - accuracy: 0.9966 - val_loss: 0.0690 - val_accuracy: 0.9955\n",
      "Epoch 60/100\n",
      "800/800 - 3s - loss: 0.0518 - accuracy: 0.9966 - val_loss: 0.0690 - val_accuracy: 0.9955\n",
      "Epoch 61/100\n",
      "800/800 - 3s - loss: 0.0518 - accuracy: 0.9966 - val_loss: 0.0690 - val_accuracy: 0.9955\n",
      "Epoch 62/100\n",
      "800/800 - 3s - loss: 0.0518 - accuracy: 0.9966 - val_loss: 0.0690 - val_accuracy: 0.9955\n",
      "Epoch 63/100\n",
      "800/800 - 4s - loss: 0.0518 - accuracy: 0.9966 - val_loss: 0.0690 - val_accuracy: 0.9955\n",
      "Epoch 64/100\n",
      "800/800 - 3s - loss: 0.0518 - accuracy: 0.9966 - val_loss: 0.0690 - val_accuracy: 0.9955\n",
      "Epoch 65/100\n",
      "800/800 - 3s - loss: 0.0518 - accuracy: 0.9966 - val_loss: 0.0690 - val_accuracy: 0.9955\n",
      "Epoch 66/100\n",
      "800/800 - 4s - loss: 0.0518 - accuracy: 0.9966 - val_loss: 0.0690 - val_accuracy: 0.9955\n",
      "Epoch 67/100\n",
      "800/800 - 4s - loss: 0.0518 - accuracy: 0.9966 - val_loss: 0.0690 - val_accuracy: 0.9955\n",
      "Epoch 68/100\n",
      "800/800 - 4s - loss: 0.0518 - accuracy: 0.9966 - val_loss: 0.0690 - val_accuracy: 0.9955\n",
      "Epoch 69/100\n",
      "800/800 - 4s - loss: 0.0518 - accuracy: 0.9966 - val_loss: 0.0690 - val_accuracy: 0.9955\n",
      "Epoch 70/100\n",
      "800/800 - 4s - loss: 0.0518 - accuracy: 0.9966 - val_loss: 0.0690 - val_accuracy: 0.9955\n",
      "Epoch 71/100\n",
      "800/800 - 3s - loss: 0.0518 - accuracy: 0.9966 - val_loss: 0.0690 - val_accuracy: 0.9955\n",
      "Epoch 72/100\n",
      "800/800 - 3s - loss: 0.0518 - accuracy: 0.9966 - val_loss: 0.0690 - val_accuracy: 0.9955\n",
      "Epoch 73/100\n",
      "800/800 - 4s - loss: 0.0518 - accuracy: 0.9966 - val_loss: 0.0690 - val_accuracy: 0.9955\n",
      "Epoch 74/100\n",
      "800/800 - 4s - loss: 0.0518 - accuracy: 0.9966 - val_loss: 0.0690 - val_accuracy: 0.9955\n",
      "Epoch 75/100\n",
      "800/800 - 3s - loss: 0.0518 - accuracy: 0.9966 - val_loss: 0.0690 - val_accuracy: 0.9955\n",
      "Epoch 76/100\n",
      "800/800 - 3s - loss: 0.0518 - accuracy: 0.9966 - val_loss: 0.0690 - val_accuracy: 0.9955\n",
      "Epoch 77/100\n",
      "800/800 - 4s - loss: 0.0518 - accuracy: 0.9966 - val_loss: 0.0690 - val_accuracy: 0.9955\n",
      "Epoch 78/100\n",
      "800/800 - 4s - loss: 0.0518 - accuracy: 0.9966 - val_loss: 0.0690 - val_accuracy: 0.9955\n",
      "Epoch 79/100\n",
      "800/800 - 4s - loss: 0.0518 - accuracy: 0.9966 - val_loss: 0.0690 - val_accuracy: 0.9955\n",
      "Epoch 80/100\n",
      "800/800 - 5s - loss: 0.0518 - accuracy: 0.9966 - val_loss: 0.0690 - val_accuracy: 0.9955\n",
      "Epoch 81/100\n",
      "800/800 - 3s - loss: 0.0518 - accuracy: 0.9966 - val_loss: 0.0690 - val_accuracy: 0.9955\n",
      "Epoch 82/100\n",
      "800/800 - 4s - loss: 0.0518 - accuracy: 0.9966 - val_loss: 0.0690 - val_accuracy: 0.9955\n",
      "Epoch 83/100\n",
      "800/800 - 4s - loss: 0.0518 - accuracy: 0.9966 - val_loss: 0.0690 - val_accuracy: 0.9955\n",
      "Epoch 84/100\n",
      "800/800 - 4s - loss: 0.0518 - accuracy: 0.9966 - val_loss: 0.0690 - val_accuracy: 0.9955\n",
      "Epoch 85/100\n",
      "800/800 - 3s - loss: 0.0518 - accuracy: 0.9966 - val_loss: 0.0690 - val_accuracy: 0.9955\n",
      "Epoch 86/100\n",
      "800/800 - 4s - loss: 0.0518 - accuracy: 0.9966 - val_loss: 0.0690 - val_accuracy: 0.9955\n",
      "Epoch 87/100\n",
      "800/800 - 4s - loss: 0.0518 - accuracy: 0.9966 - val_loss: 0.0690 - val_accuracy: 0.9955\n",
      "Epoch 88/100\n",
      "800/800 - 4s - loss: 0.0518 - accuracy: 0.9966 - val_loss: 0.0690 - val_accuracy: 0.9955\n",
      "Epoch 89/100\n"
     ]
    }
   ],
   "source": [
    "hist1 = model.fit(X,Y_train,10,100,verbose=2,validation_data=(XT,Y_test))"
   ]
  },
  {
   "cell_type": "code",
   "execution_count": 107,
   "metadata": {},
   "outputs": [
    {
     "data": {
      "text/plain": [
       "[0.0365942046046257, 0.9950000047683716]"
      ]
     },
     "execution_count": 107,
     "metadata": {},
     "output_type": "execute_result"
    }
   ],
   "source": [
    "train_acc = model.evaluate(X, Y_train, verbose=0)\n",
    "test_acc = model.evaluate(XT, Y_test, verbose=0)\n",
    "test_acc"
   ]
  },
  {
   "cell_type": "markdown",
   "metadata": {},
   "source": [
    "## Comparison of3 Models"
   ]
  },
  {
   "cell_type": "code",
   "execution_count": 108,
   "metadata": {},
   "outputs": [
    {
     "data": {
      "image/png": "[encoded data removed]",
      "text/plain": [
       "<Figure size 432x288 with 1 Axes>"
      ]
     },
     "metadata": {
      "needs_background": "light"
     },
     "output_type": "display_data"
    }
   ],
   "source": [
    "pyplot.subplot(212)\n",
    "pyplot.title('Accuracy')\n",
    "pyplot.plot(hist.history['val_accuracy'], label='boon_test')\n",
    "pyplot.plot(history.history['val_accuracy'], label='eeg_test')\n",
    "pyplot.plot(hist1.history['val_accuracy'], label='chb')\n",
    "pyplot.legend()\n",
    "pyplot.show()"
   ]
  },
  {
   "cell_type": "code",
   "execution_count": null,
   "metadata": {},
   "outputs": [],
   "source": []
  }
 ],
 "metadata": {
  "colab": {
   "collapsed_sections": [],
   "name": "Best_of_ANN.ipynb",
   "provenance": []
  },
  "kernelspec": {
   "display_name": "Python 3",
   "language": "python",
   "name": "python3"
  },
  "language_info": {
   "codemirror_mode": {
    "name": "ipython",
    "version": 3
   },
   "file_extension": ".py",
   "mimetype": "text/x-python",
   "name": "python",
   "nbconvert_exporter": "python",
   "pygments_lexer": "ipython3",
   "version": "3.8.5"
  }
 },
 "nbformat": 4,
 "nbformat_minor": 1
}
